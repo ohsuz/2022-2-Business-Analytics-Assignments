{
 "cells": [
  {
   "cell_type": "markdown",
   "id": "07fb77f3",
   "metadata": {},
   "source": [
    "# 🌊 Deep Dive Into Isolation Forest\n",
    "> **작성자 : 오수지 (2022020660)**\n",
    "\n",
    "안녕하세요, 고려대학교 산업경영공학부 DSBA 연구실 석사과정 오수지입니다.  \n",
    "이번 노트북 튜토리얼에선 Model-based Anomaly Detection 방법론, 그 중에서도 **`Isolation Forest`**에 대해 코드를 통해 알아볼 예정입니다. (🔎 Anomaly Detection에 대한 기본적인 내용은 [유튜브 튜토리얼 영상](https://youtu.be/XshinhpMrLQ)을 참고해주세요.)\n",
    "\n",
    "Isolation Forest는 매우 직관적이고, 이상치 탐지 대회에서 아직까지도 많이 사용되고 있는 방법론인데요! 여러 개의 Decision Tree를 지속적으로 분기시키면서 모든 데이터 관측치의 고립 정도 여부에 따라 이상치를 판별하는 방법입니다. 쉽게 생각해보자면 이상치 데이터일수록 다른 정상 데이터와 다른 특성을 띌테니 빨리 고립될 것이고, 정상 데이터일수록 서로서로 비슷비슷할테니 늦게 고립되겠죠?! 즉, **특정 데이터가 고립되는 leaf node까지의 거리**를 `Anomaly Score`로 정의하고, 일찍 고립될수록, 즉 root node로부터 leaf node까지의 평균 거리가 짧을수록 anomaly score가 높아지게 됩니다.\n",
    "\n",
    "근데 수업을 들으면서도, 유튜브 동영상을 만들면서도 전 한 가지 의문점이 들었습니다. 분기의 기준이 되는 Attribute를 랜덤하게 선택하지 않으면 어떨까요?  Isolation Forest는 Decision Tree를 기반으로 하는 방법론이고, Decision Tree의 분기 기준은 Information gain, Gini Impurity, Chi-Square 등 여러가지가 있는만큼 만약 랜덤하게 하지 않으면 결과가 달라지지 않을까요?\n",
    "\n",
    "그러기 위해서 일단 (1) Isolation Forest를 Scratch부터 구현한 레포를 pseudo code와 대조해가며 line by line으로 이해를 하고, (2) Information Gain을 기준으로 분기하는 코드를 추가한 다음 (3) 두 방식간 성능 차이를 확인해보겠습니다 😀\n",
    "\n",
    "<img src=\"images/if.png\" width=\"600\">\n",
    "\n",
    "**📌 이번 튜토리얼의 목표**\n",
    ">1. Isolation Forest from Scratch\n",
    ">2. Isolation Forest without Randomness from Scratch\n",
    ">3. 1, 2번 간 성능 비교\n",
    "\n",
    "**📌 Reference**\n",
    "- https://github.com/mgckind/iso_forest\n",
    "- https://github.com/sahandha/eif\n",
    "- https://hongl.tistory.com/150"
   ]
  },
  {
   "cell_type": "markdown",
   "id": "9cfcee65",
   "metadata": {},
   "source": [
    "## 🛠 환경 설정"
   ]
  },
  {
   "cell_type": "code",
   "execution_count": 1,
   "id": "81e05b45",
   "metadata": {},
   "outputs": [],
   "source": [
    "import numpy as np\n",
    "import pandas as pd\n",
    "import random\n",
    "import math\n",
    "from tqdm.auto import tqdm\n",
    "import os\n",
    "os.environ[\"TOKENIZERS_PARALLELISM\"] = \"false\"\n",
    "import warnings\n",
    "warnings.filterwarnings(action='ignore') \n",
    "import copy\n",
    "import seaborn as sb\n",
    "import matplotlib.pyplot as plt\n",
    "sb.set_style(style=\"whitegrid\")\n",
    "sb.set_color_codes()\n",
    "from sklearn.metrics import f1_score"
   ]
  },
  {
   "cell_type": "code",
   "execution_count": 2,
   "id": "1066eaa9",
   "metadata": {},
   "outputs": [],
   "source": [
    "def seed_everything(seed: int = 1201):\n",
    "    random.seed(seed)\n",
    "    np.random.seed(seed)\n",
    "    os.environ[\"PYTHONHASHSEED\"] = str(seed)\n",
    "    \n",
    "seed_everything()"
   ]
  },
  {
   "cell_type": "markdown",
   "id": "b787c73a",
   "metadata": {},
   "source": [
    "## 1️⃣ 데이터 준비\n",
    "> Dacon에서 열린 **`월간 데이콘 신용카드 사기 거래 탐지 AI 경진대회`**의 신용카드 거래 데이터를 사용하겠습니다! (대회에서 제공한 데이터의 원 출처는 대회 데이터 설명 탭에 나와있습니다.) \n",
    "\n",
    "**1. 학습(Train) 데이터셋 (113842개)**  \n",
    "\n",
    "파일명: train.csv  \n",
    "설명: 정상, 사기 거래의 여부를 알 수 없는(대부분 정상 거래) 신용 카드 데이터 (Unlabeled)  \n",
    "ID : 신용 카드 거래 ID  \n",
    "Column ('V1', 'V2', 'V3', ... ,'V30) : 비식별화된 신용 카드 거래 Feature  \n",
    "\n",
    "\n",
    "**2. 검증(Validation) 데이터셋 (28462개)**   \n",
    "\n",
    "파일명: val.csv  \n",
    "설명: 정상, 사기 거래의 여부가 포함된 신용 카드 데이터\n",
    "ID : 신용 카드 거래 ID   \n",
    "Column ('V1', 'V2', 'V3', ... ,'V30) : 비식별화된 신용 카드 거래 Feature  \n",
    "Class : 신용 카드 거래의 정상, 사기 여부 (정상 : 0, 사기 : 1)  "
   ]
  },
  {
   "cell_type": "code",
   "execution_count": 3,
   "id": "85e8c98b",
   "metadata": {},
   "outputs": [],
   "source": [
    "train_dataset = pd.read_csv(\"./data/credit_card_fraud_detection/train.csv\")\n",
    "val_dataset = pd.read_csv(\"./data/credit_card_fraud_detection/val.csv\")"
   ]
  },
  {
   "cell_type": "code",
   "execution_count": 4,
   "id": "0f24b2da",
   "metadata": {},
   "outputs": [],
   "source": [
    "train_dataset = train_dataset.drop(columns=['ID'])\n",
    "val_dataset_label = val_dataset['Class']\n",
    "val_dataset_attributes = val_dataset.drop(columns=['Class', 'ID'])"
   ]
  },
  {
   "cell_type": "markdown",
   "id": "251d7add",
   "metadata": {},
   "source": [
    "## 1️⃣ Isolation Forest from Scratch\n",
    "> 코드는 https://github.com/mgckind/iso_forest 에서 가져왔습니다. 다만, 코드에 주석이 없어 알고리즘을 알고 코드를 봐도 이해가 어렵습니다. 그래서 본 목차는 위의 코드를 기반으로 신용카드 거래 데이터셋에 맞는 추가적인 리팩토링 및 pseudo code와 함께 line by line으로 함께 이해하는 것이 목표입니다."
   ]
  },
  {
   "cell_type": "markdown",
   "id": "3573dbad",
   "metadata": {},
   "source": [
    "### 🔎 Node\n",
    "> Tree의 각 Node에는 어떤 정보가 포함될까요?\n",
    "- 여기서 `External Node`란 자식 노드가 없는 노드(즉, Leaf Node), `Internal Node`란 적어도 하나의 자식 노드가 있는 노드를 뜻합니다."
   ]
  },
  {
   "cell_type": "code",
   "execution_count": 5,
   "id": "1bcc77a3",
   "metadata": {},
   "outputs": [],
   "source": [
    "class Node(object):\n",
    "    def __init__(self, X, q, p, e, left, right, node_type = ''):\n",
    "        self.e = e  # 현재 tree height\n",
    "        self.size = len(X) # 데이터에 포함된 object 개수\n",
    "        self.q = q  # split attribute\n",
    "        self.p = p  # split point\n",
    "        self.left = left  # 현재 Node의 Left Node\n",
    "        self.right = right  # 현재 Node의 Right Node\n",
    "        self.ntype = node_type  # 현재 Node의 Type (External Node or Internal Node)"
   ]
  },
  {
   "cell_type": "markdown",
   "id": "3e0bf5e0",
   "metadata": {},
   "source": [
    "### 🔎 iTree\n",
    "<img src=\"images/if_itree.png\" width=\"450\">"
   ]
  },
  {
   "cell_type": "code",
   "execution_count": 6,
   "id": "5d103390",
   "metadata": {},
   "outputs": [],
   "source": [
    "class iTree(object):\n",
    "    def __init__(self, X, e, l):\n",
    "        self.e = e  # 현재 tree height\n",
    "        self.X = X  # 데이터\n",
    "        self.size = len(X) # 데이터에 포함된 object 개수\n",
    "        self.Q = list(X.columns)  # 데이터의 attributes (pseudo code 4)\n",
    "        self.l = l  # 종료 조건에 사용될 tree의 height limit\n",
    "        self.p = None  # split point (max(values of q), min(values of q) 중 랜덤하게 선택됨)\n",
    "        self.q = None  # split attribute (Q에서 랜덤하게 선택됨)\n",
    "        self.exnodes = 0  # external node\n",
    "        self.root = self.make_tree(X, e, l)\n",
    "        \n",
    "\n",
    "    def make_tree(self, X, e, l, split_criteria='random'):\n",
    "        self.e = e\n",
    "        \n",
    "        # [pseudo code 1~2] 종료 조건 \n",
    "        # 1. 현재 tree height이 사전 지정한 height limit에 도달한 경우\n",
    "        # 2. leaf node에 데이터가 한개만 남겨진 경우\n",
    "        if e >= l or len(X) <= 1:\n",
    "            left = None\n",
    "            right = None\n",
    "            self.exnodes += 1\n",
    "            return Node(X, self.q, self.p, e, left, right, node_type = 'exNode')\n",
    "        else:\n",
    "            # [pseudo code 5] Split하는 기준이 되는 Attribute를 데이터의 Attributes 중에서 랜덤하게 선택\n",
    "            self.q = random.choice(self.Q)\n",
    "            mini = X[:][self.q].min()\n",
    "            maxi = X[:][self.q].max()\n",
    "            if mini==maxi:\n",
    "                left = None\n",
    "                right = None\n",
    "                self.exnodes += 1\n",
    "                return Node(X, self.q, self.p, e, left, right, node_type = 'exNode' )\n",
    "            \n",
    "            # [pseudo code 6] Split Point를 min(values of q), max(values of q) 중 랜덤하게 선택\n",
    "            self.p = random.uniform(mini, maxi)\n",
    "            \n",
    "            # [pseudo code 7~8] q가 p보다 작은 데이터들은 left node로, q가 p보다 같거나 큰 데이터들은 right node로 지정\n",
    "            # 위와 같은 과정들을 재귀적으로 분기 진행\n",
    "            w = np.where(X[:][self.q] < self.p, True, False)\n",
    "            # [pseudo code 9~12] \n",
    "            return Node(X, self.q, self.p, e,\\\n",
    "                        left=self.make_tree(X[w], e+1, l),\\\n",
    "                        right=self.make_tree(X[~w], e+1, l),\\\n",
    "                        node_type = 'inNode')\n",
    "\n",
    "    def get_node(self, path):\n",
    "        node = self.root\n",
    "        for p in path:\n",
    "            if p == 'L' : node = node.left\n",
    "            if p == 'R' : node = node.right\n",
    "        return node"
   ]
  },
  {
   "cell_type": "markdown",
   "id": "21d617f6",
   "metadata": {},
   "source": [
    "### 🔎 iForest\n",
    "> 그럼 이제 위에서 구축된 Isolation Tree를 가지고 본격적으로 Forest를 구축해보겠습니다! Isolation Forest란 말그대로 여러 Isolation Tree로 구성된 숲을 뜻합니다. 위에서 확인했다싶이 뭐든지 랜덤하게 선택되고, 랜덤하게 분기하니까 하나의 Tree로 얻어진 Anomaly Score를 사용하면 성능이 좋지 않겠죠..?! 그러므로 여러 Tree를 통해 얻은 Anomaly Score를 최종적으로 평균내서 사용하게 됩니다.\n",
    "\n",
    "\n",
    "<img src=\"images/if_iforest.png\" width=\"450\">"
   ]
  },
  {
   "cell_type": "code",
   "execution_count": 7,
   "id": "f2ece9e1",
   "metadata": {},
   "outputs": [],
   "source": [
    "def c_factor(n) :\n",
    "    return 2.0*(np.log(n-1)+0.5772156649) - (2.0*(n-1.)/(n*1.0))"
   ]
  },
  {
   "cell_type": "code",
   "execution_count": 8,
   "id": "df1a6b6e",
   "metadata": {},
   "outputs": [],
   "source": [
    "class iForest(object):\n",
    "    def __init__(self, X, ntrees, sample_size, limit=None):\n",
    "        self.ntrees = ntrees  # 몇 개의 Tree로 숲을 구성할지 결정\n",
    "        self.X = X\n",
    "        self.nobjs = len(X)\n",
    "        self.sample = sample_size  # 샘플링 사이즈 (몇 개의 데이터를 이용해 각 tree를 학습할지)\n",
    "        self.Trees = []\n",
    "        self.limit = limit\n",
    "        # [pseudo code 2]\n",
    "        #  height limit 설정 (iTree를 구축할 때 종료 조건에 활용될 변수)\n",
    "        if limit is None:\n",
    "            self.limit = int(np.ceil(np.log2(self.sample)))\n",
    "        self.c = c_factor(self.sample)\n",
    "        # [pseudo code 3~6]\n",
    "        # 사전 설정한 Tree 개수에 따라 각 Tree별 랜덤하게 데이터 샘플링 후, iTree 구축\n",
    "        for i in tqdm(range(self.ntrees), desc=\"Constructing Tree...\"):\n",
    "            ix = random.sample(range(self.nobjs), self.sample)\n",
    "            X_p = X.loc[ix]\n",
    "            self.Trees.append(iTree(X_p, 0, self.limit))\n",
    "\n",
    "    def compute_paths(self, X_in = None):\n",
    "        if X_in is None:\n",
    "            X_in = self.X\n",
    "        S = np.zeros(len(X_in))\n",
    "        for i in  tqdm(range(len(X_in)), desc=\"Computing path...\"):\n",
    "            h_temp = 0\n",
    "            for j in range(self.ntrees):\n",
    "                h_temp += PathFactor(X_in.loc[i], self.Trees[j]).path*1.0\n",
    "            \"\"\"\n",
    "            Anomaly Score 계산식\n",
    "            Eh = 전체 Tree에 대해 특정 Leaf Node(데이터)까지의 평균 길이 \n",
    "            높을수록 데이터를 고립시키는데 많은 분기가 필요 → 정상데이터일 확률 ⬆\n",
    "            낮을수록 데이터를 고립시키는데 적은 분기가 필요 → 이상치일 확률 ⬆\n",
    "            \"\"\"\n",
    "            Eh = h_temp / self.ntrees\n",
    "            S[i] = 2.0**(-Eh/self.c)\n",
    "        return S"
   ]
  },
  {
   "cell_type": "markdown",
   "id": "95c20354",
   "metadata": {},
   "source": [
    "### 🔎 Path Length\n",
    "> 이상치 여부를 판단하기 위해선 각 Tree 별 데이터가 고립되기까지의 평균 길이 (즉, 루트 노드로부터 데이터 노드까지의 거리)를 계산해야 합니다.    \n",
    "\n",
    "<img src=\"images/if_pathlength.png\" width=\"450\">\n",
    "\n",
    "\n",
    "> 💡 특히 처음 강의 자료에서 pseudo code만 보았을 땐 #1~#2이 무엇을 위한 건지 이해가 안됐는데 **height limit에 의해 분기가 중단되어 고려되지 못한 실질적인 depth를 반영하기 위해** 각 데이터 별로 c값을 더해주는 거라고 합니다!  \n",
    "\n",
    "> 만약 leaf node에 포함된 데이터가 1개라면 완벽히 고립된 것이므로 c=1로 두고, 1개보다 크다면 height limit으로 인해 더 이상 분기하지 못한 것이니 아래와 같은 식으로 정의합니다. 이렇게 구한 c값을 각 데이터 별 leaf node의 depth에 더해주면 각 데이터 별 평균 길이를 각 Tree별로 보정하는 효과를 낼 수 있습니다.\n",
    "\n",
    "<img src=\"images/if_c.png\" width=\"300\">"
   ]
  },
  {
   "cell_type": "code",
   "execution_count": 9,
   "id": "89fff815",
   "metadata": {},
   "outputs": [],
   "source": [
    "class PathFactor(object):\n",
    "    def __init__(self, x, itree):\n",
    "        self.path_list=[]        \n",
    "        self.x = x\n",
    "        self.e = 0\n",
    "        self.path = self.find_path(itree.root)\n",
    "\n",
    "    def find_path(self,T):\n",
    "        if T.ntype == 'exNode':\n",
    "            # [pseudo code 1~3]\n",
    "            # Case 1 : leaf node에 데이터가 한개만 존재하는 완전히 고립된 상태 => Current Tree Path를 그대로 반환\n",
    "            if T.size == 1: return self.e\n",
    "            # Case 2 : leaf node에 데이터가 두개 이상 존재하는 완전히 고립되지 못한 상태 => Current Tree Path + c_factor 반환\n",
    "            else:\n",
    "                self.e = self.e + c_factor(T.size)\n",
    "                return self.e\n",
    "        else:\n",
    "            a = T.q  # [pseudo code 4]\n",
    "            self.e += 1\n",
    "            # [pseudo code 5~10]\n",
    "            if self.x[a] < T.p:\n",
    "                self.path_list.append('L')\n",
    "                return self.find_path(T.left)\n",
    "            else:\n",
    "                self.path_list.append('R')\n",
    "                return self.find_path(T.right)"
   ]
  },
  {
   "cell_type": "markdown",
   "id": "c0d04ad1",
   "metadata": {},
   "source": [
    "### 🔎 결과 확인\n",
    "> tree 개수와 sample size에 따른 성능 변화를 확인해봤지만, seed에 따라 성능이 가장 좋은 설정과 낮은 설정에 변동이 커서 결과 해석은 생략했습니다."
   ]
  },
  {
   "cell_type": "code",
   "execution_count": 10,
   "id": "6c3ca365",
   "metadata": {},
   "outputs": [],
   "source": [
    "def visualize(anomaly_score):\n",
    "    # Anomaly Distribution을 시각화\n",
    "    f, axes = plt.subplots(1, 1, figsize=(7, 7), sharex=True)\n",
    "    sb.distplot(anomaly_score, kde=True, color=\"b\", ax=axes, axlabel='anomaly score')\n",
    "        \n",
    "def show_result(anomaly_score, threshold=[0.5, 0.6, 0.7, 0.8, 0.9]):\n",
    "    f1_scores = {}\n",
    "    for t in threshold:\n",
    "        result = np.where(anomaly_score >= t, 1, 0)\n",
    "        f1_scores[t] = round(f1_score(val_dataset_label, result, average='macro'), 3)\n",
    "    for t in f1_scores.keys():\n",
    "        print(f'Threshold: {t} => Macro F1-Score: {f1_scores[t]}')\n",
    "    print(f'⭐️ Best F1-Score : {sorted(f1_scores.items(), reverse=True, key=lambda item: item[1])[0][1]}')"
   ]
  },
  {
   "cell_type": "markdown",
   "id": "9f3e6cc2",
   "metadata": {},
   "source": [
    "- **tree 개수에 따른 성능 변화**"
   ]
  },
  {
   "cell_type": "code",
   "execution_count": 11,
   "id": "4bf8d496",
   "metadata": {
    "scrolled": true
   },
   "outputs": [
    {
     "name": "stdout",
     "output_type": "stream",
     "text": [
      "====================================================================================================\n",
      "Number of 🌳 : 10\n"
     ]
    },
    {
     "data": {
      "application/vnd.jupyter.widget-view+json": {
       "model_id": "3934037546cd45b18786e5c692479163",
       "version_major": 2,
       "version_minor": 0
      },
      "text/plain": [
       "Constructing Tree...:   0%|          | 0/10 [00:00<?, ?it/s]"
      ]
     },
     "metadata": {},
     "output_type": "display_data"
    },
    {
     "data": {
      "application/vnd.jupyter.widget-view+json": {
       "model_id": "0ed234cb1629464a84e263b69c76d538",
       "version_major": 2,
       "version_minor": 0
      },
      "text/plain": [
       "Computing path...:   0%|          | 0/28462 [00:00<?, ?it/s]"
      ]
     },
     "metadata": {},
     "output_type": "display_data"
    },
    {
     "name": "stdout",
     "output_type": "stream",
     "text": [
      "Threshold: 0.5 => Macro F1-Score: 0.511\n",
      "Threshold: 0.6 => Macro F1-Score: 0.566\n",
      "Threshold: 0.7 => Macro F1-Score: 0.648\n",
      "Threshold: 0.8 => Macro F1-Score: 0.5\n",
      "Threshold: 0.9 => Macro F1-Score: 0.5\n",
      "⭐️ Best F1-Score : 0.648\n",
      "====================================================================================================\n",
      "Number of 🌳 : 50\n"
     ]
    },
    {
     "data": {
      "application/vnd.jupyter.widget-view+json": {
       "model_id": "abf04bdb99f64780805fcdb8a1d7b477",
       "version_major": 2,
       "version_minor": 0
      },
      "text/plain": [
       "Constructing Tree...:   0%|          | 0/50 [00:00<?, ?it/s]"
      ]
     },
     "metadata": {},
     "output_type": "display_data"
    },
    {
     "data": {
      "application/vnd.jupyter.widget-view+json": {
       "model_id": "3621cf0d07a4455b9493094676348ca5",
       "version_major": 2,
       "version_minor": 0
      },
      "text/plain": [
       "Computing path...:   0%|          | 0/28462 [00:00<?, ?it/s]"
      ]
     },
     "metadata": {},
     "output_type": "display_data"
    },
    {
     "name": "stdout",
     "output_type": "stream",
     "text": [
      "Threshold: 0.5 => Macro F1-Score: 0.508\n",
      "Threshold: 0.6 => Macro F1-Score: 0.561\n",
      "Threshold: 0.7 => Macro F1-Score: 0.545\n",
      "Threshold: 0.8 => Macro F1-Score: 0.5\n",
      "Threshold: 0.9 => Macro F1-Score: 0.5\n",
      "⭐️ Best F1-Score : 0.561\n",
      "====================================================================================================\n",
      "Number of 🌳 : 100\n"
     ]
    },
    {
     "data": {
      "application/vnd.jupyter.widget-view+json": {
       "model_id": "cb04284c80964c06b03f4f5a4a3becb6",
       "version_major": 2,
       "version_minor": 0
      },
      "text/plain": [
       "Constructing Tree...:   0%|          | 0/100 [00:00<?, ?it/s]"
      ]
     },
     "metadata": {},
     "output_type": "display_data"
    },
    {
     "data": {
      "application/vnd.jupyter.widget-view+json": {
       "model_id": "34032369f23b49f392de3ec2152504d5",
       "version_major": 2,
       "version_minor": 0
      },
      "text/plain": [
       "Computing path...:   0%|          | 0/28462 [00:00<?, ?it/s]"
      ]
     },
     "metadata": {},
     "output_type": "display_data"
    },
    {
     "name": "stdout",
     "output_type": "stream",
     "text": [
      "Threshold: 0.5 => Macro F1-Score: 0.506\n",
      "Threshold: 0.6 => Macro F1-Score: 0.558\n",
      "Threshold: 0.7 => Macro F1-Score: 0.552\n",
      "Threshold: 0.8 => Macro F1-Score: 0.5\n",
      "Threshold: 0.9 => Macro F1-Score: 0.5\n",
      "⭐️ Best F1-Score : 0.558\n"
     ]
    }
   ],
   "source": [
    "exp_ntrees = [10, 50, 100]\n",
    "exp_ntrees_results = {}\n",
    "exp_ntrees_forests = []\n",
    "for ntree in exp_ntrees:\n",
    "    print(\"=\"*100)\n",
    "    print(f'Number of 🌳 : {ntree}')\n",
    "    F = iForest(train_dataset, ntrees=ntree, sample_size=256)\n",
    "    S_val = F.compute_paths(X_in=val_dataset_attributes)\n",
    "    exp_ntrees_results[ntree] = S_val\n",
    "    exp_ntrees_forests.append(F)\n",
    "    show_result(S_val)"
   ]
  },
  {
   "cell_type": "code",
   "execution_count": 28,
   "id": "bd7f452e",
   "metadata": {},
   "outputs": [
    {
     "data": {
      "image/png": "[encoded data removed]",
      "text/plain": [
       "<Figure size 504x504 with 1 Axes>"
      ]
     },
     "metadata": {},
     "output_type": "display_data"
    }
   ],
   "source": [
    "visualize(exp_ntrees_results[10])"
   ]
  },
  {
   "cell_type": "markdown",
   "id": "1475cb77",
   "metadata": {},
   "source": [
    "- **sample size에 따른 성능 변화**"
   ]
  },
  {
   "cell_type": "code",
   "execution_count": 15,
   "id": "18a45c16",
   "metadata": {
    "scrolled": true
   },
   "outputs": [
    {
     "name": "stdout",
     "output_type": "stream",
     "text": [
      "====================================================================================================\n",
      "Number of Sample Size : 128\n"
     ]
    },
    {
     "data": {
      "application/vnd.jupyter.widget-view+json": {
       "model_id": "711925b4facf4d4c9589febe92646e2b",
       "version_major": 2,
       "version_minor": 0
      },
      "text/plain": [
       "Constructing Tree...:   0%|          | 0/10 [00:00<?, ?it/s]"
      ]
     },
     "metadata": {},
     "output_type": "display_data"
    },
    {
     "data": {
      "application/vnd.jupyter.widget-view+json": {
       "model_id": "f975429d97024c54a562008bf3b5cc02",
       "version_major": 2,
       "version_minor": 0
      },
      "text/plain": [
       "Computing path...:   0%|          | 0/28462 [00:00<?, ?it/s]"
      ]
     },
     "metadata": {},
     "output_type": "display_data"
    },
    {
     "name": "stdout",
     "output_type": "stream",
     "text": [
      "Threshold: 0.5 => Macro F1-Score: 0.483\n",
      "Threshold: 0.6 => Macro F1-Score: 0.519\n",
      "Threshold: 0.7 => Macro F1-Score: 0.499\n",
      "Threshold: 0.8 => Macro F1-Score: 0.5\n",
      "Threshold: 0.9 => Macro F1-Score: 0.5\n",
      "⭐️ Best F1-Score : 0.519\n",
      "====================================================================================================\n",
      "Number of Sample Size : 256\n"
     ]
    },
    {
     "data": {
      "application/vnd.jupyter.widget-view+json": {
       "model_id": "9227d52860aa4311ad1ee8c3fd1b4202",
       "version_major": 2,
       "version_minor": 0
      },
      "text/plain": [
       "Constructing Tree...:   0%|          | 0/10 [00:00<?, ?it/s]"
      ]
     },
     "metadata": {},
     "output_type": "display_data"
    },
    {
     "data": {
      "application/vnd.jupyter.widget-view+json": {
       "model_id": "30f5942d75fe4efca7c452aad2d4a588",
       "version_major": 2,
       "version_minor": 0
      },
      "text/plain": [
       "Computing path...:   0%|          | 0/28462 [00:00<?, ?it/s]"
      ]
     },
     "metadata": {},
     "output_type": "display_data"
    },
    {
     "name": "stdout",
     "output_type": "stream",
     "text": [
      "Threshold: 0.5 => Macro F1-Score: 0.5\n",
      "Threshold: 0.6 => Macro F1-Score: 0.554\n",
      "Threshold: 0.7 => Macro F1-Score: 0.614\n",
      "Threshold: 0.8 => Macro F1-Score: 0.5\n",
      "Threshold: 0.9 => Macro F1-Score: 0.5\n",
      "⭐️ Best F1-Score : 0.614\n",
      "====================================================================================================\n",
      "Number of Sample Size : 512\n"
     ]
    },
    {
     "data": {
      "application/vnd.jupyter.widget-view+json": {
       "model_id": "c8ec398b81f04249b539fa292ad35939",
       "version_major": 2,
       "version_minor": 0
      },
      "text/plain": [
       "Constructing Tree...:   0%|          | 0/10 [00:00<?, ?it/s]"
      ]
     },
     "metadata": {},
     "output_type": "display_data"
    },
    {
     "data": {
      "application/vnd.jupyter.widget-view+json": {
       "model_id": "cad9bb4551ce4d65b8ba4116e55edf63",
       "version_major": 2,
       "version_minor": 0
      },
      "text/plain": [
       "Computing path...:   0%|          | 0/28462 [00:00<?, ?it/s]"
      ]
     },
     "metadata": {},
     "output_type": "display_data"
    },
    {
     "name": "stdout",
     "output_type": "stream",
     "text": [
      "Threshold: 0.5 => Macro F1-Score: 0.515\n",
      "Threshold: 0.6 => Macro F1-Score: 0.599\n",
      "Threshold: 0.7 => Macro F1-Score: 0.707\n",
      "Threshold: 0.8 => Macro F1-Score: 0.5\n",
      "Threshold: 0.9 => Macro F1-Score: 0.5\n",
      "⭐️ Best F1-Score : 0.707\n"
     ]
    }
   ],
   "source": [
    "exp_ss = [128, 256, 512]\n",
    "exp_ss_results = {}\n",
    "exp_ss_forests = []\n",
    "for ss in exp_ss:\n",
    "    print(\"=\"*100)\n",
    "    print(f'Number of Sample Size : {ss}')\n",
    "    F = iForest(train_dataset, ntrees=10, sample_size=ss)\n",
    "    S_val = F.compute_paths(X_in=val_dataset_attributes)\n",
    "    exp_ss_results[ss] = S_val\n",
    "    exp_ss_forests.append(F)\n",
    "    show_result(S_val)"
   ]
  },
  {
   "cell_type": "code",
   "execution_count": 31,
   "id": "6a19c06a",
   "metadata": {
    "scrolled": true
   },
   "outputs": [
    {
     "data": {
      "image/png": "[encoded data removed]",
      "text/plain": [
       "<Figure size 504x504 with 1 Axes>"
      ]
     },
     "metadata": {},
     "output_type": "display_data"
    }
   ],
   "source": [
    "visualize(exp_ss_results[512])"
   ]
  },
  {
   "cell_type": "markdown",
   "id": "19e8449c",
   "metadata": {},
   "source": [
    "---"
   ]
  },
  {
   "cell_type": "markdown",
   "id": "12b9e21e",
   "metadata": {},
   "source": [
    "## 2️⃣ Remove Randomness using Information gain\n",
    "> Split하는 기준이 되는 Attribute를 데이터의 Attributes 중에서 랜덤하게 선택하지 않고, Information Gain이 최대가 되는 Attribute를 찾아서 해당 Attribute를 기준으로 Split하는 실험을 진행해보았습니다. 과연 논문에서 이야기하는 \"랜덤 선택\"과 비교하여 성능이 어떻게 달라지게 될까요?🤔\n",
    "- Reference\n",
    "    - http://deerishi.github.io/Decision-Tree-in-Python-for-Continuous-Attributes/\n",
    "    - https://community.rapidminer.com/discussion/58166/decision-tree-without-a-label-is-it-possible\n",
    "    - https://towardsdatascience.com/entropy-and-information-gain-in-decision-trees-c7db67a3a293"
   ]
  },
  {
   "cell_type": "markdown",
   "id": "6e3973ff",
   "metadata": {},
   "source": [
    "### Step 1 : Pseudo Label 구축\n",
    "> Information gain을 통해 Decision Tree를 구축하기 위해서 필요한 Label 정보가 현재 Train Dataset에는 없으므로 한번 학습을 진행한 Isolation Forest를 통해 Pseudo Label을 구축하겠습니다.\n"
   ]
  },
  {
   "cell_type": "code",
   "execution_count": 16,
   "id": "1bb15680",
   "metadata": {},
   "outputs": [],
   "source": [
    "def get_pseudo_label(dataset):\n",
    "    # 가장 성능이 좋았던 n_tree=10, sample_size=512의 Isolation Forest 모델 사용\n",
    "    S_train = exp_ss_forests[-1].compute_paths(X_in=train_dataset)\n",
    "    pseudo_label = np.where(S_train >= 0.7, 1, 0)\n",
    "    return pseudo_label"
   ]
  },
  {
   "cell_type": "code",
   "execution_count": 17,
   "id": "5200d63e",
   "metadata": {},
   "outputs": [],
   "source": [
    "train_dataset_copy = train_dataset.copy()"
   ]
  },
  {
   "cell_type": "code",
   "execution_count": 18,
   "id": "754a4131",
   "metadata": {},
   "outputs": [
    {
     "data": {
      "application/vnd.jupyter.widget-view+json": {
       "model_id": "c3c945a5b50f400ebd67652e1f560e31",
       "version_major": 2,
       "version_minor": 0
      },
      "text/plain": [
       "Computing path...:   0%|          | 0/113842 [00:00<?, ?it/s]"
      ]
     },
     "metadata": {},
     "output_type": "display_data"
    }
   ],
   "source": [
    "train_dataset_copy['pseudo_label'] = get_pseudo_label(train_dataset_copy)"
   ]
  },
  {
   "cell_type": "code",
   "execution_count": 19,
   "id": "197cba1d",
   "metadata": {},
   "outputs": [],
   "source": [
    "train_dataset_label = train_dataset_copy['pseudo_label']"
   ]
  },
  {
   "cell_type": "code",
   "execution_count": 167,
   "id": "e9fe5485",
   "metadata": {},
   "outputs": [],
   "source": [
    "train_dataset_attributes = train_dataset_copy.drop(columns=['pseudo_label'])[['V14', 'V12', 'V10', 'V3', 'V9', 'V6', 'V16', 'V17', 'V7', 'V18', 'V1', 'V5', 'V2', 'V11', 'V4']]"
   ]
  },
  {
   "cell_type": "markdown",
   "id": "dc7188ac",
   "metadata": {},
   "source": [
    "### Step 2 : 학습 진행\n",
    "> 랜덤하게 샘플링되는 데이터에 label이 1, 즉 사기 거래인 데이터가 포함될 확률이 매우매우 적기 때문에 IG가 다 0으로 계산되는 일이 발생했습니다. 애초에 극도로 불균형 데이터에 Information Gain을 활용한다는게 말이 안되는걸(그래서 논문에서 랜덤을 반복한 것 같다는 사실을) 깨달았지만 이왕 여기까지 온거 결과가 어떻게 되건 끝까지 가보자는 마음으로 몇 가지 매뉴얼한 요소를 추가했습니다.\n",
    "\n",
    "> ① 데이터를 샘플링할 때 전체 sample 데이터 중 반드시 label이 1인 데이터가 10~20개는 포함되도록 재구성했습니다.\n",
    "\n",
    "> ② Information Gain을 구하는데 시간이 오래 소요되기 때문에 데이콘 대회의 게시글을 참고하여 correlation value가 유의미한 15개의 feature만 학습에 사용했고, Tree의 Height을 10으로 제한을 뒀습니다.\n",
    "\n",
    "- Continuous Attributes에 대해 Information Gain을 구하는 방법은 다음과 같습니다.\n",
    "<img src=\"images/if_threshold.png\" width=\"500\">\n",
    "\n",
    "    - 이미지 출처 : https://www.mldawn.com/the-decision-tree-algorithm-information-gain/"
   ]
  },
  {
   "cell_type": "code",
   "execution_count": 148,
   "id": "977de112",
   "metadata": {},
   "outputs": [],
   "source": [
    "class CustomiForest(object):\n",
    "    def __init__(self, X, labels, ntrees, sample_size, limit=None):\n",
    "        self.ntrees = ntrees \n",
    "        self.X = X\n",
    "        self.labels = labels\n",
    "        self.nobjs = len(X)\n",
    "        self.sample = sample_size \n",
    "        self.Trees = []\n",
    "        self.limit = limit\n",
    "        if limit is None:\n",
    "            self.limit = int(np.ceil(np.log2(self.sample)))\n",
    "        self.c = c_factor(self.sample)\n",
    "        for i in tqdm(range(self.ntrees), desc=\"Constructing Tree...\"):\n",
    "            label_1_num = random.randint(10, 20)\n",
    "            label_0_num = self.sample - label_1_num\n",
    "            label_0 = self.X.loc[np.where(self.labels==0)[0]]\n",
    "            label_1 = self.X.loc[np.where(self.labels==1)[0]]\n",
    "            label_0_ix = label_0.index[random.sample(range(len(label_0)), label_0_num)].tolist()\n",
    "            label_1_ix = label_1.index[random.sample(range(len(label_1)), label_1_num)].tolist()\n",
    "            ix = label_0_ix + label_1_ix\n",
    "            X_p = X.loc[ix]\n",
    "            labels_p = labels.loc[ix]\n",
    "            self.Trees.append(CustomiTree(X_p, 0, self.limit, labels_p))\n",
    "\n",
    "    def compute_paths(self, X_in = None):\n",
    "        if X_in is None:\n",
    "            X_in = self.X\n",
    "        S = np.zeros(len(X_in))\n",
    "        for i in  tqdm(range(len(X_in)), desc=\"Computing path...\"):\n",
    "            h_temp = 0\n",
    "            for j in range(self.ntrees):\n",
    "                h_temp += PathFactor(X_in.loc[i], self.Trees[j]).path*1.0\n",
    "            Eh = h_temp / self.ntrees\n",
    "            S[i] = 2.0**(-Eh/self.c)\n",
    "        return S"
   ]
  },
  {
   "cell_type": "code",
   "execution_count": 170,
   "id": "6d87452e",
   "metadata": {},
   "outputs": [],
   "source": [
    "class CustomiTree(object):\n",
    "    def __init__(self, X, e, l, labels):\n",
    "        self.e = e  \n",
    "        self.X = X \n",
    "        self.labels = labels\n",
    "        self.Q = list(X.columns)\n",
    "        self.usedThresholds = {}\n",
    "        for attr in self.Q:\n",
    "            self.usedThresholds[attr] = set()\n",
    "        self.size = len(X)\n",
    "        self.l = l\n",
    "        self.p = None\n",
    "        self.q = None\n",
    "        self.exnodes = 0 \n",
    "        self.root = self.make_tree(X, e, l)\n",
    "        \n",
    "    def make_tree(self, X, e, l):\n",
    "        self.e = e\n",
    "        \n",
    "        if e >= l or len(X) <= 1:\n",
    "            left = None\n",
    "            right = None\n",
    "            self.exnodes += 1\n",
    "            return Node(X, self.q, self.p, e, left, right, node_type = 'exNode')\n",
    "        else:\n",
    "            # 📌 Split하는 기준이 되는 Attribute를 Information Gain이 최대가 되는 Attribute로 선정\n",
    "            IGA=[]\n",
    "            thresholds=[]\n",
    "            for attr in self.Q:\n",
    "                thresh, IG = self.findThresholdAndIG(attr)\n",
    "                IGA.append(IG)\n",
    "                thresholds.append(thresh)\n",
    "            maxIG = max(IGA)\n",
    "            self.q = self.Q[IGA.index(maxIG)]\n",
    "            mini = X[:][self.q].min()\n",
    "            maxi = X[:][self.q].max()\n",
    "            if mini==maxi:\n",
    "                left = None\n",
    "                right = None\n",
    "                self.exnodes += 1\n",
    "                return Node(X, self.q, self.p, e, left, right, node_type = 'exNode')\n",
    "            \n",
    "            self.p = random.uniform(mini, maxi)\n",
    "            \n",
    "            w = np.where(X[:][self.q] < self.p, True, False)\n",
    "            return Node(X, self.q, self.p, e,\\\n",
    "                        left=self.make_tree(X[w], e+1, l),\\\n",
    "                        right=self.make_tree(X[~w], e+1, l),\\\n",
    "                        node_type = 'inNode')\n",
    "\n",
    "    def get_node(self, path):\n",
    "        node = self.root\n",
    "        for p in path:\n",
    "            if p == 'L' : node = node.left\n",
    "            if p == 'R' : node = node.right\n",
    "        return node\n",
    "    \n",
    "    def findIG(self, threshold, attr):\n",
    "        data = self.X.copy()\n",
    "        labels = self.labels.copy()\n",
    "        labels = labels.reset_index()\n",
    "        \n",
    "        rowsLeft = np.where(data[:][attr] >= threshold)[0]\n",
    "        rowsRight = np.where(data[:][attr] < threshold)[0]\n",
    "        rows0 = np.where(labels==0)[0]\n",
    "        rows1 = np.where(labels==1)[0]\n",
    "        p0 = float(rows0.shape[0])/labels.shape[0]\n",
    "        p1 = float(rows1.shape[0])/labels.shape[0]\n",
    "        if p0==0 or p1==0:\n",
    "            HX = 0\n",
    "        else:\n",
    "            HX = -1*p0*np.log2(p0) - p1*np.log2(p1)\n",
    "        \n",
    "        # Calculate the H(Y|X) \n",
    "        labelsLeft = labels.loc[rowsLeft]\n",
    "        labelsRight = labels.loc[rowsRight]\n",
    "        \n",
    "        # For Left Child\n",
    "        rows0 = np.where(labelsLeft==0)[0]\n",
    "        rows1 = np.where(labelsLeft==1)[0]\n",
    "        \n",
    "        p0L = float(rows0.shape[0])/labelsLeft.shape[0]\n",
    "        p1L = float(rows1.shape[0])/labelsLeft.shape[0]\n",
    "        if p0L==0 or p1L==0:\n",
    "            HY_X_L = 0\n",
    "        else:\n",
    "            HY_X_L = -1*p0L*np.log2(p0L) - p1L*np.log2(p1L)\n",
    "            HY_X_L = HY_X_L*float(rowsLeft.shape[0])/data.shape[0]\n",
    "        \n",
    "        # For Right Child\n",
    "        rows0 = np.where(labelsRight==0)[0]\n",
    "        rows1 = np.where(labelsRight==1)[0]\n",
    "        p0R = float(rows0.shape[0])/labelsRight.shape[0]\n",
    "        p1R = float(rows1.shape[0])/labelsRight.shape[0]\n",
    "        if p0R == 0 or p1R == 0:\n",
    "            HY_X_R = 0\n",
    "        else:\n",
    "            HY_X_R = -1*p0R*np.log2(p0R) - p1R*np.log2(p1R)\n",
    "            HY_X_R = HY_X_R*float(rowsRight.shape[0])/data.shape[0]\n",
    "        \n",
    "        IG = HX - HY_X_L - HY_X_R\n",
    "        return IG     \n",
    "    \n",
    "    def findThresholdAndIG(self, attr):\n",
    "        data = self.X.copy()\n",
    "        labels = self.labels.copy()\n",
    "        values = sorted(set(data[:][attr]))\n",
    "        toTryThreshholds=[]\n",
    "        for i in range(0, len(values)-1):\n",
    "            toTryThreshholds.append((values[i]+values[i+1])/2)\n",
    "        toTryThreshholds = set(toTryThreshholds)\n",
    "        if attr in self.usedThresholds:\n",
    "            for used in self.usedThresholds[attr]:\n",
    "                if used in toTryThreshholds:\n",
    "                    toTryThreshholds.remove(used)\n",
    "        \n",
    "        toTryThreshholds = sorted(toTryThreshholds)\n",
    "        IG = []\n",
    "        for threshold in toTryThreshholds:\n",
    "            IG.append(self.findIG(threshold, attr))\n",
    "        \n",
    "        maxIG = max(IG)\n",
    "        maxThresh = IG.index(maxIG)\n",
    "        \n",
    "        return toTryThreshholds[maxThresh], maxIG"
   ]
  },
  {
   "cell_type": "code",
   "execution_count": 171,
   "id": "91d2208d",
   "metadata": {
    "scrolled": true
   },
   "outputs": [
    {
     "data": {
      "application/vnd.jupyter.widget-view+json": {
       "model_id": "9b50991477054e1db2b73d73235925cc",
       "version_major": 2,
       "version_minor": 0
      },
      "text/plain": [
       "Constructing Tree...:   0%|          | 0/10 [00:00<?, ?it/s]"
      ]
     },
     "metadata": {},
     "output_type": "display_data"
    }
   ],
   "source": [
    "IGF = CustomiForest(train_dataset_attributes, train_dataset_label, ntrees=10, sample_size=256, limit=10)"
   ]
  },
  {
   "cell_type": "code",
   "execution_count": 177,
   "id": "45ab6b83",
   "metadata": {},
   "outputs": [
    {
     "data": {
      "application/vnd.jupyter.widget-view+json": {
       "model_id": "f4192050ce794e51801c847239e2bc48",
       "version_major": 2,
       "version_minor": 0
      },
      "text/plain": [
       "Constructing Tree...:   0%|          | 0/10 [00:00<?, ?it/s]"
      ]
     },
     "metadata": {},
     "output_type": "display_data"
    }
   ],
   "source": [
    "OF = iForest(train_dataset_attributes, ntrees=10, sample_size=256, limit=10)"
   ]
  },
  {
   "cell_type": "code",
   "execution_count": 174,
   "id": "e7fcd6b7",
   "metadata": {},
   "outputs": [
    {
     "data": {
      "application/vnd.jupyter.widget-view+json": {
       "model_id": "1324da0e8d6446aab56174c6f46e49dc",
       "version_major": 2,
       "version_minor": 0
      },
      "text/plain": [
       "Computing path...:   0%|          | 0/28462 [00:00<?, ?it/s]"
      ]
     },
     "metadata": {},
     "output_type": "display_data"
    },
    {
     "data": {
      "application/vnd.jupyter.widget-view+json": {
       "model_id": "f014077d7b5c4d1e9927ae69c5b81cab",
       "version_major": 2,
       "version_minor": 0
      },
      "text/plain": [
       "Computing path...:   0%|          | 0/28462 [00:00<?, ?it/s]"
      ]
     },
     "metadata": {},
     "output_type": "display_data"
    }
   ],
   "source": [
    "S_igf_val = IGF.compute_paths(X_in=val_dataset_attributes)\n",
    "S_of_val = OF.compute_paths(X_in=val_dataset_attributes)"
   ]
  },
  {
   "cell_type": "markdown",
   "id": "aedf9543",
   "metadata": {},
   "source": [
    "---\n",
    "## 3️⃣ Original IF vs Information Gain IF\n",
    "> 3시간의 기다림이 무색하게 랜덤하게 Attribute를 선택한 결과가 Information Gain을 기준으로 선택한 결과보다 Validation Dataset에 대해서도, Test Dataset에서도 더 높은 Macro F1-Score를 보였습니다. 비록 코드를 더 효율적으로 수정하면 학습 시간을 단축시킬 순 있겠지만 Information Gain을 계산하는 시간을 고려하면 랜덤하게 선택할 때보단 시간이 더 소요될 것이고, 성능도 시간 관계상 다양한 세팅으로 진행하지 못한만큼 절대적인 비교라고 보긴 어렵지만 아마 다른 세팅에서도 비슷하거나 더 낮은 성능을 보일 것으로 예상됩니다. 이로써 논문에서 Attribute를 선택할 때나 Split Point를 선택할 때 \"랜덤\"하게 진행한 것은 **학습 시간과 성능 모두를 고려한 결과**였다는 사실을 해당 노트북 실험을 통해 깨닫게 됐습니다...💡 (유튜브 영상을 만들 때까지만 해도 랜덤하게 진행하는 부분들은 왠지 모르게 신뢰가 가지 않았는데 이제와 생각해보니 여러 시행 착오 끝에 나온 결론이었을 것 같다는 생각이 듭니다.)"
   ]
  },
  {
   "cell_type": "markdown",
   "id": "807875ea",
   "metadata": {},
   "source": [
    "- **Original IF Validation Dataset 결과**"
   ]
  },
  {
   "cell_type": "code",
   "execution_count": 185,
   "id": "9939c8b9",
   "metadata": {},
   "outputs": [
    {
     "name": "stdout",
     "output_type": "stream",
     "text": [
      "Threshold: 0.5 => Macro F1-Score: 0.48\n",
      "Threshold: 0.6 => Macro F1-Score: 0.54\n",
      "Threshold: 0.7 => Macro F1-Score: 0.668\n",
      "Threshold: 0.8 => Macro F1-Score: 0.75\n",
      "Threshold: 0.9 => Macro F1-Score: 0.5\n",
      "⭐️ Best F1-Score : 0.75\n"
     ]
    }
   ],
   "source": [
    "show_result(S_of_val)"
   ]
  },
  {
   "cell_type": "markdown",
   "id": "6cfb83fc",
   "metadata": {},
   "source": [
    "- **Original IF Test Dataset 결과** (데이콘에 제출해서 얻은 결과)\n",
    "    - Public Score : 0.6004\n",
    "    - Private Score : 0.6222"
   ]
  },
  {
   "cell_type": "markdown",
   "id": "78edcbd0",
   "metadata": {},
   "source": [
    "- **Information Gain IF Validation Dataset 결과** (무려 3시간이 소요된...)"
   ]
  },
  {
   "cell_type": "code",
   "execution_count": 176,
   "id": "4cd75705",
   "metadata": {},
   "outputs": [
    {
     "name": "stdout",
     "output_type": "stream",
     "text": [
      "Threshold: 0.5 => Macro F1-Score: 0.484\n",
      "Threshold: 0.6 => Macro F1-Score: 0.539\n",
      "Threshold: 0.7 => Macro F1-Score: 0.643\n",
      "Threshold: 0.8 => Macro F1-Score: 0.5\n",
      "Threshold: 0.9 => Macro F1-Score: 0.5\n",
      "⭐️ Best F1-Score : 0.643\n"
     ]
    }
   ],
   "source": [
    "show_result(S_igf_val)"
   ]
  },
  {
   "cell_type": "markdown",
   "id": "1d9f42f7",
   "metadata": {},
   "source": [
    "- **Information Gain IF Test Dataset 결과** (데이콘에 제출해서 얻은 결과)\n",
    "    - Public Score : 0.5433\n",
    "    - Private Score : 0.5706"
   ]
  },
  {
   "cell_type": "markdown",
   "id": "ade5e1b4",
   "metadata": {},
   "source": [
    "> 유튜브 영상을 제작하면서 들었던 궁금증을 해결할 수 있었던 유익한 시간이었습니다. 그럼 다음 튜토리얼에 **`Ensemble Learning`**으로 다시 찾아뵙겠습니다.\n",
    "\n",
    "<img src=\"images/9_turtle.png\" width=\"300\">"
   ]
  },
  {
   "cell_type": "markdown",
   "id": "c223789f",
   "metadata": {},
   "source": [
    "> +) 데이콘에 여러 Test 인퍼런스 파일을 제출해본 결과 가장 잘 나온 성능은 다음과 같았습니다. 비록 절대적인 점수는 낮지만, 라이브러리를 사용하지 않고 기타적인 튜닝을 하지 않은 것치고 준수한 성능이 나왔다고 생각합니다😀\n",
    "\n",
    "\n",
    "<img src=\"images/if_dacon.png\" width=\"200\">"
   ]
  },
  {
   "cell_type": "code",
   "execution_count": null,
   "id": "506deebb",
   "metadata": {},
   "outputs": [],
   "source": []
  }
 ],
 "metadata": {
  "kernelspec": {
   "display_name": "Python 3 (ipykernel)",
   "language": "python",
   "name": "python3"
  },
  "language_info": {
   "codemirror_mode": {
    "name": "ipython",
    "version": 3
   },
   "file_extension": ".py",
   "mimetype": "text/x-python",
   "name": "python",
   "nbconvert_exporter": "python",
   "pygments_lexer": "ipython3",
   "version": "3.8.10"
  }
 },
 "nbformat": 4,
 "nbformat_minor": 5
}

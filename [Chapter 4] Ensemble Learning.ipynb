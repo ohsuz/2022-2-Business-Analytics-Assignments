{
 "cells": [
  {
   "cell_type": "markdown",
   "id": "07fb77f3",
   "metadata": {},
   "source": [
    "# 🌊 Deep Dive Into XGBoost\n",
    "> **작성자 : 오수지 (2022020660)**\n",
    "\n",
    "안녕하세요, 고려대학교 산업경영공학부 DSBA 연구실 석사과정 오수지입니다.  \n",
    "이번 노트북 튜토리얼에선 Gradient Boosting 계열 방법론, 그 중에서도 **`XGBoost`**에 대한 실험을 진행할 예정입니다. (🔎 Ensemble Learning에 대한 기본적인 내용은 [유튜브 튜토리얼 영상](https://youtu.be/OqmlPbbI104)을 참고해주세요.)\n",
    "\n",
    "XGBoost는 parallel processing, tree-pruning, 특별한 missing value 처리 기법, 오버피팅을 피하기 위한 regularization 등을 통해 Gradient Boosting을 한단계 더 발전시킨 **`Optimized Gradient Boosting`** 알고리즘입니다.\n",
    "\n",
    "기존 Gradient Boosting은 가능한 모든 분기점을 전부 탐색하는 방식으로 분기를 진행하는데, 이 경우 항상 최적의 분기점을 찾을 수 있다는 장점이 있지만, 데이터가 메모리에 모두 저장되지 않을 경우 현실적으로 탐색이 불가능하며 분산 컴퓨팅 환경에서 계산이 불가능하다는 단점이 있습니다. 그래서 XGBoost에서는 데이터를 몇 개의 bin으로 분리한 후 bin 단위로 최적의 Split Point를 찾아나가는 **`Approximate Algorithm`**을 통해 분산 처리를 가능하게 했는데요!\n",
    "\n",
    "bin의 개수에 따른 output의 변화를 생각해볼 때, 단순히 생각해봐도 bin의 개수가 늘어날수록 최적의 split point를 찾기는 힘들어질 것 같고, 대신 각 bin별 탐색 시간이 줄어드므로 소요 시간은 줄어들 것 같습니다! 과연 실제로도 그럴까요?🤔\n",
    "\n",
    "이번 튜토리얼에선 강의자료에서 나온 간단한 예제를 통해 bin 개수에 따른 최적의 split point를 찾을 성공 확률과 소요 시간 변화를 알아보고, 실제 데이터를 이용해 greedy algorithm과 approximate algorithm 별 성능 차이를 확인해보겠습니다! 과연 XGBoost가 **`최적화된`** Gradient Boosting이 맞을지...!😎\n",
    "\n",
    "<img src=\"images/xgb_title.png\" width=\"600\">\n",
    "\n",
    "**📌 이번 튜토리얼의 목표 (Focus on Split Finding Algorithm)**\n",
    ">1. 간단한 예제를 이용한 **`Bin 개수`**에 따른 **`최적의 Split Point를 찾을 확률`** 및 **`소요 시간`** 변화 확인\n",
    ">2. 실제 데이터를 이용한 **`Exact greedy algorithm vs Approximate greedy algorithm`**\n",
    "\n",
    "**📌 Reference**\n",
    "- https://towardsdatascience.com/https-medium-com-vishalmorde-xgboost-algorithm-long-she-may-rein-edd9f99be63d\n",
    "- [강필성 교수님 Business Analytics 수업 강의자료](https://github.com/pilsung-kang/Business-Analytics-IME654-/blob/master/04%20Ensemble%20Learning/04-7_Ensemble%20Learning_XGBoost.pdf)\n",
    "- https://xgboost.readthedocs.io/en/stable/parameter.html"
   ]
  },
  {
   "cell_type": "markdown",
   "id": "9cfcee65",
   "metadata": {},
   "source": [
    "## 🛠 환경 설정"
   ]
  },
  {
   "cell_type": "code",
   "execution_count": 64,
   "id": "00502d05",
   "metadata": {},
   "outputs": [
    {
     "name": "stdout",
     "output_type": "stream",
     "text": [
      "Requirement already satisfied: xgboost in /opt/conda/lib/python3.8/site-packages (0.90)\n",
      "Requirement already satisfied: scipy in /opt/conda/lib/python3.8/site-packages (from xgboost) (1.4.1)\n",
      "Requirement already satisfied: numpy in /opt/conda/lib/python3.8/site-packages (from xgboost) (1.19.5)\n",
      "\u001b[33mWARNING: Running pip as the 'root' user can result in broken permissions and conflicting behaviour with the system package manager. It is recommended to use a virtual environment instead: https://pip.pypa.io/warnings/venv\u001b[0m\n",
      "Collecting xlrd==2.0.1\n",
      "  Downloading xlrd-2.0.1-py2.py3-none-any.whl (96 kB)\n",
      "\u001b[K     |████████████████████████████████| 96 kB 7.1 MB/s  eta 0:00:01\n",
      "\u001b[?25hInstalling collected packages: xlrd\n",
      "Successfully installed xlrd-2.0.1\n",
      "\u001b[33mWARNING: Running pip as the 'root' user can result in broken permissions and conflicting behaviour with the system package manager. It is recommended to use a virtual environment instead: https://pip.pypa.io/warnings/venv\u001b[0m\n",
      "Collecting openpyxl\n",
      "  Downloading openpyxl-3.0.10-py2.py3-none-any.whl (242 kB)\n",
      "\u001b[K     |████████████████████████████████| 242 kB 20.5 MB/s eta 0:00:01\n",
      "\u001b[?25hCollecting et-xmlfile\n",
      "  Downloading et_xmlfile-1.1.0-py3-none-any.whl (4.7 kB)\n",
      "Installing collected packages: et-xmlfile, openpyxl\n",
      "Successfully installed et-xmlfile-1.1.0 openpyxl-3.0.10\n",
      "\u001b[33mWARNING: Running pip as the 'root' user can result in broken permissions and conflicting behaviour with the system package manager. It is recommended to use a virtual environment instead: https://pip.pypa.io/warnings/venv\u001b[0m\n"
     ]
    }
   ],
   "source": [
    "!pip install xgboost\n",
    "!pip install xlrd==2.0.1  # for read xsl file\n",
    "!pip install openpyxl  # for read xslx file"
   ]
  },
  {
   "cell_type": "code",
   "execution_count": 71,
   "id": "81e05b45",
   "metadata": {},
   "outputs": [],
   "source": [
    "import numpy as np\n",
    "import pandas as pd\n",
    "import random\n",
    "import math\n",
    "from tqdm.auto import tqdm\n",
    "import os\n",
    "os.environ[\"TOKENIZERS_PARALLELISM\"] = \"false\"\n",
    "import warnings\n",
    "warnings.filterwarnings(action='ignore') \n",
    "import copy\n",
    "import seaborn as sns\n",
    "import matplotlib.pyplot as plt\n",
    "sns.set_style(style=\"whitegrid\")\n",
    "sns.set_color_codes()\n",
    "from datetime import datetime\n",
    "from sklearn.model_selection import train_test_split\n",
    "from sklearn.preprocessing import LabelEncoder\n",
    "from sklearn.feature_extraction.text import TfidfVectorizer\n",
    "import sklearn.metrics as metrics\n",
    "import xgboost as xgb"
   ]
  },
  {
   "cell_type": "code",
   "execution_count": 3,
   "id": "1066eaa9",
   "metadata": {},
   "outputs": [],
   "source": [
    "def seed_everything(seed: int = 1201):\n",
    "    random.seed(seed)\n",
    "    np.random.seed(seed)\n",
    "    os.environ[\"PYTHONHASHSEED\"] = str(seed)\n",
    "    \n",
    "seed_everything()"
   ]
  },
  {
   "cell_type": "markdown",
   "id": "e8aed985",
   "metadata": {},
   "source": [
    "## 1️⃣ **`Bin 개수`**에 따른 **`최적의 Split Point를 찾을 확률`** 및 **`소요 시간`** 변화 확인\n",
    "> 강필성 교수님의 Business Analytics 수업에 나온 Illustrative example을 바탕으로 Bin 개수에 따른 최적의 Split Point를 찾을 확률과 소요 시간 변화를 확인해보겠습니다.  \n",
    "\n",
    "\n",
    "<img src=\"images/xgb_example.png\" width=\"600\">"
   ]
  },
  {
   "cell_type": "code",
   "execution_count": 4,
   "id": "067be978",
   "metadata": {},
   "outputs": [
    {
     "name": "stdout",
     "output_type": "stream",
     "text": [
      "[0, 0, 0, 0, 0, 0, 0, 0, 0, 0, 0, 0, 0, 0, 0, 0, 0, 0, 1, 1, 1, 1, 1, 1, 1, 1, 1, 1, 1, 1, 1, 1, 1, 1, 1, 1, 1, 1, 1, 1]\n"
     ]
    }
   ],
   "source": [
    "sample = pd.Series([0] * 18 + [1] * 22)\n",
    "print(list(sample))"
   ]
  },
  {
   "cell_type": "markdown",
   "id": "11fb01f6",
   "metadata": {},
   "source": [
    "### ① Entropy 계산\n",
    "- Entropy 수식을 이용해 데이터의 Impurity를 계산합니다.\n",
    "- 데이터가 Impure할수록 데이터가 가지고 있는 정보량이 많으므로 Entropy는 커지고, Pure할수록 Entropy는 작아집니다.\n",
    "- 하나의 값으로만 데이터가 구성이 되어있다면 Entropy는 0으로 최솟값을 가지며, 2개의 값이 1:1의 비율로 구성이 되어있다면 Entropy는 1로 최댓값을 가집니다."
   ]
  },
  {
   "cell_type": "code",
   "execution_count": 5,
   "id": "e5125460",
   "metadata": {},
   "outputs": [],
   "source": [
    "def compute_entropy(inputs):\n",
    "    probs = inputs.value_counts(normalize=True)\n",
    "    entropy = -1 * np.sum(np.log2(probs) * probs)\n",
    "        \n",
    "    return(round(entropy, 3))"
   ]
  },
  {
   "cell_type": "code",
   "execution_count": 6,
   "id": "24ae7975",
   "metadata": {},
   "outputs": [
    {
     "data": {
      "text/plain": [
       "-0.0"
      ]
     },
     "execution_count": 6,
     "metadata": {},
     "output_type": "execute_result"
    }
   ],
   "source": [
    "# Case 1 : 데이터가 하나의 클래스로만 구성된 경우 => entropy = 0\n",
    "compute_entropy(pd.Series([0]*40))"
   ]
  },
  {
   "cell_type": "code",
   "execution_count": 7,
   "id": "5ae1b5b7",
   "metadata": {},
   "outputs": [
    {
     "data": {
      "text/plain": [
       "1.0"
      ]
     },
     "execution_count": 7,
     "metadata": {},
     "output_type": "execute_result"
    }
   ],
   "source": [
    "# Case 2 : 데이터가 2개의 클래스, 1:1의 비율로 구성된 경우 => entropy = 1\n",
    "compute_entropy(pd.Series([0]*20 + [1]*20))"
   ]
  },
  {
   "cell_type": "code",
   "execution_count": 8,
   "id": "7655227e",
   "metadata": {},
   "outputs": [
    {
     "data": {
      "text/plain": [
       "0.993"
      ]
     },
     "execution_count": 8,
     "metadata": {},
     "output_type": "execute_result"
    }
   ],
   "source": [
    "# 현재 sample의 entropy \n",
    "compute_entropy(sample)"
   ]
  },
  {
   "cell_type": "markdown",
   "id": "472a15d9",
   "metadata": {},
   "source": [
    "### ② Max Information Gain 및 Split Point 탐색"
   ]
  },
  {
   "cell_type": "code",
   "execution_count": 18,
   "id": "8f7b5e08",
   "metadata": {},
   "outputs": [],
   "source": [
    "def find_max_information_gain(inputs, k=None, do_print=True):\n",
    "    max_ig, max_ig_idx = 0, 0\n",
    "    \n",
    "    # if the number of split point is provided\n",
    "    if k:\n",
    "        start = datetime.now()\n",
    "        bin_len = int(len(inputs) // k)\n",
    "        bins = [inputs[i*bin_len:(i+1)*bin_len] for i in range(k)]\n",
    "\n",
    "        for idx, bin in enumerate(bins):\n",
    "            entropy_before = compute_entropy(bin)\n",
    "            for i in range(len(bin)-1):\n",
    "                g1, g2 = bin[:i+1], bin[i+1:]\n",
    "                g1_entropy, g2_entropy = compute_entropy(g1), compute_entropy(g2)\n",
    "                entropy_after = g1_entropy + g2_entropy\n",
    "                ig = entropy_before - entropy_after\n",
    "                if ig > max_ig:\n",
    "                    max_ig_idx = (bin_len-1)*idx+(i+1)+idx\n",
    "                    max_ig = ig\n",
    "        end = datetime.now()\n",
    "        diff =  end - start\n",
    "        time = round(diff.microseconds / 1000, 2)\n",
    "    # if the number of split point is not provided\n",
    "    else:\n",
    "        start = datetime.now()\n",
    "        entropy_before = compute_entropy(inputs)\n",
    "        for i in range(len(inputs)-1):\n",
    "            g1, g2 = inputs[:i+1], inputs[i+1:]\n",
    "            g1_entropy, g2_entropy = compute_entropy(g1), compute_entropy(g2)\n",
    "            entropy_after = g1_entropy + g2_entropy\n",
    "            ig = entropy_before - entropy_after\n",
    "            if ig > max_ig:\n",
    "                max_ig_idx = i+1\n",
    "                max_ig = ig\n",
    "        end = datetime.now()\n",
    "        diff =  end - start\n",
    "        time = round(diff.microseconds / 1000, 2)\n",
    "\n",
    "    if do_print:\n",
    "        print(\"=\"*50)\n",
    "        print(f\"The number of bins : {k}\")\n",
    "        print(f\"Maximum Information Gain : {max_ig}\")\n",
    "        print(f\"Maximum Information Gain Index: {max_ig_idx}\")\n",
    "        print(f\"Group1 : {str(list(inputs[:max_ig_idx]))}\")\n",
    "        print(f\"Group2 : {str(list(inputs[max_ig_idx:]))}\")\n",
    "        print(\"MilliSecond difference : \", time)\n",
    "        print(\"=\"*50)\n",
    "\n",
    "    if k:\n",
    "        return max_ig, max_ig_idx, time\n",
    "    return max_ig, max_ig_idx"
   ]
  },
  {
   "cell_type": "markdown",
   "id": "a53bc4bc",
   "metadata": {},
   "source": [
    "### 📌 Basic Exact Greedy Algorithm\n",
    "<img src=\"images/xgb_algo_1.png\" width=\"600\">"
   ]
  },
  {
   "cell_type": "code",
   "execution_count": 19,
   "id": "2e8d2e86",
   "metadata": {},
   "outputs": [
    {
     "name": "stdout",
     "output_type": "stream",
     "text": [
      "==================================================\n",
      "The number of bins : None\n",
      "Maximum Information Gain : 0.984\n",
      "Maximum Information Gain Index: 17\n",
      "Group1 : [0, 0, 0, 0, 0, 0, 0, 0, 0, 0, 0, 0, 0, 0, 0, 0, 0]\n",
      "Group2 : [1, 1, 1, 1, 1, 1, 1, 1, 1, 1, 1, 1, 1, 1, 1, 1, 1, 1, 1, 1, 1, 1, 1]\n",
      "MilliSecond difference :  94.78\n",
      "==================================================\n"
     ]
    },
    {
     "data": {
      "text/plain": [
       "(0.984, 17)"
      ]
     },
     "execution_count": 19,
     "metadata": {},
     "output_type": "execute_result"
    }
   ],
   "source": [
    "# 분할없이 전체 데이터에 대해 탐색하는 경우 최대 information gain과 그때의 idx\n",
    "find_max_information_gain(sample)"
   ]
  },
  {
   "cell_type": "markdown",
   "id": "5cca57db",
   "metadata": {},
   "source": [
    "### 📌 Approximate Algorithm\n",
    "<img src=\"images/xgb_algo_2.png\" width=\"600\">"
   ]
  },
  {
   "cell_type": "code",
   "execution_count": 11,
   "id": "49eb0fd6",
   "metadata": {},
   "outputs": [
    {
     "name": "stdout",
     "output_type": "stream",
     "text": [
      "==================================================\n",
      "The number of bins : 10\n",
      "Maximum Information Gain : 1.0\n",
      "Maximum Information Gain Index: 18\n",
      "Group1 : [0, 0, 0, 0, 0, 0, 0, 0, 0, 0, 0, 0, 0, 0, 0, 0, 0, 0]\n",
      "Group2 : [1, 1, 1, 1, 1, 1, 1, 1, 1, 1, 1, 1, 1, 1, 1, 1, 1, 1, 1, 1, 1, 1]\n",
      "MilliSecond difference :  70.09\n",
      "==================================================\n"
     ]
    },
    {
     "data": {
      "text/plain": [
       "(1.0, 18, 70.09)"
      ]
     },
     "execution_count": 11,
     "metadata": {},
     "output_type": "execute_result"
    }
   ],
   "source": [
    "# 전체 데이터를 10분할 후, 각 분할에 대해서 개별적으로 information gain을 찾는 경우 최대 information gain과 그때의 idx\n",
    "find_max_information_gain(sample, 10)"
   ]
  },
  {
   "cell_type": "markdown",
   "id": "4b65fb54",
   "metadata": {},
   "source": [
    "- bin 개수별 최적의 split point 및 소요 시간을 확인해보겠습니다."
   ]
  },
  {
   "cell_type": "code",
   "execution_count": 12,
   "id": "c973f608",
   "metadata": {},
   "outputs": [
    {
     "data": {
      "text/plain": [
       "[2, 4, 5, 8, 10, 20]"
      ]
     },
     "execution_count": 12,
     "metadata": {},
     "output_type": "execute_result"
    }
   ],
   "source": [
    "k_candidates = [i for i in range(2, 40) if len(sample)%i==0]\n",
    "k_candidates"
   ]
  },
  {
   "cell_type": "markdown",
   "id": "b858a5ca",
   "metadata": {},
   "source": [
    "- bin의 개수가 20일 때를 제외하고 모든 경우에서 최적의 split point를 찾은 것을 확인할 수 있습니다.\n",
    "- 특히 bin의 개수가 늘어날수록 소요 시간은 줄어들고 있는 점도 확인할 수 있었습니다."
   ]
  },
  {
   "cell_type": "code",
   "execution_count": 13,
   "id": "8def846e",
   "metadata": {},
   "outputs": [
    {
     "name": "stdout",
     "output_type": "stream",
     "text": [
      "==================================================\n",
      "The number of bins : 2\n",
      "Maximum Information Gain : 0.469\n",
      "Maximum Information Gain Index: 18\n",
      "Group1 : [0, 0, 0, 0, 0, 0, 0, 0, 0, 0, 0, 0, 0, 0, 0, 0, 0, 0]\n",
      "Group2 : [1, 1, 1, 1, 1, 1, 1, 1, 1, 1, 1, 1, 1, 1, 1, 1, 1, 1, 1, 1, 1, 1]\n",
      "MilliSecond difference :  90.75\n",
      "==================================================\n",
      "==================================================\n",
      "The number of bins : 4\n",
      "Maximum Information Gain : 0.722\n",
      "Maximum Information Gain Index: 18\n",
      "Group1 : [0, 0, 0, 0, 0, 0, 0, 0, 0, 0, 0, 0, 0, 0, 0, 0, 0, 0]\n",
      "Group2 : [1, 1, 1, 1, 1, 1, 1, 1, 1, 1, 1, 1, 1, 1, 1, 1, 1, 1, 1, 1, 1, 1]\n",
      "MilliSecond difference :  72.12\n",
      "==================================================\n",
      "==================================================\n",
      "The number of bins : 5\n",
      "Maximum Information Gain : 0.811\n",
      "Maximum Information Gain Index: 18\n",
      "Group1 : [0, 0, 0, 0, 0, 0, 0, 0, 0, 0, 0, 0, 0, 0, 0, 0, 0, 0]\n",
      "Group2 : [1, 1, 1, 1, 1, 1, 1, 1, 1, 1, 1, 1, 1, 1, 1, 1, 1, 1, 1, 1, 1, 1]\n",
      "MilliSecond difference :  69.46\n",
      "==================================================\n",
      "==================================================\n",
      "The number of bins : 8\n",
      "Maximum Information Gain : 0.971\n",
      "Maximum Information Gain Index: 18\n",
      "Group1 : [0, 0, 0, 0, 0, 0, 0, 0, 0, 0, 0, 0, 0, 0, 0, 0, 0, 0]\n",
      "Group2 : [1, 1, 1, 1, 1, 1, 1, 1, 1, 1, 1, 1, 1, 1, 1, 1, 1, 1, 1, 1, 1, 1]\n",
      "MilliSecond difference :  62.71\n",
      "==================================================\n",
      "==================================================\n",
      "The number of bins : 10\n",
      "Maximum Information Gain : 1.0\n",
      "Maximum Information Gain Index: 18\n",
      "Group1 : [0, 0, 0, 0, 0, 0, 0, 0, 0, 0, 0, 0, 0, 0, 0, 0, 0, 0]\n",
      "Group2 : [1, 1, 1, 1, 1, 1, 1, 1, 1, 1, 1, 1, 1, 1, 1, 1, 1, 1, 1, 1, 1, 1]\n",
      "MilliSecond difference :  67.14\n",
      "==================================================\n",
      "==================================================\n",
      "The number of bins : 20\n",
      "Maximum Information Gain : 0\n",
      "Maximum Information Gain Index: 0\n",
      "Group1 : []\n",
      "Group2 : [0, 0, 0, 0, 0, 0, 0, 0, 0, 0, 0, 0, 0, 0, 0, 0, 0, 0, 1, 1, 1, 1, 1, 1, 1, 1, 1, 1, 1, 1, 1, 1, 1, 1, 1, 1, 1, 1, 1, 1]\n",
      "MilliSecond difference :  51.44\n",
      "==================================================\n"
     ]
    }
   ],
   "source": [
    "for k in k_candidates:\n",
    "    find_max_information_gain(sample, k)"
   ]
  },
  {
   "cell_type": "markdown",
   "id": "57bd0165",
   "metadata": {},
   "source": [
    "### 🔎 Bin 개수에 따른 최적의 Split Point를 찾을 확률 및 소요 시간 변화\n",
    "> 총 100개의 데이터를 랜덤으로 생성해 Bin 개수에 따른 최적의 Split Point를 찾을 확률 및 소요 시간을 측정했습니다. 그 결과 강의 시간에 배운 것처럼 **Bin 개수가 늘어날수록 성능과 소요 시간 모두 감소**하고 있는 것을 확인할 수 있었습니다. 여기서 Bin별 연산을 실제 구현 코드처럼 병렬 처리해준다면 Bin 개수가 늘어날수록 소요 시간 감소의 폭이 더 커질 것으로 예상됩니다."
   ]
  },
  {
   "cell_type": "code",
   "execution_count": 14,
   "id": "2dcc7a25",
   "metadata": {},
   "outputs": [],
   "source": [
    "n_success = 0\n",
    "k_success_cnt = [0] * len(k_candidates)\n",
    "k_success_time = [0] * len(k_candidates)\n",
    "\n",
    "while n_success < 100:\n",
    "    sample = pd.Series(sorted(np.random.randint(2, size = 40)))\n",
    "    ig, ig_idx = find_max_information_gain(sample, do_print=False)\n",
    "    if ig != 0:\n",
    "        n_success += 1\n",
    "        for idx, k in enumerate(k_candidates):\n",
    "            k_ig, k_ig_idx, k_time = find_max_information_gain(sample, k, do_print=False)\n",
    "            if k_ig_idx == ig_idx:\n",
    "                k_success_cnt[idx] += 1\n",
    "                k_success_time[idx] += k_time"
   ]
  },
  {
   "cell_type": "code",
   "execution_count": 20,
   "id": "339b75b8",
   "metadata": {},
   "outputs": [],
   "source": [
    "k_success_prob = [cnt/n_success for cnt in k_success_cnt]\n",
    "k_success_time = [time/n_success for time in k_success_time]"
   ]
  },
  {
   "cell_type": "code",
   "execution_count": 25,
   "id": "e58495a0",
   "metadata": {},
   "outputs": [],
   "source": [
    "bin_df = pd.DataFrame({'K': k_candidates, 'Success Probability': k_success_prob, 'Elapsed Time (ms)': k_success_time})"
   ]
  },
  {
   "cell_type": "markdown",
   "id": "ddaab622",
   "metadata": {},
   "source": [
    "- **최적의 Split Point를 찾을 확률** : Bin의 개수가 늘어날수록 감소"
   ]
  },
  {
   "cell_type": "code",
   "execution_count": 26,
   "id": "7a57069c",
   "metadata": {},
   "outputs": [
    {
     "data": {
      "text/plain": [
       "<matplotlib.axes._subplots.AxesSubplot at 0x7f0cbd996c40>"
      ]
     },
     "execution_count": 26,
     "metadata": {},
     "output_type": "execute_result"
    },
    {
     "data": {
      "image/png": "[encoded data removed]",
      "text/plain": [
       "<Figure size 432x288 with 1 Axes>"
      ]
     },
     "metadata": {},
     "output_type": "display_data"
    }
   ],
   "source": [
    "sns.barplot(data=bin_df, x=\"K\", y=\"Success Probability\")"
   ]
  },
  {
   "cell_type": "markdown",
   "id": "090692c8",
   "metadata": {},
   "source": [
    "- **소요 시간** : Bin의 개수가 늘어날수록 감소"
   ]
  },
  {
   "cell_type": "code",
   "execution_count": 27,
   "id": "e21b61e1",
   "metadata": {},
   "outputs": [
    {
     "data": {
      "text/plain": [
       "<matplotlib.axes._subplots.AxesSubplot at 0x7f0cbd8bba00>"
      ]
     },
     "execution_count": 27,
     "metadata": {},
     "output_type": "execute_result"
    },
    {
     "data": {
      "image/png": "[encoded data removed]",
      "text/plain": [
       "<Figure size 432x288 with 1 Axes>"
      ]
     },
     "metadata": {},
     "output_type": "display_data"
    }
   ],
   "source": [
    "sns.barplot(data=bin_df, x=\"K\", y=\"Elapsed Time (ms)\")"
   ]
  },
  {
   "cell_type": "markdown",
   "id": "cfbea643",
   "metadata": {},
   "source": [
    "## 2️⃣ **`Exact greedy algorithm vs Approximate greedy algorithm`**\n",
    "> 실제 데이터셋에 대해 Exact greedy algorithm, Approximate greedy algorithm 각 알고리즘 별 성능 변화를 확인해보겠습니다."
   ]
  },
  {
   "cell_type": "markdown",
   "id": "5d455b24",
   "metadata": {},
   "source": [
    "### ① 데이터 준비\n",
    "> 가장 기본적인 iris 데이터셋이나 breast cancer 데이터셋으로 실험을 진행한 결과 모든 옵션에서 다 비슷하게 좋은 성능이 나와서 정확한 비교가 어렵다고 판단했습니다. 그러므로 3강 튜토리얼인 Text Classification using SVM에서 구축한 EMNLP, CVPR 논문 제목을 이용한 이진 분류 데이터셋을 이용했습니다."
   ]
  },
  {
   "cell_type": "code",
   "execution_count": 65,
   "id": "40766a93",
   "metadata": {},
   "outputs": [],
   "source": [
    "emnlp = pd.read_excel('./data/emnlp_2022_accepted_papers.xls')\n",
    "cvpr = pd.read_excel('./data/cvpr_2022_accepted_papers.xlsx', engine='openpyxl')"
   ]
  },
  {
   "cell_type": "code",
   "execution_count": 66,
   "id": "809f40d8",
   "metadata": {},
   "outputs": [],
   "source": [
    "titles, labels = [], []\n",
    "\n",
    "for emnlp_title in list(emnlp['Title']):\n",
    "    titles.append(emnlp_title)\n",
    "    labels.append('EMNLP')\n",
    "    \n",
    "for cvpr_title in list(cvpr['Paper Title']):\n",
    "    titles.append(cvpr_title)\n",
    "    labels.append('CVPR')"
   ]
  },
  {
   "cell_type": "code",
   "execution_count": 67,
   "id": "5461a66f",
   "metadata": {},
   "outputs": [],
   "source": [
    "data = pd.DataFrame({'Title': titles, 'Label': labels})"
   ]
  },
  {
   "cell_type": "code",
   "execution_count": 69,
   "id": "f951f9fb",
   "metadata": {},
   "outputs": [],
   "source": [
    "X_train, X_test, y_train, y_test = train_test_split(data['Title'], data['Label'], \n",
    "                                                    shuffle=True, test_size = 0.2, random_state = 1201)"
   ]
  },
  {
   "cell_type": "code",
   "execution_count": 72,
   "id": "a2afe3d4",
   "metadata": {},
   "outputs": [],
   "source": [
    "label_encoder = LabelEncoder()\n",
    "y_train = label_encoder.fit_transform(y_train)\n",
    "y_test = label_encoder.fit_transform(y_test)"
   ]
  },
  {
   "cell_type": "code",
   "execution_count": 73,
   "id": "f920d3a4",
   "metadata": {},
   "outputs": [],
   "source": [
    "tfidf = TfidfVectorizer(max_features=5000)\n",
    "tfidf.fit(data['Title'])\n",
    "X_train_tfidf = tfidf.transform(X_train)\n",
    "X_test_tfidf = tfidf.transform(X_test)"
   ]
  },
  {
   "cell_type": "code",
   "execution_count": 74,
   "id": "283d0347",
   "metadata": {},
   "outputs": [
    {
     "data": {
      "text/plain": [
       "((2756, 4981), (690, 4981))"
      ]
     },
     "execution_count": 74,
     "metadata": {},
     "output_type": "execute_result"
    }
   ],
   "source": [
    "X_train_tfidf.shape, X_test_tfidf.shape"
   ]
  },
  {
   "cell_type": "markdown",
   "id": "98928a0d",
   "metadata": {},
   "source": [
    "### ② 성능 확인\n",
    "<img src=\"images/xgb_tree_method.png\" width=\"600\">\n",
    "\n",
    "- tree_method 파라미터를 통해 Exact greedy algorithm과 Approximate greedy algorithm에 대한 비교 실험을 진행할 수 있습니다.\n",
    "- Reference\n",
    "    - https://xgboost.readthedocs.io/en/stable/parameter.html"
   ]
  },
  {
   "cell_type": "code",
   "execution_count": 100,
   "id": "972edfba",
   "metadata": {},
   "outputs": [],
   "source": [
    "def print_result(y_pred):\n",
    "    print(f\"Accuracy: {metrics.accuracy_score(y_test, y_pred)*100:.2f}\")\n",
    "    print(f\"Precision: {metrics.precision_score(y_test, y_pred)*100:.2f}\")\n",
    "    print(f\"Recall: {metrics.recall_score(y_test, y_pred)*100:.2f}\")\n",
    "    print(f\"F1-Score: {metrics.f1_score(y_test, y_pred)*100:.2f}\")"
   ]
  },
  {
   "cell_type": "code",
   "execution_count": 101,
   "id": "1de17f89",
   "metadata": {},
   "outputs": [],
   "source": [
    "exact_xgb = xgb.XGBClassifier(tree_method=\"exact\")\n",
    "approx_xgb = xgb.XGBClassifier(tree_method=\"approx\")"
   ]
  },
  {
   "cell_type": "code",
   "execution_count": 102,
   "id": "885f8f73",
   "metadata": {},
   "outputs": [
    {
     "data": {
      "text/plain": [
       "XGBClassifier(base_score=0.5, booster='gbtree', colsample_bylevel=1,\n",
       "              colsample_bynode=1, colsample_bytree=1, gamma=0,\n",
       "              learning_rate=0.1, max_delta_step=0, max_depth=3,\n",
       "              min_child_weight=1, missing=None, n_estimators=100, n_jobs=1,\n",
       "              nthread=None, objective='binary:logistic', random_state=0,\n",
       "              reg_alpha=0, reg_lambda=1, scale_pos_weight=1, seed=None,\n",
       "              silent=None, subsample=1, tree_method='approx', verbosity=1)"
      ]
     },
     "execution_count": 102,
     "metadata": {},
     "output_type": "execute_result"
    }
   ],
   "source": [
    "exact_xgb.fit(X_train_tfidf, y_train)\n",
    "approx_xgb.fit(X_train_tfidf, y_train)"
   ]
  },
  {
   "cell_type": "code",
   "execution_count": 103,
   "id": "94bfc5f5",
   "metadata": {},
   "outputs": [],
   "source": [
    "exact_y_pred = exact_xgb.predict(X_test_tfidf)\n",
    "approx_y_pred = approx_xgb.predict(X_test_tfidf)"
   ]
  },
  {
   "cell_type": "markdown",
   "id": "0a48e48f",
   "metadata": {},
   "source": [
    "- 모든 성능 지표에서 Exact greedy algorithm을 수행했을 때보다 Approximate greedy algorithm을 수행했을 때 더 좋은 성능을 보인 것을 확인할 수 있었습니다."
   ]
  },
  {
   "cell_type": "code",
   "execution_count": 104,
   "id": "1336ba18",
   "metadata": {},
   "outputs": [
    {
     "name": "stdout",
     "output_type": "stream",
     "text": [
      "Accuracy: 83.62\n",
      "Precision: 90.62\n",
      "Recall: 64.68\n",
      "F1-Score: 75.49\n"
     ]
    }
   ],
   "source": [
    "print_result(exact_y_pred)"
   ]
  },
  {
   "cell_type": "code",
   "execution_count": 105,
   "id": "d4145715",
   "metadata": {},
   "outputs": [
    {
     "name": "stdout",
     "output_type": "stream",
     "text": [
      "Accuracy: 83.91\n",
      "Precision: 91.15\n",
      "Recall: 65.06\n",
      "F1-Score: 75.92\n"
     ]
    }
   ],
   "source": [
    "print_result(approx_y_pred)"
   ]
  },
  {
   "cell_type": "markdown",
   "id": "0bbd1998",
   "metadata": {},
   "source": [
    "- 여기까지 수행했을 때 한 가지 더 궁금한 점이 생겼습니다. 현재 전체 데이터샛 개수는 3,446개, 그 중에서도 train 데이터셋은 2,756개인데 2,756개는 큰 데이터셋이라고 봐야할까요 작은 데이터셋이라고 봐야할까요?!\n",
    "- 데이터셋의 개수가 더 작을 때, 정확히 기존 데이터셋 개수의 1/2일 때, 각 알고리즘에 따른 성능 변화를 확인해보겠습니다!"
   ]
  },
  {
   "cell_type": "code",
   "execution_count": 108,
   "id": "6445e307",
   "metadata": {},
   "outputs": [],
   "source": [
    "small_titles, small_labels = [], []\n",
    "\n",
    "for emnlp_title in list(emnlp['Title'][:int(len(emnlp)//2)]):\n",
    "    small_titles.append(emnlp_title)\n",
    "    small_labels.append('EMNLP')\n",
    "    \n",
    "for cvpr_title in list(cvpr['Paper Title'][:int(len(cvpr)//2)]):\n",
    "    small_titles.append(cvpr_title)\n",
    "    small_labels.append('CVPR')\n",
    "    \n",
    "small_data = pd.DataFrame({'Title': small_titles, 'Label': small_labels})\n",
    "\n",
    "small_X_train, small_X_test, small_y_train, small_y_test = train_test_split(small_data['Title'], small_data['Label'], \n",
    "                                                    shuffle=True, test_size = 0.2, random_state = 1201)\n",
    "\n",
    "small_y_train = label_encoder.fit_transform(small_y_train)\n",
    "small_y_test = label_encoder.fit_transform(small_y_test)\n",
    "\n",
    "tfidf = TfidfVectorizer(max_features=5000)\n",
    "tfidf.fit(small_data['Title'])\n",
    "small_X_train_tfidf = tfidf.transform(small_X_train)\n",
    "small_X_test_tfidf = tfidf.transform(small_X_test)"
   ]
  },
  {
   "cell_type": "code",
   "execution_count": 110,
   "id": "ee3aec01",
   "metadata": {},
   "outputs": [
    {
     "data": {
      "text/plain": [
       "(3446, 1722)"
      ]
     },
     "execution_count": 110,
     "metadata": {},
     "output_type": "execute_result"
    }
   ],
   "source": [
    "len(data), len(small_data)"
   ]
  },
  {
   "cell_type": "code",
   "execution_count": 112,
   "id": "d60c9a24",
   "metadata": {},
   "outputs": [],
   "source": [
    "small_exact_xgb = xgb.XGBClassifier(tree_method=\"exact\")\n",
    "small_approx_xgb = xgb.XGBClassifier(tree_method=\"approx\")\n",
    "small_exact_xgb.fit(small_X_train_tfidf, small_y_train)\n",
    "small_approx_xgb.fit(small_X_train_tfidf, small_y_train)\n",
    "small_exact_y_pred = small_exact_xgb.predict(small_X_test_tfidf)\n",
    "small_approx_y_pred = small_approx_xgb.predict(small_X_test_tfidf)"
   ]
  },
  {
   "cell_type": "code",
   "execution_count": 114,
   "id": "1b44886f",
   "metadata": {},
   "outputs": [],
   "source": [
    "small_exact_y_pred = small_exact_xgb.predict(small_X_test_tfidf)\n",
    "small_approx_y_pred = small_approx_xgb.predict(small_X_test_tfidf)"
   ]
  },
  {
   "cell_type": "code",
   "execution_count": 116,
   "id": "92975ed9",
   "metadata": {},
   "outputs": [],
   "source": [
    "def print_result_small(y_pred):\n",
    "    print(f\"Accuracy: {metrics.accuracy_score(small_y_test, y_pred)*100:.2f}\")\n",
    "    print(f\"Precision: {metrics.precision_score(small_y_test, y_pred)*100:.2f}\")\n",
    "    print(f\"Recall: {metrics.recall_score(small_y_test, y_pred)*100:.2f}\")\n",
    "    print(f\"F1-Score: {metrics.f1_score(small_y_test, y_pred)*100:.2f}\")"
   ]
  },
  {
   "cell_type": "markdown",
   "id": "a493a57b",
   "metadata": {},
   "source": [
    "- 데이터셋 개수가 절반이 되었을 때, Exact greedy algorithm의 성능은 Accuracy 기준 83.62에서 79.13으로 4.49 하락했으며, Approximate greedy algorithm의 성능은 83.91에서 80.29로 3.61 하락했습니다. \n",
    "- 결론적으로 데이터셋이 3,446개에서 1,722개로 줄어들었을 때도 여전히 Approximate greedy algorithm을 사용했을 때의 성능이 더 좋은 점을 확인할 수 있었습니다.\n",
    "- 공식 홈페이지를 확인해보면, tree_method 파라미터를 `auto`로 지정할 경우, small dataset일 경우 exact greedy algorithm, larger dataset일 경우, approximate algorithm이 사용된다고 하는데 데이터셋이 3,446개에서 1,722개로 줄어들었을 때도 여전히 Approximate greedy algorithm을 사용했을 때의 성능이 더 좋은 점을 생각해보면 `small dataset`의 기준이 무엇일지 궁금해지는 마무리였습니다.\n"
   ]
  },
  {
   "cell_type": "code",
   "execution_count": 118,
   "id": "064ca9f4",
   "metadata": {},
   "outputs": [
    {
     "name": "stdout",
     "output_type": "stream",
     "text": [
      "Accuracy: 79.13\n",
      "Precision: 86.54\n",
      "Recall: 60.81\n",
      "F1-Score: 71.43\n"
     ]
    }
   ],
   "source": [
    "print_result_small(small_exact_y_pred)"
   ]
  },
  {
   "cell_type": "code",
   "execution_count": 119,
   "id": "ccb532f5",
   "metadata": {},
   "outputs": [
    {
     "name": "stdout",
     "output_type": "stream",
     "text": [
      "Accuracy: 80.29\n",
      "Precision: 89.22\n",
      "Recall: 61.49\n",
      "F1-Score: 72.80\n"
     ]
    }
   ],
   "source": [
    "print_result_small(small_approx_y_pred)"
   ]
  },
  {
   "cell_type": "markdown",
   "id": "ade5e1b4",
   "metadata": {},
   "source": [
    "> 강의 시간에 교수님께서 던져주신 주제에 대한 정답을 직접 찾아보는 재밌는 시간이었습니다. 그럼 다음 튜토리얼에 **`Semi-supervised Learning`**으로 다시 찾아뵙겠습니다.\n",
    "\n",
    "<img src=\"images/9_turtle.png\" width=\"300\">"
   ]
  },
  {
   "cell_type": "code",
   "execution_count": null,
   "id": "4dcd8330",
   "metadata": {},
   "outputs": [],
   "source": []
  }
 ],
 "metadata": {
  "kernelspec": {
   "display_name": "Python 3 (ipykernel)",
   "language": "python",
   "name": "python3"
  },
  "language_info": {
   "codemirror_mode": {
    "name": "ipython",
    "version": 3
   },
   "file_extension": ".py",
   "mimetype": "text/x-python",
   "name": "python",
   "nbconvert_exporter": "python",
   "pygments_lexer": "ipython3",
   "version": "3.8.10"
  }
 },
 "nbformat": 4,
 "nbformat_minor": 5
}

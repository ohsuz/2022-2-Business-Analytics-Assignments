{
 "cells": [
  {
   "cell_type": "markdown",
   "metadata": {},
   "source": [
    "# 🌊 Deep Dive Into K-UDA\n",
    "> **작성자 : 오수지 (2022020660)**\n",
    "\n",
    "안녕하세요, 고려대학교 산업경영공학부 DSBA 연구실 석사과정 오수지입니다.  \n",
    "이번 노트북 튜토리얼에선 Semi-Supervised Learning 방법론, 그 중에서도 **`UDA`**에 대한 실험을 진행할 예정입니다. (🔎 Semi-Supervised Learning에 대한 기본적인 내용은 [유튜브 튜토리얼 영상](https://youtu.be/_uE2_Bl9wTE)을 참고해주세요.)\n",
    "\n",
    "UDA, 즉 **Unsupervised Data Augmentation**은 Consistency Regularization 계열의 방법론으로 일반적으로 분류 문제에서 사용하는 `Supervised Loss`와 오리지널 데이터와 Augmentation을 적용한 데이터의 Output을 유사하게 만드는 `Consistency Loss`를 통해 모델을 학습하는 Semi-supervised Learning 방법론입니다. 특히 Labeled 데이터를 10%만 사용해도 전체 Labeled 데이터를 사용해서 학습하는 것보다 좋은 성능을 보일 수 있다는 사실을 실험적으로 증명한 방법론이기도 합니다.\n",
    "\n",
    "수업에서 배운 방법론들 중 Computer Vision 분야의 데이터셋에 초점을 맞춘 타 방법론들과는 달리 UDA는 NLP 분야의 데이터셋에도 쉽게 적용 가능하다는 점이 인상 깊었는데, UDA 관련 자료를 검색해보다 대부분의 코드가 논문에서 사용한 IMDB 영어 데이터셋을 기반으로 하고, 한국어 데이터셋으로 실험을 진행한 자료는 하나도 없는 것을 발견했습니다..🤯\n",
    "\n",
    "그래서 이번 튜토리얼에선 IMDB 데이터셋의 한국어 버전이라 할 수 있는 NSMC 데이터셋(네이버 영화 리뷰 데이터를 이용해 제작된 영화 리뷰 감성 분류 데이터셋)을 이용해 UDA의 성능을 확인해보겠습니다! (최초 **`K-UDA`**!😎) 과연 NSMC 데이터셋에 대해서도 적은 Labeled 데이터로 좋은 성능을 낼 수 있을까요?\n",
    "\n",
    "<img src=\"images/uda.png\" width=\"700\">\n",
    "\n",
    "**📌 이번 튜토리얼의 목표**\n",
    ">1. NSMC 데이터셋에 대한 Fully Supervised 성능 확인\n",
    ">2. NSMC 데이터셋에 대한 Labeled 데이터 개수별 UDA 성능 확인\n",
    ">3. NSMC 데이터셋에 대해 UDA의 추가적인 Setting에 따른 성능 확인"
   ]
  },
  {
   "cell_type": "markdown",
   "metadata": {},
   "source": [
    "## 🛠 환경 설정"
   ]
  },
  {
   "cell_type": "code",
   "execution_count": 1,
   "metadata": {
    "scrolled": true
   },
   "outputs": [],
   "source": [
    "#!pip install easydict\n",
    "#!pip install datasets"
   ]
  },
  {
   "cell_type": "code",
   "execution_count": 1,
   "metadata": {},
   "outputs": [],
   "source": [
    "import torch\n",
    "from torch import nn\n",
    "import torch.nn.functional as F\n",
    "import torch.optim as optim\n",
    "from torch.utils.data import Dataset, DataLoader\n",
    "import pandas as pd\n",
    "import numpy as np\n",
    "import pickle as pickle\n",
    "from tqdm.auto import tqdm, trange\n",
    "from datasets import load_dataset\n",
    "from transformers import AdamW, AutoTokenizer, AutoModelForSequenceClassification\n",
    "import random\n",
    "import torch\n",
    "import numpy as np\n",
    "from easydict import EasyDict\n",
    "import warnings\n",
    "warnings.filterwarnings(action='ignore')\n",
    "import pickle\n",
    "import random\n",
    "\n",
    "def get_pickle(pickle_path):\n",
    "    f = open(pickle_path, \"rb\")\n",
    "    data = pickle.load(f)\n",
    "    f.close()\n",
    "    return data\n",
    "\n",
    "def fix_seed(seed: int) -> None:\n",
    "    torch.manual_seed(seed)\n",
    "    torch.cuda.manual_seed(seed)\n",
    "    torch.cuda.manual_seed_all(seed)\n",
    "    torch.backends.cudnn.deterministic = True # this can slow down speed\n",
    "    torch.backends.cudnn.benchmark = False\n",
    "    np.random.seed(seed)\n",
    "    random.seed(seed)\n",
    "    \n",
    "def calc_accuracy(X, Y):\n",
    "    max_vals, max_indices = torch.max(X, 1)\n",
    "    accuracy = (max_indices == Y).sum().data.cpu().numpy()/max_indices.size()[0]\n",
    "    return accuracy\n",
    "\n",
    "fix_seed(42)"
   ]
  },
  {
   "cell_type": "code",
   "execution_count": 2,
   "metadata": {},
   "outputs": [],
   "source": [
    "args = EasyDict({'model_name': 'klue/bert-base', \n",
    "                 'lr': 1e-5, \n",
    "                 'batch_size': 16, \n",
    "                 'uda_mode': True,\n",
    "                 'epochs': 10})"
   ]
  },
  {
   "cell_type": "markdown",
   "metadata": {},
   "source": [
    "## 0️⃣ Overview\n",
    "\n",
    "- UDA는 Supervised Loss + Consistency Loss를 통해 모델을 학습하는데 이 중 Consistency Loss를 학습하기 위해선 오리지널 데이터에 변형을 가한 데이터가 필요합니다.\n",
    "- NLP 분야에서의 변형은 정말 간단한 Random Deletion, 유의어 교체부터 TF-IDF 점수가 낮은 단어를 교체하는 방법, 오리지널 문장을 번역 후 재번역하는 방식의 Back Translation이 있는데 논문에선 Back Translation을 활용했을 때 가장 좋은 성능을 보였다고 이야기하고 있습니다. 해당 튜토리얼에서도 논문과 마찬가지로 Back Translation으로 Consistency Loss를 학습할 데이터를 준비했습니다.\n",
    "- Back Translation 데이터를 준비하기 위해 Papago 번역기와 Google 번역기를 둘 다 시도해봤지만, Papago API의 긴 소요 시간으로 인해 Papago 번역기가 더 높은 재번역 퀄리티를 보임에도 최종적으론 Google 번역기를 선택했습니다. \n",
    "- 추가적인 시간 단축을 위해 문장 길이 기준 25%~50% 구간에 속하는 데이터만을 사용하여 Back Translation 데이터 구축에 총 **24시간**이 소요되었으며, 피클 형태로 미리 저장해둔 파일을 로드해서 사용하겠습니다."
   ]
  },
  {
   "cell_type": "code",
   "execution_count": 3,
   "metadata": {},
   "outputs": [],
   "source": [
    "unsup_data = get_pickle('./data/unsup_data.pkl').reset_index()\n",
    "unsup_data = unsup_data.drop(['index'], axis=1)"
   ]
  },
  {
   "cell_type": "code",
   "execution_count": 4,
   "metadata": {},
   "outputs": [
    {
     "data": {
      "text/plain": [
       "40260"
      ]
     },
     "execution_count": 4,
     "metadata": {},
     "output_type": "execute_result"
    }
   ],
   "source": [
    "len(unsup_data)"
   ]
  },
  {
   "cell_type": "markdown",
   "metadata": {},
   "source": [
    "- 10개의 데이터만 임의로 확인해봤을 때, 역번역이 잘된 경우도 있지만, 역번역을 했을 때 기존 문장이 가지는 의미를 완전히 상실하는 경우도 발생하는 걸 확인할 수 있습니다. Google 번역기의 좋지 않은 역번역 성능이 최종적으로 UDA의 성능이 Fully-Supervised Setting보다 낮게 나온 것에 대한 원인 중 하나라고 생각합니다."
   ]
  },
  {
   "cell_type": "code",
   "execution_count": 5,
   "metadata": {},
   "outputs": [
    {
     "data": {
      "text/html": [
       "<div>\n",
       "<style scoped>\n",
       "    .dataframe tbody tr th:only-of-type {\n",
       "        vertical-align: middle;\n",
       "    }\n",
       "\n",
       "    .dataframe tbody tr th {\n",
       "        vertical-align: top;\n",
       "    }\n",
       "\n",
       "    .dataframe thead th {\n",
       "        text-align: right;\n",
       "    }\n",
       "</style>\n",
       "<table border=\"1\" class=\"dataframe\">\n",
       "  <thead>\n",
       "    <tr style=\"text-align: right;\">\n",
       "      <th></th>\n",
       "      <th>document</th>\n",
       "      <th>bt_document</th>\n",
       "      <th>label</th>\n",
       "    </tr>\n",
       "  </thead>\n",
       "  <tbody>\n",
       "    <tr>\n",
       "      <th>0</th>\n",
       "      <td>아 더빙.. 진짜 짜증나네요 목소리</td>\n",
       "      <td>오, 더빙 ... 정말 성가시다.</td>\n",
       "      <td>0</td>\n",
       "    </tr>\n",
       "    <tr>\n",
       "      <th>1</th>\n",
       "      <td>너무재밓었다그래서보는것을추천한다</td>\n",
       "      <td>내가 보는 것이 너무 좋았습니다</td>\n",
       "      <td>0</td>\n",
       "    </tr>\n",
       "    <tr>\n",
       "      <th>2</th>\n",
       "      <td>걍인피니트가짱이다.진짜짱이다♥</td>\n",
       "      <td>짐 무한이 굉장합니다.</td>\n",
       "      <td>1</td>\n",
       "    </tr>\n",
       "    <tr>\n",
       "      <th>3</th>\n",
       "      <td>ㄱ냥 매번 긴장되고 재밋음ㅠㅠ</td>\n",
       "      <td>매번 님프와 재미 ㅠㅠ</td>\n",
       "      <td>1</td>\n",
       "    </tr>\n",
       "    <tr>\n",
       "      <th>4</th>\n",
       "      <td>보면서 웃지 않는 건 불가능하다</td>\n",
       "      <td>시청하는 동안 웃지 않는 것은 불가능합니다</td>\n",
       "      <td>1</td>\n",
       "    </tr>\n",
       "    <tr>\n",
       "      <th>5</th>\n",
       "      <td>주제는 좋은데 중반부터 지루하다</td>\n",
       "      <td>주제는 좋지만 중간에서 지루합니다</td>\n",
       "      <td>0</td>\n",
       "    </tr>\n",
       "    <tr>\n",
       "      <th>6</th>\n",
       "      <td>kl2g 고추를 털어버려야 할텐데</td>\n",
       "      <td>KL2G 후추는 닦아야합니다</td>\n",
       "      <td>1</td>\n",
       "    </tr>\n",
       "    <tr>\n",
       "      <th>7</th>\n",
       "      <td>재밌는데 별점이 왜이리 낮은고</td>\n",
       "      <td>재미 있지만 왜 별 등급이 너무 낮습니까?</td>\n",
       "      <td>1</td>\n",
       "    </tr>\n",
       "    <tr>\n",
       "      <th>8</th>\n",
       "      <td>아직도 이 드라마는 내인생의 최고!</td>\n",
       "      <td>이 드라마는 여전히 내 인생에서 최고입니다!</td>\n",
       "      <td>1</td>\n",
       "    </tr>\n",
       "    <tr>\n",
       "      <th>9</th>\n",
       "      <td>패션에 대한 열정! 안나 윈투어!</td>\n",
       "      <td>패션에 대한 열정! Anna Wintour!</td>\n",
       "      <td>1</td>\n",
       "    </tr>\n",
       "  </tbody>\n",
       "</table>\n",
       "</div>"
      ],
      "text/plain": [
       "              document               bt_document  label\n",
       "0  아 더빙.. 진짜 짜증나네요 목소리        오, 더빙 ... 정말 성가시다.      0\n",
       "1    너무재밓었다그래서보는것을추천한다         내가 보는 것이 너무 좋았습니다      0\n",
       "2     걍인피니트가짱이다.진짜짱이다♥              짐 무한이 굉장합니다.      1\n",
       "3     ㄱ냥 매번 긴장되고 재밋음ㅠㅠ              매번 님프와 재미 ㅠㅠ      1\n",
       "4    보면서 웃지 않는 건 불가능하다   시청하는 동안 웃지 않는 것은 불가능합니다      1\n",
       "5    주제는 좋은데 중반부터 지루하다        주제는 좋지만 중간에서 지루합니다      0\n",
       "6   kl2g 고추를 털어버려야 할텐데           KL2G 후추는 닦아야합니다      1\n",
       "7     재밌는데 별점이 왜이리 낮은고   재미 있지만 왜 별 등급이 너무 낮습니까?      1\n",
       "8  아직도 이 드라마는 내인생의 최고!  이 드라마는 여전히 내 인생에서 최고입니다!      1\n",
       "9   패션에 대한 열정! 안나 윈투어!  패션에 대한 열정! Anna Wintour!      1"
      ]
     },
     "execution_count": 5,
     "metadata": {},
     "output_type": "execute_result"
    }
   ],
   "source": [
    "unsup_data.head(10)"
   ]
  },
  {
   "cell_type": "markdown",
   "metadata": {},
   "source": [
    "> 🔎 Loss가 어떻게 계산되는지 위에 보이는 데이터에서 첫번째 예시를 사용해 가볍게 확인해보겠습니다!"
   ]
  },
  {
   "cell_type": "code",
   "execution_count": 6,
   "metadata": {},
   "outputs": [],
   "source": [
    "tokenizer = AutoTokenizer.from_pretrained('klue/bert-base')\n",
    "doc = tokenizer(unsup_data['document'][0], max_length=16, padding='max_length', return_tensors=\"pt\")\n",
    "bt_doc = tokenizer(unsup_data['bt_document'][0], max_length=16, padding='max_length', return_tensors=\"pt\")\n",
    "label = unsup_data['label'][0]"
   ]
  },
  {
   "cell_type": "code",
   "execution_count": 7,
   "metadata": {},
   "outputs": [
    {
     "name": "stderr",
     "output_type": "stream",
     "text": [
      "Some weights of the model checkpoint at klue/bert-base were not used when initializing BertForSequenceClassification: ['cls.predictions.transform.LayerNorm.weight', 'cls.predictions.transform.dense.weight', 'cls.predictions.decoder.weight', 'cls.seq_relationship.weight', 'cls.predictions.bias', 'cls.seq_relationship.bias', 'cls.predictions.decoder.bias', 'cls.predictions.transform.LayerNorm.bias', 'cls.predictions.transform.dense.bias']\n",
      "- This IS expected if you are initializing BertForSequenceClassification from the checkpoint of a model trained on another task or with another architecture (e.g. initializing a BertForSequenceClassification model from a BertForPreTraining model).\n",
      "- This IS NOT expected if you are initializing BertForSequenceClassification from the checkpoint of a model that you expect to be exactly identical (initializing a BertForSequenceClassification model from a BertForSequenceClassification model).\n",
      "Some weights of BertForSequenceClassification were not initialized from the model checkpoint at klue/bert-base and are newly initialized: ['classifier.bias', 'classifier.weight']\n",
      "You should probably TRAIN this model on a down-stream task to be able to use it for predictions and inference.\n"
     ]
    }
   ],
   "source": [
    "model = AutoModelForSequenceClassification.from_pretrained('klue/bert-base')"
   ]
  },
  {
   "cell_type": "markdown",
   "metadata": {},
   "source": [
    "### 🔥 Supervised Loss"
   ]
  },
  {
   "cell_type": "code",
   "execution_count": 8,
   "metadata": {},
   "outputs": [],
   "source": [
    "labeled_output = model(**doc)"
   ]
  },
  {
   "cell_type": "code",
   "execution_count": 9,
   "metadata": {},
   "outputs": [
    {
     "data": {
      "text/plain": [
       "tensor([[-0.0056,  0.1694]], grad_fn=<AddmmBackward>)"
      ]
     },
     "execution_count": 9,
     "metadata": {},
     "output_type": "execute_result"
    }
   ],
   "source": [
    "labeled_output.logits"
   ]
  },
  {
   "cell_type": "code",
   "execution_count": 10,
   "metadata": {},
   "outputs": [],
   "source": [
    "sup_loss = nn.CrossEntropyLoss()"
   ]
  },
  {
   "cell_type": "code",
   "execution_count": 11,
   "metadata": {},
   "outputs": [
    {
     "data": {
      "text/plain": [
       "tensor(0.7844, grad_fn=<NllLossBackward>)"
      ]
     },
     "execution_count": 11,
     "metadata": {},
     "output_type": "execute_result"
    }
   ],
   "source": [
    "sup_loss(labeled_output.logits, torch.tensor([label]))"
   ]
  },
  {
   "cell_type": "markdown",
   "metadata": {},
   "source": [
    "### 🔥 Unsupervised Loss"
   ]
  },
  {
   "cell_type": "code",
   "execution_count": 12,
   "metadata": {},
   "outputs": [],
   "source": [
    "unlabeled_output = model(**bt_doc)"
   ]
  },
  {
   "cell_type": "code",
   "execution_count": 13,
   "metadata": {},
   "outputs": [
    {
     "data": {
      "text/plain": [
       "tensor([[0.3888, 0.1439]], grad_fn=<AddmmBackward>)"
      ]
     },
     "execution_count": 13,
     "metadata": {},
     "output_type": "execute_result"
    }
   ],
   "source": [
    "unlabeled_output.logits"
   ]
  },
  {
   "cell_type": "code",
   "execution_count": 14,
   "metadata": {},
   "outputs": [],
   "source": [
    "unsup_loss = nn.KLDivLoss()"
   ]
  },
  {
   "cell_type": "markdown",
   "metadata": {},
   "source": [
    "> 💡 모델로부터 추출한 노이즈가 포함된 Unlabeled 데이터의 확률분포와 노이즈가 없는 Unlabeled 데이터의 확률분포가 크게 차이 나지 않기 때문에 일반적으로 Consistency Loss가 Supervised Loss에 비해 매우 작습니다. 이를 보완하기 위해 UDA 논문에서는 Confidence가 높은 Unlabeled 데이터에 대해서 확률분포의 차이를 크게 만드는 Sharpening 방식을 제안하고 있습니다."
   ]
  },
  {
   "cell_type": "code",
   "execution_count": 15,
   "metadata": {
    "scrolled": true
   },
   "outputs": [
    {
     "data": {
      "text/plain": [
       "tensor(0.0110, grad_fn=<KlDivBackward>)"
      ]
     },
     "execution_count": 15,
     "metadata": {},
     "output_type": "execute_result"
    }
   ],
   "source": [
    "# Sharpening 적용 X\n",
    "unsup_loss(F.log_softmax(unlabeled_output.logits, dim=1), F.softmax(labeled_output.logits, dim=1))"
   ]
  },
  {
   "cell_type": "code",
   "execution_count": 18,
   "metadata": {},
   "outputs": [
    {
     "data": {
      "text/plain": [
       "tensor(0.0126, grad_fn=<KlDivBackward>)"
      ]
     },
     "execution_count": 18,
     "metadata": {},
     "output_type": "execute_result"
    }
   ],
   "source": [
    "# Sharpening 적용 O -> 적용 전과 비교하여 loss가 더 커진 것을 확인할 수 있음\n",
    "unsup_loss(F.log_softmax(unlabeled_output.logits, dim=1), F.softmax(labeled_output.logits/0.85, dim=1))"
   ]
  },
  {
   "cell_type": "markdown",
   "metadata": {},
   "source": [
    "## 1️⃣ Prepare Dataset & DataLoader for NSMC Dataset"
   ]
  },
  {
   "cell_type": "code",
   "execution_count": 3,
   "metadata": {},
   "outputs": [],
   "source": [
    "class NSMCDataset(Dataset):\n",
    "    def __init__(self, args, \n",
    "                 data_type='train', \n",
    "                 uda_mode=True, \n",
    "                 is_unlabeled=True,\n",
    "                 n=20):\n",
    "        self.uda_mode = uda_mode\n",
    "        self.is_unlabeled = is_unlabeled\n",
    "        # Full-Supervised Setting\n",
    "        if uda_mode == False or data_type=='test':\n",
    "            self.dataset = load_dataset(\"nsmc\")[data_type]\n",
    "            temp_df = pd.DataFrame({'document': self.dataset['document'],\n",
    "                                     'label': self.dataset['label'],\n",
    "                                     'len' : [len(doc) for doc in self.dataset['document']]})\n",
    "            self.df = temp_df[(temp_df['len']>=16) & (temp_df['len']<=27)].reset_index()\n",
    "            self.docs = list(self.df['document'])\n",
    "            self.labels = list(self.df['label'])\n",
    "        # UDA Setting\n",
    "        else:\n",
    "            self.dataset = load_dataset(\"nsmc\")[data_type]\n",
    "            temp_df = pd.DataFrame({'document': self.dataset['document'],\n",
    "                                     'label': self.dataset['label'],\n",
    "                                     'len' : [len(doc) for doc in self.dataset['document']]})\n",
    "            self.df = temp_df[(temp_df['len']>=15) & (temp_df['len']<=28)].reset_index()\n",
    "            self.unsup_data = get_pickle('./data/unsup_data.pkl')\n",
    "            sup_docs = list(set(self.df['document']) - set(self.unsup_data['document']))\n",
    "            sup_docs = random.sample(sup_docs, n)\n",
    "            self.sup_data = self.df[self.df['document'].isin(sup_docs)].reset_index()\n",
    "            if is_unlabeled:\n",
    "                self.docs = list(self.unsup_data['document'])\n",
    "                self.bt_docs = list(self.unsup_data['bt_document'])\n",
    "                self.labels = list(self.unsup_data['label'])\n",
    "            else:\n",
    "                self.docs = list(self.sup_data['document'])\n",
    "                self.labels = list(self.sup_data['label'])\n",
    "            \n",
    "        self.tokenizer = AutoTokenizer.from_pretrained(args.model_name)\n",
    "\n",
    "    def __len__(self):\n",
    "        return len(self.docs)\n",
    "\n",
    "    def __getitem__(self, idx):\n",
    "        doc, label = self.docs[idx], self.labels[idx]\n",
    "\n",
    "        inputs = self.tokenizer(\n",
    "            doc,\n",
    "            return_tensors='pt',\n",
    "            truncation=True,\n",
    "            max_length=32,\n",
    "            padding='max_length',\n",
    "            add_special_tokens=True\n",
    "        )\n",
    "        \n",
    "        if not self.uda_mode or not self.is_unlabeled:\n",
    "            return inputs, label\n",
    "        \n",
    "        bt_doc = self.bt_docs[idx]\n",
    "        bt_inputs = self.tokenizer(\n",
    "            bt_doc,\n",
    "            return_tensors='pt',\n",
    "            truncation=True,\n",
    "            max_length=32,\n",
    "            padding='max_length',\n",
    "            add_special_tokens=True\n",
    "        )\n",
    "        return inputs, bt_inputs"
   ]
  },
  {
   "cell_type": "markdown",
   "metadata": {},
   "source": [
    "## 2️⃣ Train K-UDA\n",
    "||Fully-Supervised|N=20|N=100|N=1000|\n",
    "|:---|:---:|:---:|:---:|:---:|\n",
    "|Accuracy|**0.88**|0.74|0.77|0.84|\n",
    "\n",
    "- UDA Setting에서 Labeled 데이터 개수를 늘릴수록 전체 데이터 약 40,000개로 학습을 진행했을 때의 성능과 근접해지는 것을 확인할 수 있었지만, 20개의 Labeled 데이터만으로 좋은 성능을 낸 UDA 논문의 실험 결과와는 달리 1,000개까지 Labeled 데이터 개수를 늘려도 Fully-Supervised Setting의 성능을 뛰어넘지 못했습니다.\n",
    "\n",
    "- 이는 위에서도 언급했듯 Google 번역기의 좋지 않은 역번역 성능으로 인해 Unlabeled 데이터의 퀄리티가 좋지 않았던 것이 큰 영향을 미친 것으로 생각됩니다.\n",
    "- 또한 UDA Setting에서 Supervised Loss를 학습할 데이터로 어떤 데이터가 선택되는지에 따라 성능 변화가 크게 발생하는데 시간 관계상 Seed에 따른 성능 변화를 측정하진 못했습니다. 1,000개의 Labeled 데이터만 사용한 경우에도 전체 Labeled 데이터를 사용했을 때와 Accuracy 기준 0.4 밖에 차이나지 않으므로 다른 Seed에서는 더 근접하거나 우수한 성능을 낼 수 있다고 생각합니다."
   ]
  },
  {
   "cell_type": "code",
   "execution_count": 4,
   "metadata": {
    "scrolled": true
   },
   "outputs": [],
   "source": [
    "def train(args):\n",
    "    # Prepare Dataset & DataLoader\n",
    "    if not args.uda_mode:\n",
    "        train_dataset = NSMCDataset(args, 'train', uda_mode=args.uda_mode)\n",
    "        test_dataset = NSMCDataset(args, 'test', uda_mode=args.uda_mode)\n",
    "        train_loader = DataLoader(train_dataset, batch_size=256, num_workers=0, shuffle=True)\n",
    "        test_loader = DataLoader(test_dataset, batch_size=256, num_workers=0, shuffle=False)\n",
    "        print(f\"The number of labeled dataset : {len(train_dataset)}\")\n",
    "        print(f\"The number of test dataset : {len(test_dataset)}\")\n",
    "    else:\n",
    "        train_dataset = NSMCDataset(args, 'train', is_unlabeled=False, n=args.n)\n",
    "        unsup_train_dataset = NSMCDataset(args, 'train', is_unlabeled=True)\n",
    "        test_dataset = NSMCDataset(args, 'test', is_unlabeled=False)\n",
    "        print(f\"The number of labeled dataset : {len(train_dataset)}\")\n",
    "        print(f\"The number of unlabeled dataset : {len(unsup_train_dataset)}\")\n",
    "        print(f\"The number of test dataset : {len(test_dataset)}\")\n",
    "\n",
    "        train_loader = DataLoader(train_dataset, batch_size=4, num_workers=0, shuffle=True)\n",
    "        unsup_train_loader = DataLoader(unsup_train_dataset, batch_size=256, num_workers=0, shuffle=True)\n",
    "        test_loader = DataLoader(test_dataset, batch_size=256, num_workers=0, shuffle=False)\n",
    "        \n",
    "        unsup_train_iter = iter(unsup_train_loader)\n",
    "        \n",
    "    # Define Model, Optimizer, Loss\n",
    "    model = AutoModelForSequenceClassification.from_pretrained(args.model_name)\n",
    "    device = torch.device(\"cuda\" if torch.cuda.is_available() else \"cpu\")\n",
    "    model.to(device)\n",
    "    optimizer = AdamW(model.parameters(), lr=args.lr)\n",
    "    sup_loss = nn.CrossEntropyLoss(reduction='mean')\n",
    "    unsup_loss = nn.KLDivLoss(reduction='mean')\n",
    "    best_acc = 0.0\n",
    "    \n",
    "    for epoch in range(args.epochs):\n",
    "        # Train\n",
    "        train_acc = 0.0\n",
    "        model.train()\n",
    "        for batch_id, (inputs, labels) in enumerate(tqdm(train_loader)):\n",
    "            optimizer.zero_grad()\n",
    "            inputs = {key: val.squeeze().to(device) for key, val in inputs.items()}\n",
    "            labels = labels.to(device)\n",
    "            preds = model(**inputs)[0]\n",
    "            loss = sup_loss(preds, labels)\n",
    "            if args.uda_mode:\n",
    "                try:\n",
    "                    original_inputs, bt_inputs = next(unsup_train_iter)\n",
    "                except StopIteration:\n",
    "                    unsup_train_iter = iter(unsup_train_loader)\n",
    "                    original_inputs, bt_inputs = next(unsup_train_iter)\n",
    "                bt_inputs = {key: val.squeeze().to(device) for key, val in bt_inputs.items()}\n",
    "                bt_preds = model(**bt_inputs)[0]\n",
    "                model.eval()\n",
    "                with torch.no_grad():\n",
    "                    original_inputs = {key: val.squeeze().to(device) for key, val in original_inputs.items()}\n",
    "                    original_preds = model(**original_inputs)[0]\n",
    "                model.train()\n",
    "                original_probs = F.softmax(original_preds, dim=1)  # Target\n",
    "                bt_probs = F.log_softmax(bt_preds, dim=1)  # Input\n",
    "                consistency_loss = unsup_loss(bt_probs, original_probs).sum(dim=-1)\n",
    "                loss += consistency_loss\n",
    "            loss.backward()\n",
    "            optimizer.step()\n",
    "            train_acc += calc_accuracy(preds, labels)\n",
    "\n",
    "        train_acc = round(train_acc / (batch_id+1), 3)\n",
    "        \n",
    "        # Test\n",
    "        test_correct, test_total = 0, 0\n",
    "        model.eval()\n",
    "        for batch_id, (inputs, labels) in enumerate(test_loader):\n",
    "            inputs = {key: val.squeeze().to(device) for key, val in inputs.items()}\n",
    "            labels = labels.to(device)\n",
    "            preds = model(**inputs)[0]\n",
    "            _, predicted = torch.max(preds, 1)\n",
    "            test_correct += int((predicted == labels).sum())\n",
    "            test_total += len(labels)\n",
    "        test_acc = round(test_correct / test_total, 3)\n",
    "        if test_acc > best_acc:\n",
    "            best_acc = test_acc\n",
    "        \n",
    "        print(\"=\"*100)\n",
    "        print(f\"Epoch : {epoch+1} ||| Train Acc : {train_acc} ||| Test Acc : {test_acc}\")\n",
    "    \n",
    "    print(\"=\"*100)\n",
    "    print(f\"Final Best Acc : {best_acc}\")\n",
    "    print(\"=\"*100)"
   ]
  },
  {
   "cell_type": "markdown",
   "metadata": {},
   "source": [
    "### Fully Supervised Setting"
   ]
  },
  {
   "cell_type": "code",
   "execution_count": 6,
   "metadata": {
    "scrolled": true
   },
   "outputs": [
    {
     "name": "stderr",
     "output_type": "stream",
     "text": [
      "Using custom data configuration default\n",
      "Reusing dataset nsmc (/root/.cache/huggingface/datasets/nsmc/default/1.1.0/bfd4729bf1a67114e5267e6916b9e4807010aeb238e4a3c2b95fbfa3a014b5f3)\n"
     ]
    },
    {
     "data": {
      "application/vnd.jupyter.widget-view+json": {
       "model_id": "86b5e764db254c5bb2d7ace4c8c6dc3a",
       "version_major": 2,
       "version_minor": 0
      },
      "text/plain": [
       "  0%|          | 0/2 [00:00<?, ?it/s]"
      ]
     },
     "metadata": {},
     "output_type": "display_data"
    },
    {
     "name": "stderr",
     "output_type": "stream",
     "text": [
      "Using custom data configuration default\n",
      "Reusing dataset nsmc (/root/.cache/huggingface/datasets/nsmc/default/1.1.0/bfd4729bf1a67114e5267e6916b9e4807010aeb238e4a3c2b95fbfa3a014b5f3)\n"
     ]
    },
    {
     "data": {
      "application/vnd.jupyter.widget-view+json": {
       "model_id": "9cad8d761b5a4cfe8ef72fcbf3f2d56e",
       "version_major": 2,
       "version_minor": 0
      },
      "text/plain": [
       "  0%|          | 0/2 [00:00<?, ?it/s]"
      ]
     },
     "metadata": {},
     "output_type": "display_data"
    },
    {
     "name": "stdout",
     "output_type": "stream",
     "text": [
      "The number of labeled dataset : 40360\n",
      "The number of test dataset : 13667\n"
     ]
    },
    {
     "name": "stderr",
     "output_type": "stream",
     "text": [
      "Some weights of the model checkpoint at klue/bert-base were not used when initializing BertForSequenceClassification: ['cls.seq_relationship.weight', 'cls.predictions.bias', 'cls.predictions.decoder.bias', 'cls.predictions.transform.LayerNorm.bias', 'cls.predictions.transform.LayerNorm.weight', 'cls.predictions.transform.dense.bias', 'cls.predictions.transform.dense.weight', 'cls.predictions.decoder.weight', 'cls.seq_relationship.bias']\n",
      "- This IS expected if you are initializing BertForSequenceClassification from the checkpoint of a model trained on another task or with another architecture (e.g. initializing a BertForSequenceClassification model from a BertForPreTraining model).\n",
      "- This IS NOT expected if you are initializing BertForSequenceClassification from the checkpoint of a model that you expect to be exactly identical (initializing a BertForSequenceClassification model from a BertForSequenceClassification model).\n",
      "Some weights of BertForSequenceClassification were not initialized from the model checkpoint at klue/bert-base and are newly initialized: ['classifier.bias', 'classifier.weight']\n",
      "You should probably TRAIN this model on a down-stream task to be able to use it for predictions and inference.\n"
     ]
    },
    {
     "data": {
      "application/vnd.jupyter.widget-view+json": {
       "model_id": "458e35a50e804144a1884aaecac2f81a",
       "version_major": 2,
       "version_minor": 0
      },
      "text/plain": [
       "  0%|          | 0/158 [00:00<?, ?it/s]"
      ]
     },
     "metadata": {},
     "output_type": "display_data"
    },
    {
     "name": "stdout",
     "output_type": "stream",
     "text": [
      "====================================================================================================\n",
      "Epoch : 1 ||| Train Acc : 0.821 ||| Test Acc : 0.855\n"
     ]
    },
    {
     "data": {
      "application/vnd.jupyter.widget-view+json": {
       "model_id": "214dac6c873948289732dc8cc60fa1aa",
       "version_major": 2,
       "version_minor": 0
      },
      "text/plain": [
       "  0%|          | 0/158 [00:00<?, ?it/s]"
      ]
     },
     "metadata": {},
     "output_type": "display_data"
    },
    {
     "name": "stdout",
     "output_type": "stream",
     "text": [
      "====================================================================================================\n",
      "Epoch : 2 ||| Train Acc : 0.879 ||| Test Acc : 0.869\n"
     ]
    },
    {
     "data": {
      "application/vnd.jupyter.widget-view+json": {
       "model_id": "b0dcf9a2147640fba5a1751aecccf3c4",
       "version_major": 2,
       "version_minor": 0
      },
      "text/plain": [
       "  0%|          | 0/158 [00:00<?, ?it/s]"
      ]
     },
     "metadata": {},
     "output_type": "display_data"
    },
    {
     "name": "stdout",
     "output_type": "stream",
     "text": [
      "====================================================================================================\n",
      "Epoch : 3 ||| Train Acc : 0.901 ||| Test Acc : 0.879\n"
     ]
    },
    {
     "data": {
      "application/vnd.jupyter.widget-view+json": {
       "model_id": "3ded0684672a4552a58e761f4fbb474d",
       "version_major": 2,
       "version_minor": 0
      },
      "text/plain": [
       "  0%|          | 0/158 [00:00<?, ?it/s]"
      ]
     },
     "metadata": {},
     "output_type": "display_data"
    },
    {
     "name": "stdout",
     "output_type": "stream",
     "text": [
      "====================================================================================================\n",
      "Epoch : 4 ||| Train Acc : 0.916 ||| Test Acc : 0.879\n"
     ]
    },
    {
     "data": {
      "application/vnd.jupyter.widget-view+json": {
       "model_id": "818247795e7f4e58974df108a6ab9934",
       "version_major": 2,
       "version_minor": 0
      },
      "text/plain": [
       "  0%|          | 0/158 [00:00<?, ?it/s]"
      ]
     },
     "metadata": {},
     "output_type": "display_data"
    },
    {
     "name": "stdout",
     "output_type": "stream",
     "text": [
      "====================================================================================================\n",
      "Epoch : 5 ||| Train Acc : 0.932 ||| Test Acc : 0.881\n",
      "====================================================================================================\n",
      "Final Best Acc : 0.881\n",
      "====================================================================================================\n"
     ]
    }
   ],
   "source": [
    "args.uda_mode = False\n",
    "args.epochs = 5\n",
    "\n",
    "train(args)"
   ]
  },
  {
   "cell_type": "markdown",
   "metadata": {},
   "source": [
    "### UDA Setting"
   ]
  },
  {
   "cell_type": "code",
   "execution_count": 5,
   "metadata": {
    "scrolled": true
   },
   "outputs": [
    {
     "name": "stderr",
     "output_type": "stream",
     "text": [
      "Using custom data configuration default\n",
      "Reusing dataset nsmc (/root/.cache/huggingface/datasets/nsmc/default/1.1.0/bfd4729bf1a67114e5267e6916b9e4807010aeb238e4a3c2b95fbfa3a014b5f3)\n"
     ]
    },
    {
     "data": {
      "application/vnd.jupyter.widget-view+json": {
       "model_id": "d832f78f3e5b46b5b86d2d1d246a8e2c",
       "version_major": 2,
       "version_minor": 0
      },
      "text/plain": [
       "  0%|          | 0/2 [00:00<?, ?it/s]"
      ]
     },
     "metadata": {},
     "output_type": "display_data"
    },
    {
     "name": "stderr",
     "output_type": "stream",
     "text": [
      "Using custom data configuration default\n",
      "Reusing dataset nsmc (/root/.cache/huggingface/datasets/nsmc/default/1.1.0/bfd4729bf1a67114e5267e6916b9e4807010aeb238e4a3c2b95fbfa3a014b5f3)\n"
     ]
    },
    {
     "data": {
      "application/vnd.jupyter.widget-view+json": {
       "model_id": "6c7a98818ab74293b1e4543025562cce",
       "version_major": 2,
       "version_minor": 0
      },
      "text/plain": [
       "  0%|          | 0/2 [00:00<?, ?it/s]"
      ]
     },
     "metadata": {},
     "output_type": "display_data"
    },
    {
     "name": "stderr",
     "output_type": "stream",
     "text": [
      "Using custom data configuration default\n",
      "Reusing dataset nsmc (/root/.cache/huggingface/datasets/nsmc/default/1.1.0/bfd4729bf1a67114e5267e6916b9e4807010aeb238e4a3c2b95fbfa3a014b5f3)\n"
     ]
    },
    {
     "data": {
      "application/vnd.jupyter.widget-view+json": {
       "model_id": "e2be88385bda48dfbb17ace6a7cb8592",
       "version_major": 2,
       "version_minor": 0
      },
      "text/plain": [
       "  0%|          | 0/2 [00:00<?, ?it/s]"
      ]
     },
     "metadata": {},
     "output_type": "display_data"
    },
    {
     "name": "stdout",
     "output_type": "stream",
     "text": [
      "The number of labeled dataset : 20\n",
      "The number of unlabeled dataset : 40260\n",
      "The number of test dataset : 13667\n"
     ]
    },
    {
     "name": "stderr",
     "output_type": "stream",
     "text": [
      "Some weights of the model checkpoint at klue/bert-base were not used when initializing BertForSequenceClassification: ['cls.seq_relationship.weight', 'cls.predictions.bias', 'cls.predictions.decoder.bias', 'cls.predictions.transform.LayerNorm.bias', 'cls.predictions.transform.LayerNorm.weight', 'cls.predictions.transform.dense.bias', 'cls.predictions.transform.dense.weight', 'cls.predictions.decoder.weight', 'cls.seq_relationship.bias']\n",
      "- This IS expected if you are initializing BertForSequenceClassification from the checkpoint of a model trained on another task or with another architecture (e.g. initializing a BertForSequenceClassification model from a BertForPreTraining model).\n",
      "- This IS NOT expected if you are initializing BertForSequenceClassification from the checkpoint of a model that you expect to be exactly identical (initializing a BertForSequenceClassification model from a BertForSequenceClassification model).\n",
      "Some weights of BertForSequenceClassification were not initialized from the model checkpoint at klue/bert-base and are newly initialized: ['classifier.bias', 'classifier.weight']\n",
      "You should probably TRAIN this model on a down-stream task to be able to use it for predictions and inference.\n"
     ]
    },
    {
     "data": {
      "application/vnd.jupyter.widget-view+json": {
       "model_id": "16fa2436c58f40e7bf28e913337d892a",
       "version_major": 2,
       "version_minor": 0
      },
      "text/plain": [
       "  0%|          | 0/5 [00:00<?, ?it/s]"
      ]
     },
     "metadata": {},
     "output_type": "display_data"
    },
    {
     "name": "stdout",
     "output_type": "stream",
     "text": [
      "====================================================================================================\n",
      "Epoch : 1 ||| Train Acc : 0.45 ||| Test Acc : 0.576\n"
     ]
    },
    {
     "data": {
      "application/vnd.jupyter.widget-view+json": {
       "model_id": "8d459ddeb304471998fabd401c1c9c8a",
       "version_major": 2,
       "version_minor": 0
      },
      "text/plain": [
       "  0%|          | 0/5 [00:00<?, ?it/s]"
      ]
     },
     "metadata": {},
     "output_type": "display_data"
    },
    {
     "name": "stdout",
     "output_type": "stream",
     "text": [
      "====================================================================================================\n",
      "Epoch : 2 ||| Train Acc : 0.75 ||| Test Acc : 0.619\n"
     ]
    },
    {
     "data": {
      "application/vnd.jupyter.widget-view+json": {
       "model_id": "7dbe6e3dfb43418bb3364200c04e96e3",
       "version_major": 2,
       "version_minor": 0
      },
      "text/plain": [
       "  0%|          | 0/5 [00:00<?, ?it/s]"
      ]
     },
     "metadata": {},
     "output_type": "display_data"
    },
    {
     "name": "stdout",
     "output_type": "stream",
     "text": [
      "====================================================================================================\n",
      "Epoch : 3 ||| Train Acc : 0.9 ||| Test Acc : 0.654\n"
     ]
    },
    {
     "data": {
      "application/vnd.jupyter.widget-view+json": {
       "model_id": "fed48fe8bc0343988a15f3ae24a92e64",
       "version_major": 2,
       "version_minor": 0
      },
      "text/plain": [
       "  0%|          | 0/5 [00:00<?, ?it/s]"
      ]
     },
     "metadata": {},
     "output_type": "display_data"
    },
    {
     "name": "stdout",
     "output_type": "stream",
     "text": [
      "====================================================================================================\n",
      "Epoch : 4 ||| Train Acc : 1.0 ||| Test Acc : 0.675\n"
     ]
    },
    {
     "data": {
      "application/vnd.jupyter.widget-view+json": {
       "model_id": "cb1121fbaf7640b693cd6011ea3e0454",
       "version_major": 2,
       "version_minor": 0
      },
      "text/plain": [
       "  0%|          | 0/5 [00:00<?, ?it/s]"
      ]
     },
     "metadata": {},
     "output_type": "display_data"
    },
    {
     "name": "stdout",
     "output_type": "stream",
     "text": [
      "====================================================================================================\n",
      "Epoch : 5 ||| Train Acc : 1.0 ||| Test Acc : 0.688\n"
     ]
    },
    {
     "data": {
      "application/vnd.jupyter.widget-view+json": {
       "model_id": "7ba7db76c0954a7da59801d00ad3390c",
       "version_major": 2,
       "version_minor": 0
      },
      "text/plain": [
       "  0%|          | 0/5 [00:00<?, ?it/s]"
      ]
     },
     "metadata": {},
     "output_type": "display_data"
    },
    {
     "name": "stdout",
     "output_type": "stream",
     "text": [
      "====================================================================================================\n",
      "Epoch : 6 ||| Train Acc : 1.0 ||| Test Acc : 0.696\n"
     ]
    },
    {
     "data": {
      "application/vnd.jupyter.widget-view+json": {
       "model_id": "9d31143e6b794e18a9224a14706a282b",
       "version_major": 2,
       "version_minor": 0
      },
      "text/plain": [
       "  0%|          | 0/5 [00:00<?, ?it/s]"
      ]
     },
     "metadata": {},
     "output_type": "display_data"
    },
    {
     "name": "stdout",
     "output_type": "stream",
     "text": [
      "====================================================================================================\n",
      "Epoch : 7 ||| Train Acc : 1.0 ||| Test Acc : 0.704\n"
     ]
    },
    {
     "data": {
      "application/vnd.jupyter.widget-view+json": {
       "model_id": "2b0f8b06c3554d218bd57b18c2db2ef1",
       "version_major": 2,
       "version_minor": 0
      },
      "text/plain": [
       "  0%|          | 0/5 [00:00<?, ?it/s]"
      ]
     },
     "metadata": {},
     "output_type": "display_data"
    },
    {
     "name": "stdout",
     "output_type": "stream",
     "text": [
      "====================================================================================================\n",
      "Epoch : 8 ||| Train Acc : 1.0 ||| Test Acc : 0.721\n"
     ]
    },
    {
     "data": {
      "application/vnd.jupyter.widget-view+json": {
       "model_id": "2715d6495c6a451f9a9e2be0bb0fb366",
       "version_major": 2,
       "version_minor": 0
      },
      "text/plain": [
       "  0%|          | 0/5 [00:00<?, ?it/s]"
      ]
     },
     "metadata": {},
     "output_type": "display_data"
    },
    {
     "name": "stdout",
     "output_type": "stream",
     "text": [
      "====================================================================================================\n",
      "Epoch : 9 ||| Train Acc : 1.0 ||| Test Acc : 0.731\n"
     ]
    },
    {
     "data": {
      "application/vnd.jupyter.widget-view+json": {
       "model_id": "4521ed4199414c68a856fabcb8871277",
       "version_major": 2,
       "version_minor": 0
      },
      "text/plain": [
       "  0%|          | 0/5 [00:00<?, ?it/s]"
      ]
     },
     "metadata": {},
     "output_type": "display_data"
    },
    {
     "name": "stdout",
     "output_type": "stream",
     "text": [
      "====================================================================================================\n",
      "Epoch : 10 ||| Train Acc : 1.0 ||| Test Acc : 0.737\n",
      "====================================================================================================\n",
      "Final Best Acc : 0.737\n",
      "====================================================================================================\n"
     ]
    },
    {
     "name": "stderr",
     "output_type": "stream",
     "text": [
      "Using custom data configuration default\n",
      "Reusing dataset nsmc (/root/.cache/huggingface/datasets/nsmc/default/1.1.0/bfd4729bf1a67114e5267e6916b9e4807010aeb238e4a3c2b95fbfa3a014b5f3)\n"
     ]
    },
    {
     "data": {
      "application/vnd.jupyter.widget-view+json": {
       "model_id": "5a9c5aea375b4ba894795648316990db",
       "version_major": 2,
       "version_minor": 0
      },
      "text/plain": [
       "  0%|          | 0/2 [00:00<?, ?it/s]"
      ]
     },
     "metadata": {},
     "output_type": "display_data"
    },
    {
     "name": "stderr",
     "output_type": "stream",
     "text": [
      "Using custom data configuration default\n",
      "Reusing dataset nsmc (/root/.cache/huggingface/datasets/nsmc/default/1.1.0/bfd4729bf1a67114e5267e6916b9e4807010aeb238e4a3c2b95fbfa3a014b5f3)\n"
     ]
    },
    {
     "data": {
      "application/vnd.jupyter.widget-view+json": {
       "model_id": "f24ef48e23fe4a7ca99dfa18764942b7",
       "version_major": 2,
       "version_minor": 0
      },
      "text/plain": [
       "  0%|          | 0/2 [00:00<?, ?it/s]"
      ]
     },
     "metadata": {},
     "output_type": "display_data"
    },
    {
     "name": "stderr",
     "output_type": "stream",
     "text": [
      "Using custom data configuration default\n",
      "Reusing dataset nsmc (/root/.cache/huggingface/datasets/nsmc/default/1.1.0/bfd4729bf1a67114e5267e6916b9e4807010aeb238e4a3c2b95fbfa3a014b5f3)\n"
     ]
    },
    {
     "data": {
      "application/vnd.jupyter.widget-view+json": {
       "model_id": "fae8c9a608784bec9613ced6c753fb2e",
       "version_major": 2,
       "version_minor": 0
      },
      "text/plain": [
       "  0%|          | 0/2 [00:00<?, ?it/s]"
      ]
     },
     "metadata": {},
     "output_type": "display_data"
    },
    {
     "name": "stdout",
     "output_type": "stream",
     "text": [
      "The number of labeled dataset : 100\n",
      "The number of unlabeled dataset : 40260\n",
      "The number of test dataset : 13667\n"
     ]
    },
    {
     "name": "stderr",
     "output_type": "stream",
     "text": [
      "Some weights of the model checkpoint at klue/bert-base were not used when initializing BertForSequenceClassification: ['cls.seq_relationship.weight', 'cls.predictions.bias', 'cls.predictions.decoder.bias', 'cls.predictions.transform.LayerNorm.bias', 'cls.predictions.transform.LayerNorm.weight', 'cls.predictions.transform.dense.bias', 'cls.predictions.transform.dense.weight', 'cls.predictions.decoder.weight', 'cls.seq_relationship.bias']\n",
      "- This IS expected if you are initializing BertForSequenceClassification from the checkpoint of a model trained on another task or with another architecture (e.g. initializing a BertForSequenceClassification model from a BertForPreTraining model).\n",
      "- This IS NOT expected if you are initializing BertForSequenceClassification from the checkpoint of a model that you expect to be exactly identical (initializing a BertForSequenceClassification model from a BertForSequenceClassification model).\n",
      "Some weights of BertForSequenceClassification were not initialized from the model checkpoint at klue/bert-base and are newly initialized: ['classifier.bias', 'classifier.weight']\n",
      "You should probably TRAIN this model on a down-stream task to be able to use it for predictions and inference.\n"
     ]
    },
    {
     "data": {
      "application/vnd.jupyter.widget-view+json": {
       "model_id": "b566ccff947b48fda1f851d8f4322b46",
       "version_major": 2,
       "version_minor": 0
      },
      "text/plain": [
       "  0%|          | 0/25 [00:00<?, ?it/s]"
      ]
     },
     "metadata": {},
     "output_type": "display_data"
    },
    {
     "name": "stdout",
     "output_type": "stream",
     "text": [
      "====================================================================================================\n",
      "Epoch : 1 ||| Train Acc : 0.55 ||| Test Acc : 0.663\n"
     ]
    },
    {
     "data": {
      "application/vnd.jupyter.widget-view+json": {
       "model_id": "3f74afdbe11240eebf155af93bba3f7f",
       "version_major": 2,
       "version_minor": 0
      },
      "text/plain": [
       "  0%|          | 0/25 [00:00<?, ?it/s]"
      ]
     },
     "metadata": {},
     "output_type": "display_data"
    },
    {
     "name": "stdout",
     "output_type": "stream",
     "text": [
      "====================================================================================================\n",
      "Epoch : 2 ||| Train Acc : 0.79 ||| Test Acc : 0.723\n"
     ]
    },
    {
     "data": {
      "application/vnd.jupyter.widget-view+json": {
       "model_id": "9acac2033a894b9ab93323479cfb8b2b",
       "version_major": 2,
       "version_minor": 0
      },
      "text/plain": [
       "  0%|          | 0/25 [00:00<?, ?it/s]"
      ]
     },
     "metadata": {},
     "output_type": "display_data"
    },
    {
     "name": "stdout",
     "output_type": "stream",
     "text": [
      "====================================================================================================\n",
      "Epoch : 3 ||| Train Acc : 0.9 ||| Test Acc : 0.713\n"
     ]
    },
    {
     "data": {
      "application/vnd.jupyter.widget-view+json": {
       "model_id": "b71e437fbf6b40a58e8833112f920735",
       "version_major": 2,
       "version_minor": 0
      },
      "text/plain": [
       "  0%|          | 0/25 [00:00<?, ?it/s]"
      ]
     },
     "metadata": {},
     "output_type": "display_data"
    },
    {
     "name": "stdout",
     "output_type": "stream",
     "text": [
      "====================================================================================================\n",
      "Epoch : 4 ||| Train Acc : 0.94 ||| Test Acc : 0.741\n"
     ]
    },
    {
     "data": {
      "application/vnd.jupyter.widget-view+json": {
       "model_id": "4d60b2e140cf4f4fb6a8d65ce23aa2a4",
       "version_major": 2,
       "version_minor": 0
      },
      "text/plain": [
       "  0%|          | 0/25 [00:00<?, ?it/s]"
      ]
     },
     "metadata": {},
     "output_type": "display_data"
    },
    {
     "name": "stdout",
     "output_type": "stream",
     "text": [
      "====================================================================================================\n",
      "Epoch : 5 ||| Train Acc : 1.0 ||| Test Acc : 0.758\n"
     ]
    },
    {
     "data": {
      "application/vnd.jupyter.widget-view+json": {
       "model_id": "361511da7dbb4f1ea19c7e37f0ef2ee4",
       "version_major": 2,
       "version_minor": 0
      },
      "text/plain": [
       "  0%|          | 0/25 [00:00<?, ?it/s]"
      ]
     },
     "metadata": {},
     "output_type": "display_data"
    },
    {
     "name": "stdout",
     "output_type": "stream",
     "text": [
      "====================================================================================================\n",
      "Epoch : 6 ||| Train Acc : 1.0 ||| Test Acc : 0.758\n"
     ]
    },
    {
     "data": {
      "application/vnd.jupyter.widget-view+json": {
       "model_id": "ff66aa22ad47400195b584dd5e5a63c3",
       "version_major": 2,
       "version_minor": 0
      },
      "text/plain": [
       "  0%|          | 0/25 [00:00<?, ?it/s]"
      ]
     },
     "metadata": {},
     "output_type": "display_data"
    },
    {
     "name": "stdout",
     "output_type": "stream",
     "text": [
      "====================================================================================================\n",
      "Epoch : 7 ||| Train Acc : 1.0 ||| Test Acc : 0.768\n"
     ]
    },
    {
     "data": {
      "application/vnd.jupyter.widget-view+json": {
       "model_id": "f865548c9017471d8f83c17d9f06d1cd",
       "version_major": 2,
       "version_minor": 0
      },
      "text/plain": [
       "  0%|          | 0/25 [00:00<?, ?it/s]"
      ]
     },
     "metadata": {},
     "output_type": "display_data"
    },
    {
     "name": "stdout",
     "output_type": "stream",
     "text": [
      "====================================================================================================\n",
      "Epoch : 8 ||| Train Acc : 1.0 ||| Test Acc : 0.765\n"
     ]
    },
    {
     "data": {
      "application/vnd.jupyter.widget-view+json": {
       "model_id": "d35390891b3a4b0b9cac50a0b2a1d891",
       "version_major": 2,
       "version_minor": 0
      },
      "text/plain": [
       "  0%|          | 0/25 [00:00<?, ?it/s]"
      ]
     },
     "metadata": {},
     "output_type": "display_data"
    },
    {
     "name": "stdout",
     "output_type": "stream",
     "text": [
      "====================================================================================================\n",
      "Epoch : 9 ||| Train Acc : 1.0 ||| Test Acc : 0.766\n"
     ]
    },
    {
     "data": {
      "application/vnd.jupyter.widget-view+json": {
       "model_id": "5037759cc1f1416c91b780b99e64b6a6",
       "version_major": 2,
       "version_minor": 0
      },
      "text/plain": [
       "  0%|          | 0/25 [00:00<?, ?it/s]"
      ]
     },
     "metadata": {},
     "output_type": "display_data"
    },
    {
     "name": "stdout",
     "output_type": "stream",
     "text": [
      "====================================================================================================\n",
      "Epoch : 10 ||| Train Acc : 1.0 ||| Test Acc : 0.768\n",
      "====================================================================================================\n",
      "Final Best Acc : 0.768\n",
      "====================================================================================================\n"
     ]
    },
    {
     "name": "stderr",
     "output_type": "stream",
     "text": [
      "Using custom data configuration default\n",
      "Reusing dataset nsmc (/root/.cache/huggingface/datasets/nsmc/default/1.1.0/bfd4729bf1a67114e5267e6916b9e4807010aeb238e4a3c2b95fbfa3a014b5f3)\n"
     ]
    },
    {
     "data": {
      "application/vnd.jupyter.widget-view+json": {
       "model_id": "28a9dd449d53437fb14fcf1da349256e",
       "version_major": 2,
       "version_minor": 0
      },
      "text/plain": [
       "  0%|          | 0/2 [00:00<?, ?it/s]"
      ]
     },
     "metadata": {},
     "output_type": "display_data"
    },
    {
     "name": "stderr",
     "output_type": "stream",
     "text": [
      "Using custom data configuration default\n",
      "Reusing dataset nsmc (/root/.cache/huggingface/datasets/nsmc/default/1.1.0/bfd4729bf1a67114e5267e6916b9e4807010aeb238e4a3c2b95fbfa3a014b5f3)\n"
     ]
    },
    {
     "data": {
      "application/vnd.jupyter.widget-view+json": {
       "model_id": "76dca17a757d47e6a2d8ae4554ef30fc",
       "version_major": 2,
       "version_minor": 0
      },
      "text/plain": [
       "  0%|          | 0/2 [00:00<?, ?it/s]"
      ]
     },
     "metadata": {},
     "output_type": "display_data"
    },
    {
     "name": "stderr",
     "output_type": "stream",
     "text": [
      "Using custom data configuration default\n",
      "Reusing dataset nsmc (/root/.cache/huggingface/datasets/nsmc/default/1.1.0/bfd4729bf1a67114e5267e6916b9e4807010aeb238e4a3c2b95fbfa3a014b5f3)\n"
     ]
    },
    {
     "data": {
      "application/vnd.jupyter.widget-view+json": {
       "model_id": "bf7bb78319904810b456362d347662f9",
       "version_major": 2,
       "version_minor": 0
      },
      "text/plain": [
       "  0%|          | 0/2 [00:00<?, ?it/s]"
      ]
     },
     "metadata": {},
     "output_type": "display_data"
    },
    {
     "name": "stdout",
     "output_type": "stream",
     "text": [
      "The number of labeled dataset : 1007\n",
      "The number of unlabeled dataset : 40260\n",
      "The number of test dataset : 13667\n"
     ]
    },
    {
     "name": "stderr",
     "output_type": "stream",
     "text": [
      "Some weights of the model checkpoint at klue/bert-base were not used when initializing BertForSequenceClassification: ['cls.seq_relationship.weight', 'cls.predictions.bias', 'cls.predictions.decoder.bias', 'cls.predictions.transform.LayerNorm.bias', 'cls.predictions.transform.LayerNorm.weight', 'cls.predictions.transform.dense.bias', 'cls.predictions.transform.dense.weight', 'cls.predictions.decoder.weight', 'cls.seq_relationship.bias']\n",
      "- This IS expected if you are initializing BertForSequenceClassification from the checkpoint of a model trained on another task or with another architecture (e.g. initializing a BertForSequenceClassification model from a BertForPreTraining model).\n",
      "- This IS NOT expected if you are initializing BertForSequenceClassification from the checkpoint of a model that you expect to be exactly identical (initializing a BertForSequenceClassification model from a BertForSequenceClassification model).\n",
      "Some weights of BertForSequenceClassification were not initialized from the model checkpoint at klue/bert-base and are newly initialized: ['classifier.bias', 'classifier.weight']\n",
      "You should probably TRAIN this model on a down-stream task to be able to use it for predictions and inference.\n"
     ]
    },
    {
     "data": {
      "application/vnd.jupyter.widget-view+json": {
       "model_id": "d35064c6504e4e9b9bd71d59e823cdcc",
       "version_major": 2,
       "version_minor": 0
      },
      "text/plain": [
       "  0%|          | 0/252 [00:00<?, ?it/s]"
      ]
     },
     "metadata": {},
     "output_type": "display_data"
    },
    {
     "name": "stdout",
     "output_type": "stream",
     "text": [
      "====================================================================================================\n",
      "Epoch : 1 ||| Train Acc : 0.761 ||| Test Acc : 0.819\n"
     ]
    },
    {
     "data": {
      "application/vnd.jupyter.widget-view+json": {
       "model_id": "fc1fab2d28414852a921207bcee33924",
       "version_major": 2,
       "version_minor": 0
      },
      "text/plain": [
       "  0%|          | 0/252 [00:00<?, ?it/s]"
      ]
     },
     "metadata": {},
     "output_type": "display_data"
    },
    {
     "name": "stdout",
     "output_type": "stream",
     "text": [
      "====================================================================================================\n",
      "Epoch : 2 ||| Train Acc : 0.901 ||| Test Acc : 0.837\n"
     ]
    },
    {
     "data": {
      "application/vnd.jupyter.widget-view+json": {
       "model_id": "e6ab05d0bcdd441db35c7ef654d7a94e",
       "version_major": 2,
       "version_minor": 0
      },
      "text/plain": [
       "  0%|          | 0/252 [00:00<?, ?it/s]"
      ]
     },
     "metadata": {},
     "output_type": "display_data"
    },
    {
     "name": "stdout",
     "output_type": "stream",
     "text": [
      "====================================================================================================\n",
      "Epoch : 3 ||| Train Acc : 0.97 ||| Test Acc : 0.833\n"
     ]
    },
    {
     "data": {
      "application/vnd.jupyter.widget-view+json": {
       "model_id": "b57ac8f2c6b84f34b2f0900dfcc8b90e",
       "version_major": 2,
       "version_minor": 0
      },
      "text/plain": [
       "  0%|          | 0/252 [00:00<?, ?it/s]"
      ]
     },
     "metadata": {},
     "output_type": "display_data"
    },
    {
     "name": "stdout",
     "output_type": "stream",
     "text": [
      "====================================================================================================\n",
      "Epoch : 4 ||| Train Acc : 0.994 ||| Test Acc : 0.839\n"
     ]
    },
    {
     "data": {
      "application/vnd.jupyter.widget-view+json": {
       "model_id": "2bd2a4c0ef8e420c9bf5eb7d19a837e5",
       "version_major": 2,
       "version_minor": 0
      },
      "text/plain": [
       "  0%|          | 0/252 [00:00<?, ?it/s]"
      ]
     },
     "metadata": {},
     "output_type": "display_data"
    },
    {
     "name": "stdout",
     "output_type": "stream",
     "text": [
      "====================================================================================================\n",
      "Epoch : 5 ||| Train Acc : 0.995 ||| Test Acc : 0.831\n"
     ]
    },
    {
     "data": {
      "application/vnd.jupyter.widget-view+json": {
       "model_id": "ea1076dd6d3b4fb281f1535c44d03d32",
       "version_major": 2,
       "version_minor": 0
      },
      "text/plain": [
       "  0%|          | 0/252 [00:00<?, ?it/s]"
      ]
     },
     "metadata": {},
     "output_type": "display_data"
    },
    {
     "name": "stdout",
     "output_type": "stream",
     "text": [
      "====================================================================================================\n",
      "Epoch : 6 ||| Train Acc : 0.998 ||| Test Acc : 0.84\n"
     ]
    },
    {
     "data": {
      "application/vnd.jupyter.widget-view+json": {
       "model_id": "184faa283786422490467f0ce3ef98c9",
       "version_major": 2,
       "version_minor": 0
      },
      "text/plain": [
       "  0%|          | 0/252 [00:00<?, ?it/s]"
      ]
     },
     "metadata": {},
     "output_type": "display_data"
    },
    {
     "name": "stdout",
     "output_type": "stream",
     "text": [
      "====================================================================================================\n",
      "Epoch : 7 ||| Train Acc : 0.995 ||| Test Acc : 0.827\n"
     ]
    },
    {
     "data": {
      "application/vnd.jupyter.widget-view+json": {
       "model_id": "afd898b4cd6245f584c12e03d9365927",
       "version_major": 2,
       "version_minor": 0
      },
      "text/plain": [
       "  0%|          | 0/252 [00:00<?, ?it/s]"
      ]
     },
     "metadata": {},
     "output_type": "display_data"
    },
    {
     "name": "stdout",
     "output_type": "stream",
     "text": [
      "====================================================================================================\n",
      "Epoch : 8 ||| Train Acc : 0.997 ||| Test Acc : 0.837\n"
     ]
    },
    {
     "data": {
      "application/vnd.jupyter.widget-view+json": {
       "model_id": "cc5f04c1fd464522991fbf6fa15c1f6b",
       "version_major": 2,
       "version_minor": 0
      },
      "text/plain": [
       "  0%|          | 0/252 [00:00<?, ?it/s]"
      ]
     },
     "metadata": {},
     "output_type": "display_data"
    },
    {
     "name": "stdout",
     "output_type": "stream",
     "text": [
      "====================================================================================================\n",
      "Epoch : 9 ||| Train Acc : 1.0 ||| Test Acc : 0.84\n"
     ]
    },
    {
     "data": {
      "application/vnd.jupyter.widget-view+json": {
       "model_id": "b7b92fe6df754bc0b6bb3dd954779a0a",
       "version_major": 2,
       "version_minor": 0
      },
      "text/plain": [
       "  0%|          | 0/252 [00:00<?, ?it/s]"
      ]
     },
     "metadata": {},
     "output_type": "display_data"
    },
    {
     "name": "stdout",
     "output_type": "stream",
     "text": [
      "====================================================================================================\n",
      "Epoch : 10 ||| Train Acc : 0.999 ||| Test Acc : 0.834\n",
      "====================================================================================================\n",
      "Final Best Acc : 0.84\n",
      "====================================================================================================\n"
     ]
    }
   ],
   "source": [
    "args.uda_mode = True\n",
    "args.epochs = 10\n",
    "\n",
    "args.n = 20\n",
    "train(args)\n",
    "args.n = 100\n",
    "train(args)\n",
    "args.n = 1000\n",
    "train(args)"
   ]
  },
  {
   "cell_type": "markdown",
   "metadata": {},
   "source": [
    "## 3️⃣ Train K-UDA with Additional Settings\n",
    "> [다음 블로그](https://joungheekim.github.io/2020/12/13/code-review/)를 참고하여 논문에 나온 3가지 추가적인 세팅에 따른 UDA 성능을 측정해보았습니다.   \n",
    "> ① Training Signal Annealing (TSA) : 상대적으로 적은 Labeled 데이터에 모델이 빠르게 과적합되지 않도록 방지하는 방법  \n",
    "> ② Confidence-based Masking : 모델의 예측 확률에 기반해 확실한 Unlabeled 데이터만 이용하는 방법  \n",
    "> ③ Sharpening Prediction : Unlabeled 데이터의 확률 분포를 변형하여 Consistency Loss를 증가시키기 위한 방법  \n",
    "\n",
    "||Accuracy|\n",
    "|:---|:---:|\n",
    "|Base UDA|0.838|\n",
    "|+ Training Signal Annealing|0.842|\n",
    "|+ Confidence-based Masking|**0.847**|\n",
    "|+ Sharpening Prediction|0.841|\n",
    "|+ All|0.845|\n",
    "\n",
    "- 최종적으로 아무 설정을 추가하지 않은 Base UDA 성능에 비해 모든 설정에서 성능 향상을 확인할 수 있었으며, 특히 Confidence-based Masking만 추가했을 때 약 0.01 정도의 큰 성능 향상을 보였습니다.\n",
    "- 모든 설정을 다 추가했을 때의 성능이 Confidence-based Masking만 추가했을 때의 성능에 비해 0.002 낮게 나온 점도 확인할 수 있었는데, 이는 Seed에 따라 충분히 다른 결과를 보일 수 있는 부분이라고 생각하며 중요한 건 모든 추가적인 설정이 Base UDA에 비해 유의미한 성능 향상을 보인 것이라고 생각합니다."
   ]
  },
  {
   "cell_type": "code",
   "execution_count": 7,
   "metadata": {},
   "outputs": [],
   "source": [
    "def advanced_train(args, tsa=False, conf_mask=False, sharpening=False):\n",
    "    # Prepare Dataset & DataLoader\n",
    "    if not args.uda_mode:\n",
    "        train_dataset = NSMCDataset(args, 'train', uda_mode=args.uda_mode)\n",
    "        test_dataset = NSMCDataset(args, 'test', uda_mode=args.uda_mode)\n",
    "        train_loader = DataLoader(train_dataset, batch_size=256, num_workers=0, shuffle=True)\n",
    "        test_loader = DataLoader(test_dataset, batch_size=256, num_workers=0, shuffle=False)\n",
    "        print(f\"The number of labeled dataset : {len(train_dataset)}\")\n",
    "        print(f\"The number of test dataset : {len(test_dataset)}\")\n",
    "    else:\n",
    "        train_dataset = NSMCDataset(args, 'train', is_unlabeled=False, n=args.n)\n",
    "        unsup_train_dataset = NSMCDataset(args, 'train', is_unlabeled=True)\n",
    "        test_dataset = NSMCDataset(args, 'test', is_unlabeled=False)\n",
    "        print(f\"The number of labeled dataset : {len(train_dataset)}\")\n",
    "        print(f\"The number of unlabeled dataset : {len(unsup_train_dataset)}\")\n",
    "        print(f\"The number of test dataset : {len(test_dataset)}\")\n",
    "\n",
    "        train_loader = DataLoader(train_dataset, batch_size=4, num_workers=0, shuffle=True)\n",
    "        unsup_train_loader = DataLoader(unsup_train_dataset, batch_size=256, num_workers=0, shuffle=True)\n",
    "        test_loader = DataLoader(test_dataset, batch_size=256, num_workers=0, shuffle=False)\n",
    "        \n",
    "        unsup_train_iter = iter(unsup_train_loader)\n",
    "        \n",
    "    # Define Model, Optimizer, Loss\n",
    "    model = AutoModelForSequenceClassification.from_pretrained(args.model_name)\n",
    "    device = torch.device(\"cuda\" if torch.cuda.is_available() else \"cpu\")\n",
    "    model.to(device)\n",
    "    optimizer = AdamW(model.parameters(), lr=args.lr)\n",
    "    sup_loss = nn.CrossEntropyLoss(reduction='none')\n",
    "    unsup_loss = nn.KLDivLoss(reduction='none')\n",
    "    best_acc = 0.0\n",
    "    global_step = 0\n",
    "    total_steps = len(train_loader) * args.epochs\n",
    "    \n",
    "    for epoch in range(args.epochs):\n",
    "        # Train\n",
    "        train_acc = 0.0\n",
    "        model.train()\n",
    "        for batch_id, (inputs, labels) in enumerate(tqdm(train_loader)):\n",
    "            global_step += 1\n",
    "            optimizer.zero_grad()\n",
    "            inputs = {key: val.squeeze().to(device) for key, val in inputs.items()}\n",
    "            labels = labels.to(device)\n",
    "            preds = model(**inputs)[0]\n",
    "            loss = sup_loss(preds, labels)\n",
    "            \n",
    "            # Training Signal Annealing (TSA)\n",
    "            if tsa:\n",
    "                tsa_threshold = (global_step / total_steps) * 0.5 + 0.5\n",
    "                preds_prob = torch.exp(-loss)\n",
    "                tsa_mask = preds_prob.le(tsa_threshold)\n",
    "                loss = (loss * tsa_mask).mean()\n",
    "            else:\n",
    "                loss = loss.mean()\n",
    "                \n",
    "            if args.uda_mode:\n",
    "                try:\n",
    "                    original_inputs, bt_inputs = next(unsup_train_iter)\n",
    "                except StopIteration:\n",
    "                    unsup_train_iter = iter(unsup_train_loader)\n",
    "                    original_inputs, bt_inputs = next(unsup_train_iter)\n",
    "                bt_inputs = {key: val.squeeze().to(device) for key, val in bt_inputs.items()}\n",
    "                bt_preds = model(**bt_inputs)[0]\n",
    "                model.eval()\n",
    "                with torch.no_grad():\n",
    "                    original_inputs = {key: val.squeeze().to(device) for key, val in original_inputs.items()}\n",
    "                    original_preds = model(**original_inputs)[0]\n",
    "                model.train()\n",
    "                \n",
    "                # Sharpening Prediction\n",
    "                if sharpening:\n",
    "                    original_probs = F.softmax(original_preds/0.85, dim=1) \n",
    "                else:\n",
    "                    original_probs = F.softmax(original_preds, dim=1) \n",
    "                bt_probs = F.log_softmax(bt_preds, dim=1)\n",
    "                consistency_loss = unsup_loss(bt_probs, original_probs).sum(dim=-1)\n",
    "                \n",
    "                # Confidence-based Masking\n",
    "                if conf_mask:\n",
    "                    unsup_loss_mask = torch.max(F.softmax(original_preds), dim=1)[0]\n",
    "                    unsup_loss_mask = unsup_loss_mask.ge(0.5)\n",
    "                    consistency_loss = (consistency_loss * unsup_loss_mask).mean()\n",
    "                else:\n",
    "                    consistency_loss = consistency_loss.mean()\n",
    "                loss += consistency_loss\n",
    "            loss.backward()\n",
    "            optimizer.step()\n",
    "            train_acc += calc_accuracy(preds, labels)\n",
    "\n",
    "        train_acc = round(train_acc / (batch_id+1), 3)\n",
    "        \n",
    "        # Test\n",
    "        test_correct, test_total = 0, 0\n",
    "        model.eval()\n",
    "        for batch_id, (inputs, labels) in enumerate(test_loader):\n",
    "            inputs = {key: val.squeeze().to(device) for key, val in inputs.items()}\n",
    "            labels = labels.to(device)\n",
    "            preds = model(**inputs)[0]\n",
    "            _, predicted = torch.max(preds, 1)\n",
    "            test_correct += int((predicted == labels).sum())\n",
    "            test_total += len(labels)\n",
    "        test_acc = round(test_correct / test_total, 3)\n",
    "        if test_acc > best_acc:\n",
    "            best_acc = test_acc\n",
    "        \n",
    "        print(\"=\"*100)\n",
    "        print(f\"Epoch : {epoch+1} ||| Train Acc : {train_acc} ||| Test Acc : {test_acc}\")\n",
    "    \n",
    "    print(\"=\"*100)\n",
    "    print(f\"Final Best Acc : {best_acc}\")\n",
    "    print(\"=\"*100)"
   ]
  },
  {
   "cell_type": "code",
   "execution_count": 8,
   "metadata": {},
   "outputs": [
    {
     "name": "stderr",
     "output_type": "stream",
     "text": [
      "Using custom data configuration default\n",
      "Reusing dataset nsmc (/root/.cache/huggingface/datasets/nsmc/default/1.1.0/bfd4729bf1a67114e5267e6916b9e4807010aeb238e4a3c2b95fbfa3a014b5f3)\n"
     ]
    },
    {
     "data": {
      "application/vnd.jupyter.widget-view+json": {
       "model_id": "f8907a559b3a493ca6e07b9cbdd32e59",
       "version_major": 2,
       "version_minor": 0
      },
      "text/plain": [
       "  0%|          | 0/2 [00:00<?, ?it/s]"
      ]
     },
     "metadata": {},
     "output_type": "display_data"
    },
    {
     "name": "stderr",
     "output_type": "stream",
     "text": [
      "Using custom data configuration default\n",
      "Reusing dataset nsmc (/root/.cache/huggingface/datasets/nsmc/default/1.1.0/bfd4729bf1a67114e5267e6916b9e4807010aeb238e4a3c2b95fbfa3a014b5f3)\n"
     ]
    },
    {
     "data": {
      "application/vnd.jupyter.widget-view+json": {
       "model_id": "9ff1d6fea1454ff49aac22156dc91b5c",
       "version_major": 2,
       "version_minor": 0
      },
      "text/plain": [
       "  0%|          | 0/2 [00:00<?, ?it/s]"
      ]
     },
     "metadata": {},
     "output_type": "display_data"
    },
    {
     "name": "stderr",
     "output_type": "stream",
     "text": [
      "Using custom data configuration default\n",
      "Reusing dataset nsmc (/root/.cache/huggingface/datasets/nsmc/default/1.1.0/bfd4729bf1a67114e5267e6916b9e4807010aeb238e4a3c2b95fbfa3a014b5f3)\n"
     ]
    },
    {
     "data": {
      "application/vnd.jupyter.widget-view+json": {
       "model_id": "118a786f2b0344ae97e1e197d4ebfb12",
       "version_major": 2,
       "version_minor": 0
      },
      "text/plain": [
       "  0%|          | 0/2 [00:00<?, ?it/s]"
      ]
     },
     "metadata": {},
     "output_type": "display_data"
    },
    {
     "name": "stdout",
     "output_type": "stream",
     "text": [
      "The number of labeled dataset : 1002\n",
      "The number of unlabeled dataset : 40260\n",
      "The number of test dataset : 13667\n"
     ]
    },
    {
     "name": "stderr",
     "output_type": "stream",
     "text": [
      "Some weights of the model checkpoint at klue/bert-base were not used when initializing BertForSequenceClassification: ['cls.seq_relationship.weight', 'cls.predictions.bias', 'cls.predictions.decoder.bias', 'cls.predictions.transform.LayerNorm.bias', 'cls.predictions.transform.LayerNorm.weight', 'cls.predictions.transform.dense.bias', 'cls.predictions.transform.dense.weight', 'cls.predictions.decoder.weight', 'cls.seq_relationship.bias']\n",
      "- This IS expected if you are initializing BertForSequenceClassification from the checkpoint of a model trained on another task or with another architecture (e.g. initializing a BertForSequenceClassification model from a BertForPreTraining model).\n",
      "- This IS NOT expected if you are initializing BertForSequenceClassification from the checkpoint of a model that you expect to be exactly identical (initializing a BertForSequenceClassification model from a BertForSequenceClassification model).\n",
      "Some weights of BertForSequenceClassification were not initialized from the model checkpoint at klue/bert-base and are newly initialized: ['classifier.bias', 'classifier.weight']\n",
      "You should probably TRAIN this model on a down-stream task to be able to use it for predictions and inference.\n"
     ]
    },
    {
     "data": {
      "application/vnd.jupyter.widget-view+json": {
       "model_id": "98d86505d32849719ee61a4343e77566",
       "version_major": 2,
       "version_minor": 0
      },
      "text/plain": [
       "  0%|          | 0/251 [00:00<?, ?it/s]"
      ]
     },
     "metadata": {},
     "output_type": "display_data"
    },
    {
     "name": "stdout",
     "output_type": "stream",
     "text": [
      "====================================================================================================\n",
      "Epoch : 1 ||| Train Acc : 0.764 ||| Test Acc : 0.811\n"
     ]
    },
    {
     "data": {
      "application/vnd.jupyter.widget-view+json": {
       "model_id": "0d08d9ac04ea4edc8835634c2f7e2bbf",
       "version_major": 2,
       "version_minor": 0
      },
      "text/plain": [
       "  0%|          | 0/251 [00:00<?, ?it/s]"
      ]
     },
     "metadata": {},
     "output_type": "display_data"
    },
    {
     "name": "stdout",
     "output_type": "stream",
     "text": [
      "====================================================================================================\n",
      "Epoch : 2 ||| Train Acc : 0.895 ||| Test Acc : 0.815\n"
     ]
    },
    {
     "data": {
      "application/vnd.jupyter.widget-view+json": {
       "model_id": "5bd4b91d2b104c148820923d9fb061f5",
       "version_major": 2,
       "version_minor": 0
      },
      "text/plain": [
       "  0%|          | 0/251 [00:00<?, ?it/s]"
      ]
     },
     "metadata": {},
     "output_type": "display_data"
    },
    {
     "name": "stdout",
     "output_type": "stream",
     "text": [
      "====================================================================================================\n",
      "Epoch : 3 ||| Train Acc : 0.955 ||| Test Acc : 0.831\n"
     ]
    },
    {
     "data": {
      "application/vnd.jupyter.widget-view+json": {
       "model_id": "3d2cbd9849bd4c0e8cd9a524400ba7c5",
       "version_major": 2,
       "version_minor": 0
      },
      "text/plain": [
       "  0%|          | 0/251 [00:00<?, ?it/s]"
      ]
     },
     "metadata": {},
     "output_type": "display_data"
    },
    {
     "name": "stdout",
     "output_type": "stream",
     "text": [
      "====================================================================================================\n",
      "Epoch : 4 ||| Train Acc : 0.988 ||| Test Acc : 0.831\n"
     ]
    },
    {
     "data": {
      "application/vnd.jupyter.widget-view+json": {
       "model_id": "971b025abbd54ea8812c18c6c6ed1ee0",
       "version_major": 2,
       "version_minor": 0
      },
      "text/plain": [
       "  0%|          | 0/251 [00:00<?, ?it/s]"
      ]
     },
     "metadata": {},
     "output_type": "display_data"
    },
    {
     "name": "stdout",
     "output_type": "stream",
     "text": [
      "====================================================================================================\n",
      "Epoch : 5 ||| Train Acc : 0.998 ||| Test Acc : 0.837\n"
     ]
    },
    {
     "data": {
      "application/vnd.jupyter.widget-view+json": {
       "model_id": "75055f139d72412d8d18999bb05bc912",
       "version_major": 2,
       "version_minor": 0
      },
      "text/plain": [
       "  0%|          | 0/251 [00:00<?, ?it/s]"
      ]
     },
     "metadata": {},
     "output_type": "display_data"
    },
    {
     "name": "stdout",
     "output_type": "stream",
     "text": [
      "====================================================================================================\n",
      "Epoch : 6 ||| Train Acc : 0.999 ||| Test Acc : 0.838\n"
     ]
    },
    {
     "data": {
      "application/vnd.jupyter.widget-view+json": {
       "model_id": "5ed7cefecb084b3da4c6583d48eeec73",
       "version_major": 2,
       "version_minor": 0
      },
      "text/plain": [
       "  0%|          | 0/251 [00:00<?, ?it/s]"
      ]
     },
     "metadata": {},
     "output_type": "display_data"
    },
    {
     "name": "stdout",
     "output_type": "stream",
     "text": [
      "====================================================================================================\n",
      "Epoch : 7 ||| Train Acc : 0.998 ||| Test Acc : 0.834\n"
     ]
    },
    {
     "data": {
      "application/vnd.jupyter.widget-view+json": {
       "model_id": "1d04d9eb3a7d4839b8fa74c98e6f7e17",
       "version_major": 2,
       "version_minor": 0
      },
      "text/plain": [
       "  0%|          | 0/251 [00:00<?, ?it/s]"
      ]
     },
     "metadata": {},
     "output_type": "display_data"
    },
    {
     "name": "stdout",
     "output_type": "stream",
     "text": [
      "====================================================================================================\n",
      "Epoch : 8 ||| Train Acc : 0.997 ||| Test Acc : 0.837\n"
     ]
    },
    {
     "data": {
      "application/vnd.jupyter.widget-view+json": {
       "model_id": "e302367bb27f44dca55acbcb2233858c",
       "version_major": 2,
       "version_minor": 0
      },
      "text/plain": [
       "  0%|          | 0/251 [00:00<?, ?it/s]"
      ]
     },
     "metadata": {},
     "output_type": "display_data"
    },
    {
     "name": "stdout",
     "output_type": "stream",
     "text": [
      "====================================================================================================\n",
      "Epoch : 9 ||| Train Acc : 0.999 ||| Test Acc : 0.837\n"
     ]
    },
    {
     "data": {
      "application/vnd.jupyter.widget-view+json": {
       "model_id": "feefef87bb5d45689f6ca548fca3ad0d",
       "version_major": 2,
       "version_minor": 0
      },
      "text/plain": [
       "  0%|          | 0/251 [00:00<?, ?it/s]"
      ]
     },
     "metadata": {},
     "output_type": "display_data"
    },
    {
     "name": "stdout",
     "output_type": "stream",
     "text": [
      "====================================================================================================\n",
      "Epoch : 10 ||| Train Acc : 1.0 ||| Test Acc : 0.834\n",
      "====================================================================================================\n",
      "Final Best Acc : 0.838\n",
      "====================================================================================================\n"
     ]
    },
    {
     "name": "stderr",
     "output_type": "stream",
     "text": [
      "Using custom data configuration default\n",
      "Reusing dataset nsmc (/root/.cache/huggingface/datasets/nsmc/default/1.1.0/bfd4729bf1a67114e5267e6916b9e4807010aeb238e4a3c2b95fbfa3a014b5f3)\n"
     ]
    },
    {
     "data": {
      "application/vnd.jupyter.widget-view+json": {
       "model_id": "dc9021355a56426f9279f46489867389",
       "version_major": 2,
       "version_minor": 0
      },
      "text/plain": [
       "  0%|          | 0/2 [00:00<?, ?it/s]"
      ]
     },
     "metadata": {},
     "output_type": "display_data"
    },
    {
     "name": "stderr",
     "output_type": "stream",
     "text": [
      "Using custom data configuration default\n",
      "Reusing dataset nsmc (/root/.cache/huggingface/datasets/nsmc/default/1.1.0/bfd4729bf1a67114e5267e6916b9e4807010aeb238e4a3c2b95fbfa3a014b5f3)\n"
     ]
    },
    {
     "data": {
      "application/vnd.jupyter.widget-view+json": {
       "model_id": "3cd0ce6ec58b43388c7c72855205118c",
       "version_major": 2,
       "version_minor": 0
      },
      "text/plain": [
       "  0%|          | 0/2 [00:00<?, ?it/s]"
      ]
     },
     "metadata": {},
     "output_type": "display_data"
    },
    {
     "name": "stderr",
     "output_type": "stream",
     "text": [
      "Using custom data configuration default\n",
      "Reusing dataset nsmc (/root/.cache/huggingface/datasets/nsmc/default/1.1.0/bfd4729bf1a67114e5267e6916b9e4807010aeb238e4a3c2b95fbfa3a014b5f3)\n"
     ]
    },
    {
     "data": {
      "application/vnd.jupyter.widget-view+json": {
       "model_id": "3b14101091c9453c862d654537934b3a",
       "version_major": 2,
       "version_minor": 0
      },
      "text/plain": [
       "  0%|          | 0/2 [00:00<?, ?it/s]"
      ]
     },
     "metadata": {},
     "output_type": "display_data"
    },
    {
     "name": "stdout",
     "output_type": "stream",
     "text": [
      "The number of labeled dataset : 1016\n",
      "The number of unlabeled dataset : 40260\n",
      "The number of test dataset : 13667\n"
     ]
    },
    {
     "name": "stderr",
     "output_type": "stream",
     "text": [
      "Some weights of the model checkpoint at klue/bert-base were not used when initializing BertForSequenceClassification: ['cls.seq_relationship.weight', 'cls.predictions.bias', 'cls.predictions.decoder.bias', 'cls.predictions.transform.LayerNorm.bias', 'cls.predictions.transform.LayerNorm.weight', 'cls.predictions.transform.dense.bias', 'cls.predictions.transform.dense.weight', 'cls.predictions.decoder.weight', 'cls.seq_relationship.bias']\n",
      "- This IS expected if you are initializing BertForSequenceClassification from the checkpoint of a model trained on another task or with another architecture (e.g. initializing a BertForSequenceClassification model from a BertForPreTraining model).\n",
      "- This IS NOT expected if you are initializing BertForSequenceClassification from the checkpoint of a model that you expect to be exactly identical (initializing a BertForSequenceClassification model from a BertForSequenceClassification model).\n",
      "Some weights of BertForSequenceClassification were not initialized from the model checkpoint at klue/bert-base and are newly initialized: ['classifier.bias', 'classifier.weight']\n",
      "You should probably TRAIN this model on a down-stream task to be able to use it for predictions and inference.\n"
     ]
    },
    {
     "data": {
      "application/vnd.jupyter.widget-view+json": {
       "model_id": "b30c18fc15f24123bf229f0a23cb84c3",
       "version_major": 2,
       "version_minor": 0
      },
      "text/plain": [
       "  0%|          | 0/254 [00:00<?, ?it/s]"
      ]
     },
     "metadata": {},
     "output_type": "display_data"
    },
    {
     "name": "stdout",
     "output_type": "stream",
     "text": [
      "====================================================================================================\n",
      "Epoch : 1 ||| Train Acc : 0.681 ||| Test Acc : 0.732\n"
     ]
    },
    {
     "data": {
      "application/vnd.jupyter.widget-view+json": {
       "model_id": "1a9b31b894e54dabbc1d0cd139559523",
       "version_major": 2,
       "version_minor": 0
      },
      "text/plain": [
       "  0%|          | 0/254 [00:00<?, ?it/s]"
      ]
     },
     "metadata": {},
     "output_type": "display_data"
    },
    {
     "name": "stdout",
     "output_type": "stream",
     "text": [
      "====================================================================================================\n",
      "Epoch : 2 ||| Train Acc : 0.815 ||| Test Acc : 0.826\n"
     ]
    },
    {
     "data": {
      "application/vnd.jupyter.widget-view+json": {
       "model_id": "385af696e87b4dffb8775fabfe31296d",
       "version_major": 2,
       "version_minor": 0
      },
      "text/plain": [
       "  0%|          | 0/254 [00:00<?, ?it/s]"
      ]
     },
     "metadata": {},
     "output_type": "display_data"
    },
    {
     "name": "stdout",
     "output_type": "stream",
     "text": [
      "====================================================================================================\n",
      "Epoch : 3 ||| Train Acc : 0.911 ||| Test Acc : 0.828\n"
     ]
    },
    {
     "data": {
      "application/vnd.jupyter.widget-view+json": {
       "model_id": "fc0afb2d8a1b4a86b4b3d02357562979",
       "version_major": 2,
       "version_minor": 0
      },
      "text/plain": [
       "  0%|          | 0/254 [00:00<?, ?it/s]"
      ]
     },
     "metadata": {},
     "output_type": "display_data"
    },
    {
     "name": "stdout",
     "output_type": "stream",
     "text": [
      "====================================================================================================\n",
      "Epoch : 4 ||| Train Acc : 0.969 ||| Test Acc : 0.827\n"
     ]
    },
    {
     "data": {
      "application/vnd.jupyter.widget-view+json": {
       "model_id": "7d702c0b210c4ef2b31415d054f57162",
       "version_major": 2,
       "version_minor": 0
      },
      "text/plain": [
       "  0%|          | 0/254 [00:00<?, ?it/s]"
      ]
     },
     "metadata": {},
     "output_type": "display_data"
    },
    {
     "name": "stdout",
     "output_type": "stream",
     "text": [
      "====================================================================================================\n",
      "Epoch : 5 ||| Train Acc : 0.99 ||| Test Acc : 0.835\n"
     ]
    },
    {
     "data": {
      "application/vnd.jupyter.widget-view+json": {
       "model_id": "ffc7e90ff96b4401a66d0cbda54ae6f5",
       "version_major": 2,
       "version_minor": 0
      },
      "text/plain": [
       "  0%|          | 0/254 [00:00<?, ?it/s]"
      ]
     },
     "metadata": {},
     "output_type": "display_data"
    },
    {
     "name": "stdout",
     "output_type": "stream",
     "text": [
      "====================================================================================================\n",
      "Epoch : 6 ||| Train Acc : 0.993 ||| Test Acc : 0.813\n"
     ]
    },
    {
     "data": {
      "application/vnd.jupyter.widget-view+json": {
       "model_id": "7147737ffb7c46f3b262bae2f64848dc",
       "version_major": 2,
       "version_minor": 0
      },
      "text/plain": [
       "  0%|          | 0/254 [00:00<?, ?it/s]"
      ]
     },
     "metadata": {},
     "output_type": "display_data"
    },
    {
     "name": "stdout",
     "output_type": "stream",
     "text": [
      "====================================================================================================\n",
      "Epoch : 7 ||| Train Acc : 0.996 ||| Test Acc : 0.834\n"
     ]
    },
    {
     "data": {
      "application/vnd.jupyter.widget-view+json": {
       "model_id": "63a7ffae35544bf8b593fe0ca3405d27",
       "version_major": 2,
       "version_minor": 0
      },
      "text/plain": [
       "  0%|          | 0/254 [00:00<?, ?it/s]"
      ]
     },
     "metadata": {},
     "output_type": "display_data"
    },
    {
     "name": "stdout",
     "output_type": "stream",
     "text": [
      "====================================================================================================\n",
      "Epoch : 8 ||| Train Acc : 0.994 ||| Test Acc : 0.837\n"
     ]
    },
    {
     "data": {
      "application/vnd.jupyter.widget-view+json": {
       "model_id": "de837763b3b44fd2afafec59d1c5863a",
       "version_major": 2,
       "version_minor": 0
      },
      "text/plain": [
       "  0%|          | 0/254 [00:00<?, ?it/s]"
      ]
     },
     "metadata": {},
     "output_type": "display_data"
    },
    {
     "name": "stdout",
     "output_type": "stream",
     "text": [
      "====================================================================================================\n",
      "Epoch : 9 ||| Train Acc : 0.998 ||| Test Acc : 0.841\n"
     ]
    },
    {
     "data": {
      "application/vnd.jupyter.widget-view+json": {
       "model_id": "7ae6dcb1bd6b4174b097cfb9ce1a6c61",
       "version_major": 2,
       "version_minor": 0
      },
      "text/plain": [
       "  0%|          | 0/254 [00:00<?, ?it/s]"
      ]
     },
     "metadata": {},
     "output_type": "display_data"
    },
    {
     "name": "stdout",
     "output_type": "stream",
     "text": [
      "====================================================================================================\n",
      "Epoch : 10 ||| Train Acc : 0.999 ||| Test Acc : 0.842\n",
      "====================================================================================================\n",
      "Final Best Acc : 0.842\n",
      "====================================================================================================\n"
     ]
    },
    {
     "name": "stderr",
     "output_type": "stream",
     "text": [
      "Using custom data configuration default\n",
      "Reusing dataset nsmc (/root/.cache/huggingface/datasets/nsmc/default/1.1.0/bfd4729bf1a67114e5267e6916b9e4807010aeb238e4a3c2b95fbfa3a014b5f3)\n"
     ]
    },
    {
     "data": {
      "application/vnd.jupyter.widget-view+json": {
       "model_id": "618ff34e77af4e35903bfc37e34a1f0f",
       "version_major": 2,
       "version_minor": 0
      },
      "text/plain": [
       "  0%|          | 0/2 [00:00<?, ?it/s]"
      ]
     },
     "metadata": {},
     "output_type": "display_data"
    },
    {
     "name": "stderr",
     "output_type": "stream",
     "text": [
      "Using custom data configuration default\n",
      "Reusing dataset nsmc (/root/.cache/huggingface/datasets/nsmc/default/1.1.0/bfd4729bf1a67114e5267e6916b9e4807010aeb238e4a3c2b95fbfa3a014b5f3)\n"
     ]
    },
    {
     "data": {
      "application/vnd.jupyter.widget-view+json": {
       "model_id": "16b3fc603fde4697a8dbc87472f959cc",
       "version_major": 2,
       "version_minor": 0
      },
      "text/plain": [
       "  0%|          | 0/2 [00:00<?, ?it/s]"
      ]
     },
     "metadata": {},
     "output_type": "display_data"
    },
    {
     "name": "stderr",
     "output_type": "stream",
     "text": [
      "Using custom data configuration default\n",
      "Reusing dataset nsmc (/root/.cache/huggingface/datasets/nsmc/default/1.1.0/bfd4729bf1a67114e5267e6916b9e4807010aeb238e4a3c2b95fbfa3a014b5f3)\n"
     ]
    },
    {
     "data": {
      "application/vnd.jupyter.widget-view+json": {
       "model_id": "026d0ef9b63e40e284d99e5a7d7cbe41",
       "version_major": 2,
       "version_minor": 0
      },
      "text/plain": [
       "  0%|          | 0/2 [00:00<?, ?it/s]"
      ]
     },
     "metadata": {},
     "output_type": "display_data"
    },
    {
     "name": "stdout",
     "output_type": "stream",
     "text": [
      "The number of labeled dataset : 1004\n",
      "The number of unlabeled dataset : 40260\n",
      "The number of test dataset : 13667\n"
     ]
    },
    {
     "name": "stderr",
     "output_type": "stream",
     "text": [
      "Some weights of the model checkpoint at klue/bert-base were not used when initializing BertForSequenceClassification: ['cls.seq_relationship.weight', 'cls.predictions.bias', 'cls.predictions.decoder.bias', 'cls.predictions.transform.LayerNorm.bias', 'cls.predictions.transform.LayerNorm.weight', 'cls.predictions.transform.dense.bias', 'cls.predictions.transform.dense.weight', 'cls.predictions.decoder.weight', 'cls.seq_relationship.bias']\n",
      "- This IS expected if you are initializing BertForSequenceClassification from the checkpoint of a model trained on another task or with another architecture (e.g. initializing a BertForSequenceClassification model from a BertForPreTraining model).\n",
      "- This IS NOT expected if you are initializing BertForSequenceClassification from the checkpoint of a model that you expect to be exactly identical (initializing a BertForSequenceClassification model from a BertForSequenceClassification model).\n",
      "Some weights of BertForSequenceClassification were not initialized from the model checkpoint at klue/bert-base and are newly initialized: ['classifier.bias', 'classifier.weight']\n",
      "You should probably TRAIN this model on a down-stream task to be able to use it for predictions and inference.\n"
     ]
    },
    {
     "data": {
      "application/vnd.jupyter.widget-view+json": {
       "model_id": "6e327143cefe4b778718569ce5612165",
       "version_major": 2,
       "version_minor": 0
      },
      "text/plain": [
       "  0%|          | 0/251 [00:00<?, ?it/s]"
      ]
     },
     "metadata": {},
     "output_type": "display_data"
    },
    {
     "name": "stdout",
     "output_type": "stream",
     "text": [
      "====================================================================================================\n",
      "Epoch : 1 ||| Train Acc : 0.775 ||| Test Acc : 0.828\n"
     ]
    },
    {
     "data": {
      "application/vnd.jupyter.widget-view+json": {
       "model_id": "46363dbbc3e64cf8a6efd8a22040fcda",
       "version_major": 2,
       "version_minor": 0
      },
      "text/plain": [
       "  0%|          | 0/251 [00:00<?, ?it/s]"
      ]
     },
     "metadata": {},
     "output_type": "display_data"
    },
    {
     "name": "stdout",
     "output_type": "stream",
     "text": [
      "====================================================================================================\n",
      "Epoch : 2 ||| Train Acc : 0.9 ||| Test Acc : 0.837\n"
     ]
    },
    {
     "data": {
      "application/vnd.jupyter.widget-view+json": {
       "model_id": "0893459c5932442fa7b9f85d04157210",
       "version_major": 2,
       "version_minor": 0
      },
      "text/plain": [
       "  0%|          | 0/251 [00:00<?, ?it/s]"
      ]
     },
     "metadata": {},
     "output_type": "display_data"
    },
    {
     "name": "stdout",
     "output_type": "stream",
     "text": [
      "====================================================================================================\n",
      "Epoch : 3 ||| Train Acc : 0.961 ||| Test Acc : 0.837\n"
     ]
    },
    {
     "data": {
      "application/vnd.jupyter.widget-view+json": {
       "model_id": "718a49245f9a46d59a5100101eb27024",
       "version_major": 2,
       "version_minor": 0
      },
      "text/plain": [
       "  0%|          | 0/251 [00:00<?, ?it/s]"
      ]
     },
     "metadata": {},
     "output_type": "display_data"
    },
    {
     "name": "stdout",
     "output_type": "stream",
     "text": [
      "====================================================================================================\n",
      "Epoch : 4 ||| Train Acc : 0.991 ||| Test Acc : 0.84\n"
     ]
    },
    {
     "data": {
      "application/vnd.jupyter.widget-view+json": {
       "model_id": "c9bbda85344f45889529d2b8c0d70e91",
       "version_major": 2,
       "version_minor": 0
      },
      "text/plain": [
       "  0%|          | 0/251 [00:00<?, ?it/s]"
      ]
     },
     "metadata": {},
     "output_type": "display_data"
    },
    {
     "name": "stdout",
     "output_type": "stream",
     "text": [
      "====================================================================================================\n",
      "Epoch : 5 ||| Train Acc : 0.996 ||| Test Acc : 0.838\n"
     ]
    },
    {
     "data": {
      "application/vnd.jupyter.widget-view+json": {
       "model_id": "56a58d63c53d4702bed82a089566b4bc",
       "version_major": 2,
       "version_minor": 0
      },
      "text/plain": [
       "  0%|          | 0/251 [00:00<?, ?it/s]"
      ]
     },
     "metadata": {},
     "output_type": "display_data"
    },
    {
     "name": "stdout",
     "output_type": "stream",
     "text": [
      "====================================================================================================\n",
      "Epoch : 6 ||| Train Acc : 0.999 ||| Test Acc : 0.846\n"
     ]
    },
    {
     "data": {
      "application/vnd.jupyter.widget-view+json": {
       "model_id": "e498cc68768a4318ac35109ab0c4d597",
       "version_major": 2,
       "version_minor": 0
      },
      "text/plain": [
       "  0%|          | 0/251 [00:00<?, ?it/s]"
      ]
     },
     "metadata": {},
     "output_type": "display_data"
    },
    {
     "name": "stdout",
     "output_type": "stream",
     "text": [
      "====================================================================================================\n",
      "Epoch : 7 ||| Train Acc : 0.999 ||| Test Acc : 0.846\n"
     ]
    },
    {
     "data": {
      "application/vnd.jupyter.widget-view+json": {
       "model_id": "a27027bc12de4951a1251fe6dbc9ff30",
       "version_major": 2,
       "version_minor": 0
      },
      "text/plain": [
       "  0%|          | 0/251 [00:00<?, ?it/s]"
      ]
     },
     "metadata": {},
     "output_type": "display_data"
    },
    {
     "name": "stdout",
     "output_type": "stream",
     "text": [
      "====================================================================================================\n",
      "Epoch : 8 ||| Train Acc : 0.999 ||| Test Acc : 0.847\n"
     ]
    },
    {
     "data": {
      "application/vnd.jupyter.widget-view+json": {
       "model_id": "4121f1fc90e24905aa1abf0ef4809d3e",
       "version_major": 2,
       "version_minor": 0
      },
      "text/plain": [
       "  0%|          | 0/251 [00:00<?, ?it/s]"
      ]
     },
     "metadata": {},
     "output_type": "display_data"
    },
    {
     "name": "stdout",
     "output_type": "stream",
     "text": [
      "====================================================================================================\n",
      "Epoch : 9 ||| Train Acc : 1.0 ||| Test Acc : 0.846\n"
     ]
    },
    {
     "data": {
      "application/vnd.jupyter.widget-view+json": {
       "model_id": "a1f70f0ccd2844e894f4046e5afa8e19",
       "version_major": 2,
       "version_minor": 0
      },
      "text/plain": [
       "  0%|          | 0/251 [00:00<?, ?it/s]"
      ]
     },
     "metadata": {},
     "output_type": "display_data"
    },
    {
     "name": "stdout",
     "output_type": "stream",
     "text": [
      "====================================================================================================\n",
      "Epoch : 10 ||| Train Acc : 0.998 ||| Test Acc : 0.846\n",
      "====================================================================================================\n",
      "Final Best Acc : 0.847\n",
      "====================================================================================================\n"
     ]
    },
    {
     "name": "stderr",
     "output_type": "stream",
     "text": [
      "Using custom data configuration default\n",
      "Reusing dataset nsmc (/root/.cache/huggingface/datasets/nsmc/default/1.1.0/bfd4729bf1a67114e5267e6916b9e4807010aeb238e4a3c2b95fbfa3a014b5f3)\n"
     ]
    },
    {
     "data": {
      "application/vnd.jupyter.widget-view+json": {
       "model_id": "a71a21673f164cea9ac529ec4aaa3e72",
       "version_major": 2,
       "version_minor": 0
      },
      "text/plain": [
       "  0%|          | 0/2 [00:00<?, ?it/s]"
      ]
     },
     "metadata": {},
     "output_type": "display_data"
    },
    {
     "name": "stderr",
     "output_type": "stream",
     "text": [
      "Using custom data configuration default\n",
      "Reusing dataset nsmc (/root/.cache/huggingface/datasets/nsmc/default/1.1.0/bfd4729bf1a67114e5267e6916b9e4807010aeb238e4a3c2b95fbfa3a014b5f3)\n"
     ]
    },
    {
     "data": {
      "application/vnd.jupyter.widget-view+json": {
       "model_id": "0be26964f65d4693a9a0dc3474227e59",
       "version_major": 2,
       "version_minor": 0
      },
      "text/plain": [
       "  0%|          | 0/2 [00:00<?, ?it/s]"
      ]
     },
     "metadata": {},
     "output_type": "display_data"
    },
    {
     "name": "stderr",
     "output_type": "stream",
     "text": [
      "Using custom data configuration default\n",
      "Reusing dataset nsmc (/root/.cache/huggingface/datasets/nsmc/default/1.1.0/bfd4729bf1a67114e5267e6916b9e4807010aeb238e4a3c2b95fbfa3a014b5f3)\n"
     ]
    },
    {
     "data": {
      "application/vnd.jupyter.widget-view+json": {
       "model_id": "53f403cd13da41ef9e4a0ef30b394753",
       "version_major": 2,
       "version_minor": 0
      },
      "text/plain": [
       "  0%|          | 0/2 [00:00<?, ?it/s]"
      ]
     },
     "metadata": {},
     "output_type": "display_data"
    },
    {
     "name": "stdout",
     "output_type": "stream",
     "text": [
      "The number of labeled dataset : 1010\n",
      "The number of unlabeled dataset : 40260\n",
      "The number of test dataset : 13667\n"
     ]
    },
    {
     "name": "stderr",
     "output_type": "stream",
     "text": [
      "Some weights of the model checkpoint at klue/bert-base were not used when initializing BertForSequenceClassification: ['cls.seq_relationship.weight', 'cls.predictions.bias', 'cls.predictions.decoder.bias', 'cls.predictions.transform.LayerNorm.bias', 'cls.predictions.transform.LayerNorm.weight', 'cls.predictions.transform.dense.bias', 'cls.predictions.transform.dense.weight', 'cls.predictions.decoder.weight', 'cls.seq_relationship.bias']\n",
      "- This IS expected if you are initializing BertForSequenceClassification from the checkpoint of a model trained on another task or with another architecture (e.g. initializing a BertForSequenceClassification model from a BertForPreTraining model).\n",
      "- This IS NOT expected if you are initializing BertForSequenceClassification from the checkpoint of a model that you expect to be exactly identical (initializing a BertForSequenceClassification model from a BertForSequenceClassification model).\n",
      "Some weights of BertForSequenceClassification were not initialized from the model checkpoint at klue/bert-base and are newly initialized: ['classifier.bias', 'classifier.weight']\n",
      "You should probably TRAIN this model on a down-stream task to be able to use it for predictions and inference.\n"
     ]
    },
    {
     "data": {
      "application/vnd.jupyter.widget-view+json": {
       "model_id": "75c515eea9984da49bb7510bef53505d",
       "version_major": 2,
       "version_minor": 0
      },
      "text/plain": [
       "  0%|          | 0/253 [00:00<?, ?it/s]"
      ]
     },
     "metadata": {},
     "output_type": "display_data"
    },
    {
     "name": "stdout",
     "output_type": "stream",
     "text": [
      "====================================================================================================\n",
      "Epoch : 1 ||| Train Acc : 0.783 ||| Test Acc : 0.818\n"
     ]
    },
    {
     "data": {
      "application/vnd.jupyter.widget-view+json": {
       "model_id": "82e353d5e94647bea71953835436cc5e",
       "version_major": 2,
       "version_minor": 0
      },
      "text/plain": [
       "  0%|          | 0/253 [00:00<?, ?it/s]"
      ]
     },
     "metadata": {},
     "output_type": "display_data"
    },
    {
     "name": "stdout",
     "output_type": "stream",
     "text": [
      "====================================================================================================\n",
      "Epoch : 2 ||| Train Acc : 0.911 ||| Test Acc : 0.835\n"
     ]
    },
    {
     "data": {
      "application/vnd.jupyter.widget-view+json": {
       "model_id": "d8ed0a274fc948fc9da33069e1ca8e02",
       "version_major": 2,
       "version_minor": 0
      },
      "text/plain": [
       "  0%|          | 0/253 [00:00<?, ?it/s]"
      ]
     },
     "metadata": {},
     "output_type": "display_data"
    },
    {
     "name": "stdout",
     "output_type": "stream",
     "text": [
      "====================================================================================================\n",
      "Epoch : 3 ||| Train Acc : 0.966 ||| Test Acc : 0.828\n"
     ]
    },
    {
     "data": {
      "application/vnd.jupyter.widget-view+json": {
       "model_id": "696807dd17bf4d31b53ac82923d85d4c",
       "version_major": 2,
       "version_minor": 0
      },
      "text/plain": [
       "  0%|          | 0/253 [00:00<?, ?it/s]"
      ]
     },
     "metadata": {},
     "output_type": "display_data"
    },
    {
     "name": "stdout",
     "output_type": "stream",
     "text": [
      "====================================================================================================\n",
      "Epoch : 4 ||| Train Acc : 0.99 ||| Test Acc : 0.835\n"
     ]
    },
    {
     "data": {
      "application/vnd.jupyter.widget-view+json": {
       "model_id": "51e96049d5d840b68562795196711e64",
       "version_major": 2,
       "version_minor": 0
      },
      "text/plain": [
       "  0%|          | 0/253 [00:00<?, ?it/s]"
      ]
     },
     "metadata": {},
     "output_type": "display_data"
    },
    {
     "name": "stdout",
     "output_type": "stream",
     "text": [
      "====================================================================================================\n",
      "Epoch : 5 ||| Train Acc : 0.994 ||| Test Acc : 0.841\n"
     ]
    },
    {
     "data": {
      "application/vnd.jupyter.widget-view+json": {
       "model_id": "cc182f8219e141f2990472638c879a72",
       "version_major": 2,
       "version_minor": 0
      },
      "text/plain": [
       "  0%|          | 0/253 [00:00<?, ?it/s]"
      ]
     },
     "metadata": {},
     "output_type": "display_data"
    },
    {
     "name": "stdout",
     "output_type": "stream",
     "text": [
      "====================================================================================================\n",
      "Epoch : 6 ||| Train Acc : 0.999 ||| Test Acc : 0.841\n"
     ]
    },
    {
     "data": {
      "application/vnd.jupyter.widget-view+json": {
       "model_id": "ce612490a6164fc788949210a63f6750",
       "version_major": 2,
       "version_minor": 0
      },
      "text/plain": [
       "  0%|          | 0/253 [00:00<?, ?it/s]"
      ]
     },
     "metadata": {},
     "output_type": "display_data"
    },
    {
     "name": "stdout",
     "output_type": "stream",
     "text": [
      "====================================================================================================\n",
      "Epoch : 7 ||| Train Acc : 0.999 ||| Test Acc : 0.838\n"
     ]
    },
    {
     "data": {
      "application/vnd.jupyter.widget-view+json": {
       "model_id": "1f117825efcd4dc38a2d57b90f25dba3",
       "version_major": 2,
       "version_minor": 0
      },
      "text/plain": [
       "  0%|          | 0/253 [00:00<?, ?it/s]"
      ]
     },
     "metadata": {},
     "output_type": "display_data"
    },
    {
     "name": "stdout",
     "output_type": "stream",
     "text": [
      "====================================================================================================\n",
      "Epoch : 8 ||| Train Acc : 0.999 ||| Test Acc : 0.841\n"
     ]
    },
    {
     "data": {
      "application/vnd.jupyter.widget-view+json": {
       "model_id": "07b648cf142c4f87886b4e7e476eb628",
       "version_major": 2,
       "version_minor": 0
      },
      "text/plain": [
       "  0%|          | 0/253 [00:00<?, ?it/s]"
      ]
     },
     "metadata": {},
     "output_type": "display_data"
    },
    {
     "name": "stdout",
     "output_type": "stream",
     "text": [
      "====================================================================================================\n",
      "Epoch : 9 ||| Train Acc : 0.999 ||| Test Acc : 0.839\n"
     ]
    },
    {
     "data": {
      "application/vnd.jupyter.widget-view+json": {
       "model_id": "d09a696342234182aa992626f4b7f8e3",
       "version_major": 2,
       "version_minor": 0
      },
      "text/plain": [
       "  0%|          | 0/253 [00:00<?, ?it/s]"
      ]
     },
     "metadata": {},
     "output_type": "display_data"
    },
    {
     "name": "stdout",
     "output_type": "stream",
     "text": [
      "====================================================================================================\n",
      "Epoch : 10 ||| Train Acc : 0.998 ||| Test Acc : 0.837\n",
      "====================================================================================================\n",
      "Final Best Acc : 0.841\n",
      "====================================================================================================\n"
     ]
    },
    {
     "name": "stderr",
     "output_type": "stream",
     "text": [
      "Using custom data configuration default\n",
      "Reusing dataset nsmc (/root/.cache/huggingface/datasets/nsmc/default/1.1.0/bfd4729bf1a67114e5267e6916b9e4807010aeb238e4a3c2b95fbfa3a014b5f3)\n"
     ]
    },
    {
     "data": {
      "application/vnd.jupyter.widget-view+json": {
       "model_id": "f1f8a35d116348d6a823b9c011d580c0",
       "version_major": 2,
       "version_minor": 0
      },
      "text/plain": [
       "  0%|          | 0/2 [00:00<?, ?it/s]"
      ]
     },
     "metadata": {},
     "output_type": "display_data"
    },
    {
     "name": "stderr",
     "output_type": "stream",
     "text": [
      "Using custom data configuration default\n",
      "Reusing dataset nsmc (/root/.cache/huggingface/datasets/nsmc/default/1.1.0/bfd4729bf1a67114e5267e6916b9e4807010aeb238e4a3c2b95fbfa3a014b5f3)\n"
     ]
    },
    {
     "data": {
      "application/vnd.jupyter.widget-view+json": {
       "model_id": "08b881562d5947faaac76db64da768a7",
       "version_major": 2,
       "version_minor": 0
      },
      "text/plain": [
       "  0%|          | 0/2 [00:00<?, ?it/s]"
      ]
     },
     "metadata": {},
     "output_type": "display_data"
    },
    {
     "name": "stderr",
     "output_type": "stream",
     "text": [
      "Using custom data configuration default\n",
      "Reusing dataset nsmc (/root/.cache/huggingface/datasets/nsmc/default/1.1.0/bfd4729bf1a67114e5267e6916b9e4807010aeb238e4a3c2b95fbfa3a014b5f3)\n"
     ]
    },
    {
     "data": {
      "application/vnd.jupyter.widget-view+json": {
       "model_id": "5d39e32144e744e39401fc1a04e361dd",
       "version_major": 2,
       "version_minor": 0
      },
      "text/plain": [
       "  0%|          | 0/2 [00:00<?, ?it/s]"
      ]
     },
     "metadata": {},
     "output_type": "display_data"
    },
    {
     "name": "stdout",
     "output_type": "stream",
     "text": [
      "The number of labeled dataset : 1012\n",
      "The number of unlabeled dataset : 40260\n",
      "The number of test dataset : 13667\n"
     ]
    },
    {
     "name": "stderr",
     "output_type": "stream",
     "text": [
      "Some weights of the model checkpoint at klue/bert-base were not used when initializing BertForSequenceClassification: ['cls.seq_relationship.weight', 'cls.predictions.bias', 'cls.predictions.decoder.bias', 'cls.predictions.transform.LayerNorm.bias', 'cls.predictions.transform.LayerNorm.weight', 'cls.predictions.transform.dense.bias', 'cls.predictions.transform.dense.weight', 'cls.predictions.decoder.weight', 'cls.seq_relationship.bias']\n",
      "- This IS expected if you are initializing BertForSequenceClassification from the checkpoint of a model trained on another task or with another architecture (e.g. initializing a BertForSequenceClassification model from a BertForPreTraining model).\n",
      "- This IS NOT expected if you are initializing BertForSequenceClassification from the checkpoint of a model that you expect to be exactly identical (initializing a BertForSequenceClassification model from a BertForSequenceClassification model).\n",
      "Some weights of BertForSequenceClassification were not initialized from the model checkpoint at klue/bert-base and are newly initialized: ['classifier.bias', 'classifier.weight']\n",
      "You should probably TRAIN this model on a down-stream task to be able to use it for predictions and inference.\n"
     ]
    },
    {
     "data": {
      "application/vnd.jupyter.widget-view+json": {
       "model_id": "a0057670fdb44a3684bc0d6b14ca92e3",
       "version_major": 2,
       "version_minor": 0
      },
      "text/plain": [
       "  0%|          | 0/253 [00:00<?, ?it/s]"
      ]
     },
     "metadata": {},
     "output_type": "display_data"
    },
    {
     "name": "stdout",
     "output_type": "stream",
     "text": [
      "====================================================================================================\n",
      "Epoch : 1 ||| Train Acc : 0.705 ||| Test Acc : 0.817\n"
     ]
    },
    {
     "data": {
      "application/vnd.jupyter.widget-view+json": {
       "model_id": "906fafba941e481fb5a0ae215bb676b0",
       "version_major": 2,
       "version_minor": 0
      },
      "text/plain": [
       "  0%|          | 0/253 [00:00<?, ?it/s]"
      ]
     },
     "metadata": {},
     "output_type": "display_data"
    },
    {
     "name": "stdout",
     "output_type": "stream",
     "text": [
      "====================================================================================================\n",
      "Epoch : 2 ||| Train Acc : 0.849 ||| Test Acc : 0.817\n"
     ]
    },
    {
     "data": {
      "application/vnd.jupyter.widget-view+json": {
       "model_id": "7a2d7b9b93664c5db5c8f6fdef3d03be",
       "version_major": 2,
       "version_minor": 0
      },
      "text/plain": [
       "  0%|          | 0/253 [00:00<?, ?it/s]"
      ]
     },
     "metadata": {},
     "output_type": "display_data"
    },
    {
     "name": "stdout",
     "output_type": "stream",
     "text": [
      "====================================================================================================\n",
      "Epoch : 3 ||| Train Acc : 0.914 ||| Test Acc : 0.827\n"
     ]
    },
    {
     "data": {
      "application/vnd.jupyter.widget-view+json": {
       "model_id": "e828fc3a0a6f4c648aaff588e29075e3",
       "version_major": 2,
       "version_minor": 0
      },
      "text/plain": [
       "  0%|          | 0/253 [00:00<?, ?it/s]"
      ]
     },
     "metadata": {},
     "output_type": "display_data"
    },
    {
     "name": "stdout",
     "output_type": "stream",
     "text": [
      "====================================================================================================\n",
      "Epoch : 4 ||| Train Acc : 0.962 ||| Test Acc : 0.832\n"
     ]
    },
    {
     "data": {
      "application/vnd.jupyter.widget-view+json": {
       "model_id": "0241b6cea6c34150be9f9e35420e703b",
       "version_major": 2,
       "version_minor": 0
      },
      "text/plain": [
       "  0%|          | 0/253 [00:00<?, ?it/s]"
      ]
     },
     "metadata": {},
     "output_type": "display_data"
    },
    {
     "name": "stdout",
     "output_type": "stream",
     "text": [
      "====================================================================================================\n",
      "Epoch : 5 ||| Train Acc : 0.979 ||| Test Acc : 0.837\n"
     ]
    },
    {
     "data": {
      "application/vnd.jupyter.widget-view+json": {
       "model_id": "b465c142756d438395099b8edcd4971e",
       "version_major": 2,
       "version_minor": 0
      },
      "text/plain": [
       "  0%|          | 0/253 [00:00<?, ?it/s]"
      ]
     },
     "metadata": {},
     "output_type": "display_data"
    },
    {
     "name": "stdout",
     "output_type": "stream",
     "text": [
      "====================================================================================================\n",
      "Epoch : 6 ||| Train Acc : 0.988 ||| Test Acc : 0.841\n"
     ]
    },
    {
     "data": {
      "application/vnd.jupyter.widget-view+json": {
       "model_id": "9f0b141aaf6a4943b6e2aaf547f04a76",
       "version_major": 2,
       "version_minor": 0
      },
      "text/plain": [
       "  0%|          | 0/253 [00:00<?, ?it/s]"
      ]
     },
     "metadata": {},
     "output_type": "display_data"
    },
    {
     "name": "stdout",
     "output_type": "stream",
     "text": [
      "====================================================================================================\n",
      "Epoch : 7 ||| Train Acc : 0.994 ||| Test Acc : 0.845\n"
     ]
    },
    {
     "data": {
      "application/vnd.jupyter.widget-view+json": {
       "model_id": "1e160d4e756f4f33b021d46ff4a83350",
       "version_major": 2,
       "version_minor": 0
      },
      "text/plain": [
       "  0%|          | 0/253 [00:00<?, ?it/s]"
      ]
     },
     "metadata": {},
     "output_type": "display_data"
    },
    {
     "name": "stdout",
     "output_type": "stream",
     "text": [
      "====================================================================================================\n",
      "Epoch : 8 ||| Train Acc : 0.997 ||| Test Acc : 0.844\n"
     ]
    },
    {
     "data": {
      "application/vnd.jupyter.widget-view+json": {
       "model_id": "c1b7e717ebb4407fa0013a62d3d315fe",
       "version_major": 2,
       "version_minor": 0
      },
      "text/plain": [
       "  0%|          | 0/253 [00:00<?, ?it/s]"
      ]
     },
     "metadata": {},
     "output_type": "display_data"
    },
    {
     "name": "stdout",
     "output_type": "stream",
     "text": [
      "====================================================================================================\n",
      "Epoch : 9 ||| Train Acc : 0.996 ||| Test Acc : 0.843\n"
     ]
    },
    {
     "data": {
      "application/vnd.jupyter.widget-view+json": {
       "model_id": "d584ddcfbb5745f5b74989e09cc95cab",
       "version_major": 2,
       "version_minor": 0
      },
      "text/plain": [
       "  0%|          | 0/253 [00:00<?, ?it/s]"
      ]
     },
     "metadata": {},
     "output_type": "display_data"
    },
    {
     "name": "stdout",
     "output_type": "stream",
     "text": [
      "====================================================================================================\n",
      "Epoch : 10 ||| Train Acc : 0.999 ||| Test Acc : 0.843\n",
      "====================================================================================================\n",
      "Final Best Acc : 0.845\n",
      "====================================================================================================\n"
     ]
    }
   ],
   "source": [
    "args.uda_mode = True\n",
    "args.epochs = 10\n",
    "args.n = 1000\n",
    "advanced_train(args, tsa=False, conf_mask=False, sharpening=False)\n",
    "advanced_train(args, tsa=True, conf_mask=False, sharpening=False)\n",
    "advanced_train(args, tsa=False, conf_mask=True, sharpening=False)\n",
    "advanced_train(args, tsa=False, conf_mask=False, sharpening=True)\n",
    "advanced_train(args, tsa=True, conf_mask=True, sharpening=True)"
   ]
  },
  {
   "cell_type": "markdown",
   "metadata": {},
   "source": [
    "> 한국어 데이터셋에 대한 UDA 학습 코드를 직접 구현하고, 성능을 확인해볼 수 있었던 유익한 시간이었습니다. 이상 마지막 튜토리얼 종료하겠습니다!\n",
    "\n",
    "<img src=\"images/9_turtle.png\" width=\"300\">"
   ]
  },
  {
   "cell_type": "code",
   "execution_count": null,
   "metadata": {},
   "outputs": [],
   "source": []
  }
 ],
 "metadata": {
  "kernelspec": {
   "display_name": "Python 3",
   "language": "python",
   "name": "python3"
  },
  "language_info": {
   "codemirror_mode": {
    "name": "ipython",
    "version": 3
   },
   "file_extension": ".py",
   "mimetype": "text/x-python",
   "name": "python",
   "nbconvert_exporter": "python",
   "pygments_lexer": "ipython3",
   "version": "3.6.10"
  }
 },
 "nbformat": 4,
 "nbformat_minor": 4
}

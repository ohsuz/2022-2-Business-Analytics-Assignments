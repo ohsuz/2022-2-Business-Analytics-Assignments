{
 "cells": [
  {
   "cell_type": "markdown",
   "id": "07fb77f3",
   "metadata": {},
   "source": [
    "# 🌊 Deep Dive Into SVM\n",
    "> **작성자 : 오수지 (2022020660)**\n",
    "\n",
    "안녕하세요, 고려대학교 산업경영공학부 DSBA 연구실 석사과정 오수지입니다.  \n",
    "이번 노트북 튜토리얼에선 대표적인 Kernel-based Learning 방법론인 **`Support Vector Machine`**에 대해 코드를 통해 알아볼 예정입니다. (🔎 SVM에 대한 기본적인 내용은 [유튜브 튜토리얼 영상](https://youtu.be/Kwmr9A6IBjI)을 참고해주세요.)\n",
    "\n",
    "이번 튜토리얼에선 SVM을 이용해 재밌는 실험을 수행해볼 예정입니다! 유튜브 튜토리얼 동영상을 제작하며 **`Text Classification`**에서도 SVM을 활용할 수 있다는 사실을 알게 됐는데요. NLP 분야의 대표적인 학회인 EMNLP와 CV 분야의 대표적인 학회인 CVPR의 논문의 제목만을 가지고, 해당 논문이 어떤 학회의 논문인지 SVM이 얼마나 잘 구분해낼 수 있을까요?! 이 실험을 위해 실제 2022년 EMNLP accepted papers 파일과 CVPR accepted papers 파일을 가져와서 SVM을 학습시켜보았습니다👩🏻‍🏫\n",
    "\n",
    "<img src=\"images/1_emnlp.png\" width=\"450\">\n",
    "<img src=\"images/2_cvpr.png\" width=\"450\">\n",
    "\n",
    "**📌 이번 튜토리얼의 목표 (feat. wandb를 이용한 예측 결과 시각화)**\n",
    ">1. Text Classification에서 SVM의 성능 확인 : `EMNLP vs CVPR` \n",
    ">2. SVM의 각 하이퍼파라미터에 따른 성능 변화 분석 : `kernel, C, degree, gamma`\n",
    ">3. Text Embedding 방식에 따른 성능 비교 : `TF-IDF, BERT embeddings`\n",
    "\n",
    "**📌 Reference**\n",
    "- https://medium.com/@bedigunjit/simple-guide-to-text-classification-nlp-using-svm-and-naive-bayes-with-python-421db3a72d34\n",
    "- https://www.kaggle.com/code/mehmetlaudatekman/text-classification-svm-explained\n",
    "- https://www.kaggle.com/code/sainijagjit/text-classification-using-svm\n",
    "- https://wandb.ai/lavanyashukla/visualize-sklearn/reports/Visualize-Scikit-Learn-Models-with-Weights-Biases--Vmlldzo0ODIzNg"
   ]
  },
  {
   "cell_type": "markdown",
   "id": "9cfcee65",
   "metadata": {},
   "source": [
    "## 🛠 환경 설정"
   ]
  },
  {
   "cell_type": "code",
   "execution_count": 5,
   "id": "5734f708",
   "metadata": {},
   "outputs": [
    {
     "name": "stdout",
     "output_type": "stream",
     "text": [
      "Collecting xlrd==2.0.1\n",
      "  Downloading xlrd-2.0.1-py2.py3-none-any.whl (96 kB)\n",
      "\u001b[K     |████████████████████████████████| 96 kB 7.0 MB/s  eta 0:00:01\n",
      "\u001b[?25hInstalling collected packages: xlrd\n",
      "  Attempting uninstall: xlrd\n",
      "    Found existing installation: xlrd 1.1.0\n",
      "    Uninstalling xlrd-1.1.0:\n",
      "      Successfully uninstalled xlrd-1.1.0\n",
      "Successfully installed xlrd-2.0.1\n",
      "\u001b[33mWARNING: Running pip as the 'root' user can result in broken permissions and conflicting behaviour with the system package manager. It is recommended to use a virtual environment instead: https://pip.pypa.io/warnings/venv\u001b[0m\n"
     ]
    }
   ],
   "source": [
    "!pip install xlrd==2.0.1  # for read xsl file\n",
    "!pip install openpyxl  # for read xslx file\n",
    "!pip install easydict"
   ]
  },
  {
   "cell_type": "code",
   "execution_count": 1,
   "id": "81e05b45",
   "metadata": {},
   "outputs": [],
   "source": [
    "import numpy as np\n",
    "import pandas as pd\n",
    "import random\n",
    "import torch\n",
    "import matplotlib.pyplot as plt\n",
    "import easydict\n",
    "import wandb\n",
    "import nltk\n",
    "from tqdm.auto import tqdm\n",
    "import os\n",
    "os.environ[\"TOKENIZERS_PARALLELISM\"] = \"false\"\n",
    "import warnings\n",
    "warnings.filterwarnings(action='ignore') \n",
    "\n",
    "from sklearn.model_selection import train_test_split\n",
    "from sklearn.preprocessing import LabelEncoder\n",
    "from sklearn.feature_extraction.text import TfidfVectorizer\n",
    "from sklearn.svm import SVC, SVR\n",
    "import sklearn.metrics as metrics\n",
    "\n",
    "seed = 1201"
   ]
  },
  {
   "cell_type": "markdown",
   "id": "19e8449c",
   "metadata": {},
   "source": [
    "---"
   ]
  },
  {
   "cell_type": "markdown",
   "id": "12b9e21e",
   "metadata": {},
   "source": [
    "## 1️⃣ 데이터 로드 및 학습 데이터프레임 구축\n",
    "> EMNLP 엑셀 파일, CVPR 엑셀 파일을 각각 로드해서 **2개의 column으로(논문 제목, 라벨) 구성된 데이터프레임을 구축**하겠습니다!\n",
    "\n",
    "📌 데이터 출처\n",
    "- https://2022.emnlp.org/\n",
    "- https://cvpr2022.thecvf.com/accepted-papers"
   ]
  },
  {
   "cell_type": "code",
   "execution_count": 2,
   "id": "d2f8a7fb",
   "metadata": {},
   "outputs": [],
   "source": [
    "# 데이터 로드\n",
    "emnlp = pd.read_excel('./data/emnlp_2022_accepted_papers.xls')\n",
    "cvpr = pd.read_excel('./data/cvpr_2022_accepted_papers.xlsx', engine='openpyxl')"
   ]
  },
  {
   "cell_type": "code",
   "execution_count": 3,
   "id": "7ec6294f",
   "metadata": {},
   "outputs": [
    {
     "data": {
      "text/html": [
       "<div>\n",
       "<style scoped>\n",
       "    .dataframe tbody tr th:only-of-type {\n",
       "        vertical-align: middle;\n",
       "    }\n",
       "\n",
       "    .dataframe tbody tr th {\n",
       "        vertical-align: top;\n",
       "    }\n",
       "\n",
       "    .dataframe thead th {\n",
       "        text-align: right;\n",
       "    }\n",
       "</style>\n",
       "<table border=\"1\" class=\"dataframe\">\n",
       "  <thead>\n",
       "    <tr style=\"text-align: right;\">\n",
       "      <th></th>\n",
       "      <th>Submission ID</th>\n",
       "      <th>Title</th>\n",
       "      <th>Authors</th>\n",
       "      <th>Track</th>\n",
       "      <th>Submission Type</th>\n",
       "      <th>Acceptance Status</th>\n",
       "      <th>ARRLink</th>\n",
       "      <th>Abstract</th>\n",
       "    </tr>\n",
       "  </thead>\n",
       "  <tbody>\n",
       "    <tr>\n",
       "      <th>0</th>\n",
       "      <td>1321</td>\n",
       "      <td>A Neural-Symbolic Approach to Natural Language...</td>\n",
       "      <td>Zhixuan Liu, Zihao Wang, Yuan Lin and Hang Li</td>\n",
       "      <td>Ethic Concerns:Efficient Methods for NLP</td>\n",
       "      <td>Regular Long Paper</td>\n",
       "      <td>Accept-Conditional-Findings</td>\n",
       "      <td>NaN</td>\n",
       "      <td>Deep neural networks, empowered by pre-trained...</td>\n",
       "    </tr>\n",
       "    <tr>\n",
       "      <th>1</th>\n",
       "      <td>1810</td>\n",
       "      <td>Towards Intelligent Clinically-Informed Langua...</td>\n",
       "      <td>Ankit Aich, Avery Quynh, Varsha Badal, Amy Pin...</td>\n",
       "      <td>Ethic Concerns:Resources and Evaluation</td>\n",
       "      <td>Regular Long Paper</td>\n",
       "      <td>Accept-Conditional-Findings</td>\n",
       "      <td>NaN</td>\n",
       "      <td>NLP offers a myriad of opportunities to suppor...</td>\n",
       "    </tr>\n",
       "    <tr>\n",
       "      <th>2</th>\n",
       "      <td>2293</td>\n",
       "      <td>Towards Identifying Social Bias in Dialog Syst...</td>\n",
       "      <td>Jingyan ZHOU, Jiawen Deng, Fei Mi, Yitong Li, ...</td>\n",
       "      <td>Ethic Concerns:Ethics</td>\n",
       "      <td>Regular Long Paper</td>\n",
       "      <td>Accept-Conditional-Findings</td>\n",
       "      <td>NaN</td>\n",
       "      <td>Among all the safety concerns that hinder the ...</td>\n",
       "    </tr>\n",
       "  </tbody>\n",
       "</table>\n",
       "</div>"
      ],
      "text/plain": [
       "   Submission ID                                              Title  \\\n",
       "0           1321  A Neural-Symbolic Approach to Natural Language...   \n",
       "1           1810  Towards Intelligent Clinically-Informed Langua...   \n",
       "2           2293  Towards Identifying Social Bias in Dialog Syst...   \n",
       "\n",
       "                                             Authors  \\\n",
       "0      Zhixuan Liu, Zihao Wang, Yuan Lin and Hang Li   \n",
       "1  Ankit Aich, Avery Quynh, Varsha Badal, Amy Pin...   \n",
       "2  Jingyan ZHOU, Jiawen Deng, Fei Mi, Yitong Li, ...   \n",
       "\n",
       "                                      Track     Submission Type  \\\n",
       "0  Ethic Concerns:Efficient Methods for NLP  Regular Long Paper   \n",
       "1   Ethic Concerns:Resources and Evaluation  Regular Long Paper   \n",
       "2                     Ethic Concerns:Ethics  Regular Long Paper   \n",
       "\n",
       "             Acceptance Status ARRLink  \\\n",
       "0  Accept-Conditional-Findings     NaN   \n",
       "1  Accept-Conditional-Findings     NaN   \n",
       "2  Accept-Conditional-Findings     NaN   \n",
       "\n",
       "                                            Abstract  \n",
       "0  Deep neural networks, empowered by pre-trained...  \n",
       "1  NLP offers a myriad of opportunities to suppor...  \n",
       "2  Among all the safety concerns that hinder the ...  "
      ]
     },
     "execution_count": 3,
     "metadata": {},
     "output_type": "execute_result"
    }
   ],
   "source": [
    "emnlp.head(3)"
   ]
  },
  {
   "cell_type": "code",
   "execution_count": 4,
   "id": "a7ca1ac3",
   "metadata": {},
   "outputs": [
    {
     "data": {
      "text/html": [
       "<div>\n",
       "<style scoped>\n",
       "    .dataframe tbody tr th:only-of-type {\n",
       "        vertical-align: middle;\n",
       "    }\n",
       "\n",
       "    .dataframe tbody tr th {\n",
       "        vertical-align: top;\n",
       "    }\n",
       "\n",
       "    .dataframe thead th {\n",
       "        text-align: right;\n",
       "    }\n",
       "</style>\n",
       "<table border=\"1\" class=\"dataframe\">\n",
       "  <thead>\n",
       "    <tr style=\"text-align: right;\">\n",
       "      <th></th>\n",
       "      <th>Paper Title</th>\n",
       "      <th>Authors</th>\n",
       "    </tr>\n",
       "  </thead>\n",
       "  <tbody>\n",
       "    <tr>\n",
       "      <th>0</th>\n",
       "      <td>Cascade Transformers for End-to-End Person Search</td>\n",
       "      <td>Rui Yu (The Pennsylvania State University); Da...</td>\n",
       "    </tr>\n",
       "    <tr>\n",
       "      <th>1</th>\n",
       "      <td>Compositional Temporal Grounding with Structur...</td>\n",
       "      <td>Juncheng Li (Zhejiang University)*; Junlin Xie...</td>\n",
       "    </tr>\n",
       "    <tr>\n",
       "      <th>2</th>\n",
       "      <td>Long-Tailed Recognition via Weight Balancing</td>\n",
       "      <td>Shaden N Alshammari (Massachusetts Institute o...</td>\n",
       "    </tr>\n",
       "  </tbody>\n",
       "</table>\n",
       "</div>"
      ],
      "text/plain": [
       "                                         Paper Title  \\\n",
       "0  Cascade Transformers for End-to-End Person Search   \n",
       "1  Compositional Temporal Grounding with Structur...   \n",
       "2       Long-Tailed Recognition via Weight Balancing   \n",
       "\n",
       "                                             Authors  \n",
       "0  Rui Yu (The Pennsylvania State University); Da...  \n",
       "1  Juncheng Li (Zhejiang University)*; Junlin Xie...  \n",
       "2  Shaden N Alshammari (Massachusetts Institute o...  "
      ]
     },
     "execution_count": 4,
     "metadata": {},
     "output_type": "execute_result"
    }
   ],
   "source": [
    "cvpr.head(3)"
   ]
  },
  {
   "cell_type": "code",
   "execution_count": 5,
   "id": "25781999",
   "metadata": {},
   "outputs": [
    {
     "data": {
      "text/plain": [
       "(1381, 2065)"
      ]
     },
     "execution_count": 5,
     "metadata": {},
     "output_type": "execute_result"
    }
   ],
   "source": [
    "# 데이터 간에 조금의 데이터 불균형이 존재하는 걸 확인할 수 있습니다.\n",
    "len(emnlp), len(cvpr)"
   ]
  },
  {
   "cell_type": "code",
   "execution_count": 6,
   "id": "147d94f0",
   "metadata": {},
   "outputs": [],
   "source": [
    "titles, labels = [], []\n",
    "\n",
    "for emnlp_title in list(emnlp['Title']):\n",
    "    titles.append(emnlp_title)\n",
    "    labels.append('EMNLP')\n",
    "    \n",
    "for cvpr_title in list(cvpr['Paper Title']):\n",
    "    titles.append(cvpr_title)\n",
    "    labels.append('CVPR')"
   ]
  },
  {
   "cell_type": "code",
   "execution_count": 7,
   "id": "4cf193e8",
   "metadata": {
    "scrolled": true
   },
   "outputs": [],
   "source": [
    "data = pd.DataFrame({'Title': titles, 'Label': labels})"
   ]
  },
  {
   "cell_type": "code",
   "execution_count": 8,
   "id": "bd1f4e9f",
   "metadata": {},
   "outputs": [
    {
     "data": {
      "text/html": [
       "<div>\n",
       "<style scoped>\n",
       "    .dataframe tbody tr th:only-of-type {\n",
       "        vertical-align: middle;\n",
       "    }\n",
       "\n",
       "    .dataframe tbody tr th {\n",
       "        vertical-align: top;\n",
       "    }\n",
       "\n",
       "    .dataframe thead th {\n",
       "        text-align: right;\n",
       "    }\n",
       "</style>\n",
       "<table border=\"1\" class=\"dataframe\">\n",
       "  <thead>\n",
       "    <tr style=\"text-align: right;\">\n",
       "      <th></th>\n",
       "      <th>Title</th>\n",
       "      <th>Label</th>\n",
       "    </tr>\n",
       "  </thead>\n",
       "  <tbody>\n",
       "    <tr>\n",
       "      <th>0</th>\n",
       "      <td>A Neural-Symbolic Approach to Natural Language...</td>\n",
       "      <td>EMNLP</td>\n",
       "    </tr>\n",
       "    <tr>\n",
       "      <th>1</th>\n",
       "      <td>Towards Intelligent Clinically-Informed Langua...</td>\n",
       "      <td>EMNLP</td>\n",
       "    </tr>\n",
       "    <tr>\n",
       "      <th>2</th>\n",
       "      <td>Towards Identifying Social Bias in Dialog Syst...</td>\n",
       "      <td>EMNLP</td>\n",
       "    </tr>\n",
       "    <tr>\n",
       "      <th>3</th>\n",
       "      <td>Cards Against AI: Predicting Humor in a Fill-i...</td>\n",
       "      <td>EMNLP</td>\n",
       "    </tr>\n",
       "    <tr>\n",
       "      <th>4</th>\n",
       "      <td>ClinicalT5: A Generative Language Model for Cl...</td>\n",
       "      <td>EMNLP</td>\n",
       "    </tr>\n",
       "  </tbody>\n",
       "</table>\n",
       "</div>"
      ],
      "text/plain": [
       "                                               Title  Label\n",
       "0  A Neural-Symbolic Approach to Natural Language...  EMNLP\n",
       "1  Towards Intelligent Clinically-Informed Langua...  EMNLP\n",
       "2  Towards Identifying Social Bias in Dialog Syst...  EMNLP\n",
       "3  Cards Against AI: Predicting Humor in a Fill-i...  EMNLP\n",
       "4  ClinicalT5: A Generative Language Model for Cl...  EMNLP"
      ]
     },
     "execution_count": 8,
     "metadata": {},
     "output_type": "execute_result"
    }
   ],
   "source": [
    "data.head()"
   ]
  },
  {
   "cell_type": "code",
   "execution_count": 9,
   "id": "4eb835e9",
   "metadata": {},
   "outputs": [
    {
     "name": "stdout",
     "output_type": "stream",
     "text": [
      "<class 'pandas.core.frame.DataFrame'>\n",
      "RangeIndex: 3446 entries, 0 to 3445\n",
      "Data columns (total 2 columns):\n",
      " #   Column  Non-Null Count  Dtype \n",
      "---  ------  --------------  ----- \n",
      " 0   Title   3446 non-null   object\n",
      " 1   Label   3446 non-null   object\n",
      "dtypes: object(2)\n",
      "memory usage: 54.0+ KB\n"
     ]
    }
   ],
   "source": [
    "data.info()"
   ]
  },
  {
   "cell_type": "markdown",
   "id": "58525a1c",
   "metadata": {},
   "source": [
    "### 🎨 EDA\n",
    "> 각 학회별로 가장 자주 등장한 단어를 출력하는 간단한 EDA를 해보겠습니다!\n",
    "\n",
    "- 결과적으로 EMNLP 논문에선 **language, learning, generation, knowledge, text** 등 언어와 관련된 키워드가, CVPR 논문에선 **image, 3D, detection, object, segmentation** 등 비전과 관련된 키워드가 많이 등장하는 사실을 확인할 수 있었습니다.\n",
    "- 시각화를 진행한 이후에 불용어가 많이 등장하는 것이 확인되어 불용어를 제거하는 전처리를 수행했지만 결과적으로 성능이 떨어져서 전처리 과정은 생략하게 되었습니다.\n",
    "    - 불용어 제거시 for, and와 같이 논문 제목 내 불필요한 불용어뿐만 아니라 with, against와 같이 논문 제목에서 중요한 역할을 하는 불용어도 함께 제거되기 때문에 성능이 하락했다고 생각합니다."
   ]
  },
  {
   "cell_type": "code",
   "execution_count": 10,
   "id": "0ad64953",
   "metadata": {},
   "outputs": [],
   "source": [
    "emnlp_fd = nltk.FreqDist(word for text in data[data[\"Label\"] == \"EMNLP\"][\"Title\"] for word in text.lower().split())\n",
    "cvpr_fd = nltk.FreqDist(word  for text in data[data[\"Label\"] == \"CVPR\"][\"Title\"] for word in text.lower().split())"
   ]
  },
  {
   "cell_type": "code",
   "execution_count": 11,
   "id": "d2484d90",
   "metadata": {},
   "outputs": [
    {
     "data": {
      "image/png": "[encoded data removed]",
      "text/plain": [
       "<Figure size 576x432 with 1 Axes>"
      ]
     },
     "metadata": {
      "needs_background": "light"
     },
     "output_type": "display_data"
    }
   ],
   "source": [
    "plt.subplots(figsize=(8,6))\n",
    "plt.title(\"Most Used Words in EMNLP Papers\")\n",
    "emnlp_fd.plot(50)\n",
    "plt.show()"
   ]
  },
  {
   "cell_type": "code",
   "execution_count": 12,
   "id": "94b443af",
   "metadata": {},
   "outputs": [
    {
     "data": {
      "image/png": "[encoded data removed]",
      "text/plain": [
       "<Figure size 576x432 with 1 Axes>"
      ]
     },
     "metadata": {
      "needs_background": "light"
     },
     "output_type": "display_data"
    }
   ],
   "source": [
    "plt.subplots(figsize=(8,6))\n",
    "plt.title(\"Most Used Words in CVPR Papers\")\n",
    "cvpr_fd.plot(50)\n",
    "plt.show()"
   ]
  },
  {
   "cell_type": "markdown",
   "id": "fedf7fef",
   "metadata": {},
   "source": [
    "---"
   ]
  },
  {
   "cell_type": "markdown",
   "id": "0374e117",
   "metadata": {},
   "source": [
    "## 2️⃣ 모델 학습 데이터 준비"
   ]
  },
  {
   "cell_type": "code",
   "execution_count": 13,
   "id": "b13f926a",
   "metadata": {},
   "outputs": [],
   "source": [
    "X_train, X_test, y_train, y_test = train_test_split(data['Title'], data['Label'], \n",
    "                                                    shuffle=True, test_size = 0.2, random_state = seed)"
   ]
  },
  {
   "cell_type": "markdown",
   "id": "4bf0f16e",
   "metadata": {},
   "source": [
    "- Text로 된 라벨을 숫자로 인코딩합니다."
   ]
  },
  {
   "cell_type": "code",
   "execution_count": 14,
   "id": "a55c6791",
   "metadata": {},
   "outputs": [
    {
     "name": "stdout",
     "output_type": "stream",
     "text": [
      "['CVPR', 'EMNLP', 'EMNLP', 'EMNLP', 'EMNLP', 'EMNLP', 'CVPR', 'CVPR', 'CVPR', 'CVPR']\n"
     ]
    }
   ],
   "source": [
    "# Before\n",
    "print(list(y_train[:10]))"
   ]
  },
  {
   "cell_type": "code",
   "execution_count": 15,
   "id": "21369fc5",
   "metadata": {},
   "outputs": [],
   "source": [
    "label_encoder = LabelEncoder()\n",
    "y_train = label_encoder.fit_transform(y_train)\n",
    "y_test = label_encoder.fit_transform(y_test)"
   ]
  },
  {
   "cell_type": "code",
   "execution_count": 16,
   "id": "c12477b6",
   "metadata": {},
   "outputs": [
    {
     "name": "stdout",
     "output_type": "stream",
     "text": [
      "[0, 1, 1, 1, 1, 1, 0, 0, 0, 0]\n"
     ]
    }
   ],
   "source": [
    "# AFTER\n",
    "print(list(y_train[:10]))"
   ]
  },
  {
   "cell_type": "markdown",
   "id": "affa9100",
   "metadata": {},
   "source": [
    "- Text로 된 Title을 SVM의 input으로 사용할 수 있도록 Numerical Feature Vector로 변경합니다.\n",
    "- Text를 Vector로 바꾸는 방법은 여러가지가 있지만 가장 대표적인 방법인 **TF-IDF**, 개인적으로 가장 결과가 궁금한 방법인 **BERT의 hidden representation**을 활용하는 방식 2가지를 실험해볼 예정입니다.\n",
    "    - BERT는 가장 기본적인 `bert-base-uncased` 모델을 활용하겠습니다."
   ]
  },
  {
   "cell_type": "markdown",
   "id": "612c0e24",
   "metadata": {},
   "source": [
    "- **TF-IDF**"
   ]
  },
  {
   "cell_type": "code",
   "execution_count": 17,
   "id": "cc14dbaf",
   "metadata": {},
   "outputs": [],
   "source": [
    "tfidf = TfidfVectorizer(max_features=5000)\n",
    "tfidf.fit(data['Title'])\n",
    "X_train_tfidf = tfidf.transform(X_train)\n",
    "X_test_tfidf = tfidf.transform(X_test)"
   ]
  },
  {
   "cell_type": "code",
   "execution_count": 18,
   "id": "2501c0b9",
   "metadata": {},
   "outputs": [
    {
     "data": {
      "text/plain": [
       "((2756, 4981), (690, 4981))"
      ]
     },
     "execution_count": 18,
     "metadata": {},
     "output_type": "execute_result"
    }
   ],
   "source": [
    "X_train_tfidf.shape, X_test_tfidf.shape"
   ]
  },
  {
   "cell_type": "markdown",
   "id": "578b6454",
   "metadata": {},
   "source": [
    "- **BERT**\n",
    "    - BERT의 hidden representation을 SVM의 input으로 활용하는 방법은 다양합니다.\n",
    "        - BERT의 12개의 layer에 대해 각 token representation을 평균내서 구한 token별 벡터를 활용 (Ray et al., 2020)\n",
    "        - BERT의 마지막 4개의 layer에 대해 각 layer에서 전체 token representation을 평균내서 구한 4개의 벡터를 mairesse feature와 concat해서 활용 (Kazameini et al., 2020)\n",
    "        \n",
    "        <img src=\"images/winlp.png\" width=\"700\">\n",
    "        \n",
    "    - 해당 튜토리얼에선 **(1) [CLS] token의 임베딩을 활용하는 방법 (2) 전체 Token의 임베딩을 평균내는 방법** 2가지 방식에 대한 결과를 확인해볼 예정입니다.\n",
    "    - Reference\n",
    "        - [Factuality Classification Using BERT Embeddings and Support Vector Machines (IberLEF@SEPLN 2020)](http://ceur-ws.org/Vol-2664/fact_paper2.pdf)\n",
    "        - [Depression Prediction using BERT and SVM (IRJET 2022)](https://www.irjet.net/archives/V9/i3/IRJET-V9I3366.pdf)\n",
    "        - [Personality Trait Detection Using Bagged SVM over BERT Word Embedding Ensembles (WiNLP 2020)](https://arxiv.org/pdf/2010.01309.pdf)"
   ]
  },
  {
   "cell_type": "code",
   "execution_count": 19,
   "id": "82d301d8",
   "metadata": {
    "scrolled": true
   },
   "outputs": [
    {
     "name": "stderr",
     "output_type": "stream",
     "text": [
      "Some weights of the model checkpoint at bert-base-uncased were not used when initializing BertModel: ['cls.predictions.decoder.weight', 'cls.seq_relationship.weight', 'cls.predictions.transform.dense.bias', 'cls.predictions.transform.LayerNorm.weight', 'cls.predictions.transform.LayerNorm.bias', 'cls.seq_relationship.bias', 'cls.predictions.transform.dense.weight', 'cls.predictions.bias']\n",
      "- This IS expected if you are initializing BertModel from the checkpoint of a model trained on another task or with another architecture (e.g. initializing a BertForSequenceClassification model from a BertForPreTraining model).\n",
      "- This IS NOT expected if you are initializing BertModel from the checkpoint of a model that you expect to be exactly identical (initializing a BertForSequenceClassification model from a BertForSequenceClassification model).\n"
     ]
    }
   ],
   "source": [
    "from transformers import AutoTokenizer, AutoModel\n",
    "\n",
    "tokenizer = AutoTokenizer.from_pretrained(\"bert-base-uncased\")\n",
    "model = AutoModel.from_pretrained(\"bert-base-uncased\")"
   ]
  },
  {
   "cell_type": "code",
   "execution_count": 20,
   "id": "68db82dd",
   "metadata": {},
   "outputs": [
    {
     "data": {
      "application/vnd.jupyter.widget-view+json": {
       "model_id": "93ec6415436347fda8083a5375bb8d52",
       "version_major": 2,
       "version_minor": 0
      },
      "text/plain": [
       "  0%|          | 0/2756 [00:00<?, ?it/s]"
      ]
     },
     "metadata": {},
     "output_type": "display_data"
    }
   ],
   "source": [
    "X_train_cls, X_train_avg = [], []\n",
    "\n",
    "for title in tqdm(list(X_train)):\n",
    "    inputs = tokenizer(title, \n",
    "                       max_length=32, \n",
    "                       padding='max_length', \n",
    "                       return_tensors=\"pt\")\n",
    "    outputs = model(**inputs)\n",
    "    cls_vector = outputs.pooler_output.squeeze().detach().numpy().tolist()\n",
    "    avg_vector = torch.mean(outputs.last_hidden_state, dim=1).squeeze().detach().numpy().tolist()\n",
    "    X_train_cls.append(cls_vector)\n",
    "    X_train_avg.append(avg_vector)"
   ]
  },
  {
   "cell_type": "code",
   "execution_count": 21,
   "id": "561f8613",
   "metadata": {},
   "outputs": [
    {
     "data": {
      "application/vnd.jupyter.widget-view+json": {
       "model_id": "aee28e83cf9f46de8fb204f5f7660020",
       "version_major": 2,
       "version_minor": 0
      },
      "text/plain": [
       "  0%|          | 0/690 [00:00<?, ?it/s]"
      ]
     },
     "metadata": {},
     "output_type": "display_data"
    }
   ],
   "source": [
    "X_test_cls, X_test_avg = [], []\n",
    "\n",
    "for title in tqdm(list(X_test)):\n",
    "    inputs = tokenizer(title, \n",
    "                       max_length=32, \n",
    "                       padding='max_length', \n",
    "                       return_tensors=\"pt\")\n",
    "    outputs = model(**inputs)\n",
    "    cls_vector = outputs.pooler_output.squeeze().detach().numpy().tolist()\n",
    "    avg_vector = torch.mean(outputs.last_hidden_state, dim=1).squeeze().detach().numpy().tolist()\n",
    "    X_test_cls.append(cls_vector)\n",
    "    X_test_avg.append(avg_vector)"
   ]
  },
  {
   "cell_type": "code",
   "execution_count": 22,
   "id": "20a628da",
   "metadata": {},
   "outputs": [],
   "source": [
    "X_train_cls = np.asarray(X_train_cls)\n",
    "X_train_avg = np.asarray(X_train_avg)\n",
    "X_test_cls = np.asarray(X_test_cls)\n",
    "X_test_avg = np.asarray(X_test_avg)"
   ]
  },
  {
   "cell_type": "code",
   "execution_count": 23,
   "id": "53e43767",
   "metadata": {},
   "outputs": [
    {
     "data": {
      "text/plain": [
       "((2756, 768), (690, 768))"
      ]
     },
     "execution_count": 23,
     "metadata": {},
     "output_type": "execute_result"
    }
   ],
   "source": [
    "X_train_cls.shape, X_test_cls.shape"
   ]
  },
  {
   "cell_type": "code",
   "execution_count": 24,
   "id": "12b6f55b",
   "metadata": {},
   "outputs": [
    {
     "data": {
      "text/plain": [
       "((2756, 768), (690, 768))"
      ]
     },
     "execution_count": 24,
     "metadata": {},
     "output_type": "execute_result"
    }
   ],
   "source": [
    "X_train_avg.shape, X_test_avg.shape"
   ]
  },
  {
   "cell_type": "markdown",
   "id": "f3182dd4",
   "metadata": {},
   "source": [
    "---"
   ]
  },
  {
   "cell_type": "markdown",
   "id": "30d66d56",
   "metadata": {},
   "source": [
    "## 3️⃣ Hyperparameter 변화에 따른 성능 분석\n",
    "\n",
    "- **`C`** = [0.01, 0.1, 1, 10]  \n",
    "    - C는 **SVM에게 얼마나 error를 허용할 것인지를 결정**하는 하이퍼파라미터로, C가 클수록 decision boundary가 error를 갖는 데이터 포인트들에 대해 강하게 페널티를 주므로 margin이 작아지고, C가 작을수록 margin이 커집니다. C가 너무 크다면 SVM이 이상치에도 예민하게 반응해서 학습 데이터에 오버피팅될 수 있는 위험이 있습니다.\n",
    "\n",
    "\n",
    "<img src=\"images/c_2.png\" width=\"450\"> <img src=\"images/c_3.png\" width=\"450\">\n",
    "\n",
    "\n",
    "- **`degree`** = [1, 3, 5]\n",
    "    - degree는 **다항식의 차수를 결정**하는 하이퍼파라미터로, 차수가 높을수록 복잡한 decision boundary가 생성되며, 낮을수록 단순한 decision boundary가 생성됩니다.\n",
    "\n",
    "\n",
    "<img src=\"images/degree.png\" width=\"450\">  \n",
    "\n",
    "\n",
    "- **`gamma`** = [0.01, 0.1, 1, 10]\n",
    "    - gamma는 **하나의 데이터 샘플이 영향력을 행사하는 거리를 결정**하는 하이퍼파라미터로, gamma에 따라 decision boundary가 유연하게 그려지는 정도, 즉 decision boundary의 곡률이 정해집니다. gamma가 클수록 각 데이터 포인트들이 영향력을 행사하는 거리가 짧아지므로 decision boundary가 구불구불해지고, gamma가 작을수록 각 데이터 포인트들이 영향력을 행사하는 거리가 커지므로 decision boundary가 직선과 가깝게 그려집니다. 그림에서 0.008, 0.01과 같이 gamma를 매우 작게 준 경우엔 모델이 실제 데이터의 특성을 잡아내지 못하고 선형 모델의 결과와 비슷한 결과를 내고 있는 반면 3.0, 7.0, 11.0과 같이 gamma가 점점 커질수록 학습 데이터에 오버피팅되어가는 것을 확인할 수 있습니다.\n",
    "    \n",
    "    \n",
    "<img src=\"images/gamma.png\" width=\"450\">\n",
    "    \n",
    "    \n",
    "📌 이미지 출처\n",
    "- https://vitalflux.com/svm-rbf-kernel-parameters-code-sample/\n",
    "- https://eunsukimme.github.io/ml/2019/11/04/SVM/\n",
    "- https://towardsdatascience.com/support-vector-machine-803884d967e3\n",
    "- https://www.researchgate.net/publication/23442384_Support_Vector_Machines_and_Kernels_for_Computational_Biology\n",
    "\n",
    "📌 Reference\n",
    "- https://scikit-learn.org/stable/modules/generated/sklearn.svm.SVC.html\n",
    "- https://eunsukimme.github.io/ml/2019/11/04/SVM/\n",
    "- https://hleecaster.com/ml-svm-concept/\n",
    "- https://hleecaster.com/ml-svm-concept/"
   ]
  },
  {
   "cell_type": "markdown",
   "id": "ffdda564",
   "metadata": {},
   "source": [
    "- 각 커널 함수별 실험을 진행하지 않는 option들도 train_SVM 함수에서 공통적으로 인자를 받기 때문에 공식 홈페이지에서 설정한 default 값을 입력을 주었습니다.\n"
   ]
  },
  {
   "cell_type": "code",
   "execution_count": 27,
   "id": "15e25c34",
   "metadata": {},
   "outputs": [],
   "source": [
    "C_list = [0.01, 0.1, 1, 10]\n",
    "degree_list = [1, 3, 5]\n",
    "gamma_list = [0.01, 0.1, 1, 10]"
   ]
  },
  {
   "cell_type": "code",
   "execution_count": 28,
   "id": "5719e7e5",
   "metadata": {},
   "outputs": [],
   "source": [
    "# Linear Kernel : C 값에 따른 성능 측정\n",
    "linear_args = easydict.EasyDict({\n",
    "    \"kernel\" : \"linear\",\n",
    "    \"C\" : 1.0,\n",
    "    \"degree\" : 3,\n",
    "    \"gamma\" : \"scale\"\n",
    "})\n",
    "\n",
    "# Polynomial Kernel : C 값, Degree 값에 따른 성능 측정\n",
    "poly_args = easydict.EasyDict({\n",
    "    \"kernel\" : \"poly\",\n",
    "    \"C\" : 1.0,\n",
    "    \"degree\" : 3,\n",
    "    \"gamma\" : \"scale\"\n",
    "})\n",
    "\n",
    "\n",
    "# RBF Kernel : C 값, Gamma 값에 따른 성능 측정\n",
    "rbf_args = easydict.EasyDict({\n",
    "    \"kernel\" : \"rbf\",\n",
    "    \"C\" : 1.0,\n",
    "    \"degree\" : 3,\n",
    "    \"gamma\" : \"scale\"\n",
    "})"
   ]
  },
  {
   "cell_type": "markdown",
   "id": "610d9343",
   "metadata": {},
   "source": [
    "- 조금 더 편리한 실험 수행을 위해 모델 학습과 결과 확인을 위한 함수를 정의하고 시작하겠습니다!"
   ]
  },
  {
   "cell_type": "code",
   "execution_count": 29,
   "id": "7c79b9e1",
   "metadata": {},
   "outputs": [],
   "source": [
    "def train_SVM(args, X_train, X_test, y_train, y_test):\n",
    "    SVM = SVC(kernel=args.kernel, C=args.C, degree=args.degree, gamma=args.gamma, \n",
    "              max_iter=10000, random_state=seed, probability=True)\n",
    "    SVM.fit(X_train, y_train)\n",
    "    predictions = SVM.predict(X_test)\n",
    "    probas = SVM.predict_proba(X_test)\n",
    "    \n",
    "    # Visualize using wandb\n",
    "    wandb.init()\n",
    "    run_name = f\"kernel_{args.kernel}_C_{args.C}_degree_{args.degree}_gamma_{args.gamma}\"\n",
    "    wandb.run.name = run_name\n",
    "    wandb.sklearn.plot_roc(y_test, probas, labels=['EMNLP', 'CVPR'])\n",
    "    wandb.sklearn.plot_precision_recall(y_test, probas, labels=['EMNLP', 'CVPR'])\n",
    "    wandb.sklearn.plot_confusion_matrix(y_test, predictions, labels=['EMNLP', 'CVPR'])\n",
    "    wandb.finish()\n",
    "    \n",
    "    return run_name, predictions"
   ]
  },
  {
   "cell_type": "code",
   "execution_count": 30,
   "id": "3ee59aa5",
   "metadata": {},
   "outputs": [],
   "source": [
    "def print_result(run_name, predictions):\n",
    "    for idx, name in enumerate(run_name):\n",
    "        print(\"-\"*20)\n",
    "        print(f\"Name: {name}\")\n",
    "        print(f\"Accuracy: {metrics.accuracy_score(y_test, predictions[idx])*100:.2f}\")\n",
    "        print(f\"Precision: {metrics.precision_score(y_test, predictions[idx])*100:.2f}\")\n",
    "        print(f\"Recall: {metrics.recall_score(y_test, predictions[idx])*100:.2f}\")\n",
    "        print(f\"F1-Score: {metrics.f1_score(y_test, predictions[idx])*100:.2f}\")"
   ]
  },
  {
   "cell_type": "markdown",
   "id": "7b007f2c",
   "metadata": {},
   "source": [
    "### ① Linear Kernel\n",
    "> **`C=1`**일 때, Accuracy 기준 **91.30**으로 가장 높은 성능을 냈습니다. 0.01, 0.1과 같이 C가 너무 작은 경우엔 데이터를 잘 구분해내지 못하는 decision boundry가 형성되어 61.01, 80.43과 같이 확연히 낮은 성능을 보인 점을 확인할 수 있었습니다. 반대로 C가 10으로 큰 값을 가질 때도 C=1일 때와 비교하여 약간의 성능 하락을 보였는데 이는 큰 penalty로 인해 오버피팅이 발생했기 때문이라고 생각합니다.\n",
    "\n",
    "||Accuracy|Precision|Recall|F1-Score|\n",
    "|:---|:---:|:---:|:---:|:---:|\n",
    "|C=0.01|61.01|0.00|0.00|0.00|\n",
    "|C=0.1|80.43|96.53|51.67|67.31|\n",
    "|C=1|**91.30**|90.04|87.36|88.68|\n",
    "|C=10|89.42|86.84|85.87|86.36|"
   ]
  },
  {
   "cell_type": "code",
   "execution_count": 31,
   "id": "3651f4e1",
   "metadata": {
    "scrolled": true
   },
   "outputs": [
    {
     "name": "stderr",
     "output_type": "stream",
     "text": [
      "\u001b[34m\u001b[1mwandb\u001b[0m: Currently logged in as: \u001b[33mohsuz\u001b[0m. Use \u001b[1m`wandb login --relogin`\u001b[0m to force relogin\n"
     ]
    },
    {
     "data": {
      "text/html": [
       "Tracking run with wandb version 0.13.4"
      ],
      "text/plain": [
       "<IPython.core.display.HTML object>"
      ]
     },
     "metadata": {},
     "output_type": "display_data"
    },
    {
     "data": {
      "text/html": [
       "Run data is saved locally in <code>/workspace/111_BA/2022-2-Business-Analytics-Tutorials/wandb/run-20221103_113626-1p02hbyr</code>"
      ],
      "text/plain": [
       "<IPython.core.display.HTML object>"
      ]
     },
     "metadata": {},
     "output_type": "display_data"
    },
    {
     "data": {
      "text/html": [
       "Syncing run <strong><a href=\"https://wandb.ai/ohsuz/2022-2-Business-Analytics-Tutorials/runs/1p02hbyr\" target=\"_blank\">rose-plasma-10</a></strong> to <a href=\"https://wandb.ai/ohsuz/2022-2-Business-Analytics-Tutorials\" target=\"_blank\">Weights & Biases</a> (<a href=\"https://wandb.me/run\" target=\"_blank\">docs</a>)<br/>"
      ],
      "text/plain": [
       "<IPython.core.display.HTML object>"
      ]
     },
     "metadata": {},
     "output_type": "display_data"
    },
    {
     "name": "stderr",
     "output_type": "stream",
     "text": [
      "\u001b[34m\u001b[1mwandb\u001b[0m: \u001b[33mWARNING\u001b[0m wandb.plots.* functions are deprecated and will be removed in a future release. Please use wandb.plot.* instead.\n"
     ]
    },
    {
     "data": {
      "text/html": [
       "Waiting for W&B process to finish... <strong style=\"color:green\">(success).</strong>"
      ],
      "text/plain": [
       "<IPython.core.display.HTML object>"
      ]
     },
     "metadata": {},
     "output_type": "display_data"
    },
    {
     "data": {
      "text/html": [
       "Synced <strong style=\"color:#cdcd00\">rose-plasma-10</strong>: <a href=\"https://wandb.ai/ohsuz/2022-2-Business-Analytics-Tutorials/runs/1p02hbyr\" target=\"_blank\">https://wandb.ai/ohsuz/2022-2-Business-Analytics-Tutorials/runs/1p02hbyr</a><br/>Synced 5 W&B file(s), 3 media file(s), 3 artifact file(s) and 0 other file(s)"
      ],
      "text/plain": [
       "<IPython.core.display.HTML object>"
      ]
     },
     "metadata": {},
     "output_type": "display_data"
    },
    {
     "data": {
      "text/html": [
       "Find logs at: <code>./wandb/run-20221103_113626-1p02hbyr/logs</code>"
      ],
      "text/plain": [
       "<IPython.core.display.HTML object>"
      ]
     },
     "metadata": {},
     "output_type": "display_data"
    },
    {
     "data": {
      "text/html": [
       "Tracking run with wandb version 0.13.4"
      ],
      "text/plain": [
       "<IPython.core.display.HTML object>"
      ]
     },
     "metadata": {},
     "output_type": "display_data"
    },
    {
     "data": {
      "text/html": [
       "Run data is saved locally in <code>/workspace/111_BA/2022-2-Business-Analytics-Tutorials/wandb/run-20221103_113642-16592zph</code>"
      ],
      "text/plain": [
       "<IPython.core.display.HTML object>"
      ]
     },
     "metadata": {},
     "output_type": "display_data"
    },
    {
     "data": {
      "text/html": [
       "Syncing run <strong><a href=\"https://wandb.ai/ohsuz/2022-2-Business-Analytics-Tutorials/runs/16592zph\" target=\"_blank\">drawn-water-11</a></strong> to <a href=\"https://wandb.ai/ohsuz/2022-2-Business-Analytics-Tutorials\" target=\"_blank\">Weights & Biases</a> (<a href=\"https://wandb.me/run\" target=\"_blank\">docs</a>)<br/>"
      ],
      "text/plain": [
       "<IPython.core.display.HTML object>"
      ]
     },
     "metadata": {},
     "output_type": "display_data"
    },
    {
     "data": {
      "text/html": [
       "Waiting for W&B process to finish... <strong style=\"color:green\">(success).</strong>"
      ],
      "text/plain": [
       "<IPython.core.display.HTML object>"
      ]
     },
     "metadata": {},
     "output_type": "display_data"
    },
    {
     "data": {
      "text/html": [
       "Synced <strong style=\"color:#cdcd00\">drawn-water-11</strong>: <a href=\"https://wandb.ai/ohsuz/2022-2-Business-Analytics-Tutorials/runs/16592zph\" target=\"_blank\">https://wandb.ai/ohsuz/2022-2-Business-Analytics-Tutorials/runs/16592zph</a><br/>Synced 4 W&B file(s), 3 media file(s), 3 artifact file(s) and 0 other file(s)"
      ],
      "text/plain": [
       "<IPython.core.display.HTML object>"
      ]
     },
     "metadata": {},
     "output_type": "display_data"
    },
    {
     "data": {
      "text/html": [
       "Find logs at: <code>./wandb/run-20221103_113642-16592zph/logs</code>"
      ],
      "text/plain": [
       "<IPython.core.display.HTML object>"
      ]
     },
     "metadata": {},
     "output_type": "display_data"
    },
    {
     "data": {
      "text/html": [
       "Tracking run with wandb version 0.13.4"
      ],
      "text/plain": [
       "<IPython.core.display.HTML object>"
      ]
     },
     "metadata": {},
     "output_type": "display_data"
    },
    {
     "data": {
      "text/html": [
       "Run data is saved locally in <code>/workspace/111_BA/2022-2-Business-Analytics-Tutorials/wandb/run-20221103_113657-3t6vyzlh</code>"
      ],
      "text/plain": [
       "<IPython.core.display.HTML object>"
      ]
     },
     "metadata": {},
     "output_type": "display_data"
    },
    {
     "data": {
      "text/html": [
       "Syncing run <strong><a href=\"https://wandb.ai/ohsuz/2022-2-Business-Analytics-Tutorials/runs/3t6vyzlh\" target=\"_blank\">crisp-water-12</a></strong> to <a href=\"https://wandb.ai/ohsuz/2022-2-Business-Analytics-Tutorials\" target=\"_blank\">Weights & Biases</a> (<a href=\"https://wandb.me/run\" target=\"_blank\">docs</a>)<br/>"
      ],
      "text/plain": [
       "<IPython.core.display.HTML object>"
      ]
     },
     "metadata": {},
     "output_type": "display_data"
    },
    {
     "data": {
      "text/html": [
       "Waiting for W&B process to finish... <strong style=\"color:green\">(success).</strong>"
      ],
      "text/plain": [
       "<IPython.core.display.HTML object>"
      ]
     },
     "metadata": {},
     "output_type": "display_data"
    },
    {
     "data": {
      "text/html": [
       "Synced <strong style=\"color:#cdcd00\">crisp-water-12</strong>: <a href=\"https://wandb.ai/ohsuz/2022-2-Business-Analytics-Tutorials/runs/3t6vyzlh\" target=\"_blank\">https://wandb.ai/ohsuz/2022-2-Business-Analytics-Tutorials/runs/3t6vyzlh</a><br/>Synced 4 W&B file(s), 3 media file(s), 3 artifact file(s) and 0 other file(s)"
      ],
      "text/plain": [
       "<IPython.core.display.HTML object>"
      ]
     },
     "metadata": {},
     "output_type": "display_data"
    },
    {
     "data": {
      "text/html": [
       "Find logs at: <code>./wandb/run-20221103_113657-3t6vyzlh/logs</code>"
      ],
      "text/plain": [
       "<IPython.core.display.HTML object>"
      ]
     },
     "metadata": {},
     "output_type": "display_data"
    },
    {
     "data": {
      "text/html": [
       "Tracking run with wandb version 0.13.4"
      ],
      "text/plain": [
       "<IPython.core.display.HTML object>"
      ]
     },
     "metadata": {},
     "output_type": "display_data"
    },
    {
     "data": {
      "text/html": [
       "Run data is saved locally in <code>/workspace/111_BA/2022-2-Business-Analytics-Tutorials/wandb/run-20221103_113712-20iwwjpl</code>"
      ],
      "text/plain": [
       "<IPython.core.display.HTML object>"
      ]
     },
     "metadata": {},
     "output_type": "display_data"
    },
    {
     "data": {
      "text/html": [
       "Syncing run <strong><a href=\"https://wandb.ai/ohsuz/2022-2-Business-Analytics-Tutorials/runs/20iwwjpl\" target=\"_blank\">misty-capybara-13</a></strong> to <a href=\"https://wandb.ai/ohsuz/2022-2-Business-Analytics-Tutorials\" target=\"_blank\">Weights & Biases</a> (<a href=\"https://wandb.me/run\" target=\"_blank\">docs</a>)<br/>"
      ],
      "text/plain": [
       "<IPython.core.display.HTML object>"
      ]
     },
     "metadata": {},
     "output_type": "display_data"
    },
    {
     "data": {
      "text/html": [
       "Waiting for W&B process to finish... <strong style=\"color:green\">(success).</strong>"
      ],
      "text/plain": [
       "<IPython.core.display.HTML object>"
      ]
     },
     "metadata": {},
     "output_type": "display_data"
    },
    {
     "data": {
      "text/html": [
       "Synced <strong style=\"color:#cdcd00\">misty-capybara-13</strong>: <a href=\"https://wandb.ai/ohsuz/2022-2-Business-Analytics-Tutorials/runs/20iwwjpl\" target=\"_blank\">https://wandb.ai/ohsuz/2022-2-Business-Analytics-Tutorials/runs/20iwwjpl</a><br/>Synced 4 W&B file(s), 3 media file(s), 3 artifact file(s) and 0 other file(s)"
      ],
      "text/plain": [
       "<IPython.core.display.HTML object>"
      ]
     },
     "metadata": {},
     "output_type": "display_data"
    },
    {
     "data": {
      "text/html": [
       "Find logs at: <code>./wandb/run-20221103_113712-20iwwjpl/logs</code>"
      ],
      "text/plain": [
       "<IPython.core.display.HTML object>"
      ]
     },
     "metadata": {},
     "output_type": "display_data"
    }
   ],
   "source": [
    "lk_run_name, lk_preds = [], []\n",
    "\n",
    "for C in C_list:\n",
    "    linear_args.C = C\n",
    "    run_name, preds = train_SVM(linear_args, X_train_tfidf, X_test_tfidf, y_train, y_test)\n",
    "    lk_run_name.append(run_name)\n",
    "    lk_preds.append(preds)"
   ]
  },
  {
   "cell_type": "code",
   "execution_count": 32,
   "id": "7225e301",
   "metadata": {},
   "outputs": [
    {
     "name": "stdout",
     "output_type": "stream",
     "text": [
      "--------------------\n",
      "Name: kernel_linear_C_0.01_degree_3_gamma_scale\n",
      "Accuracy: 61.01\n",
      "Precision: 0.00\n",
      "Recall: 0.00\n",
      "F1-Score: 0.00\n",
      "--------------------\n",
      "Name: kernel_linear_C_0.1_degree_3_gamma_scale\n",
      "Accuracy: 80.43\n",
      "Precision: 96.53\n",
      "Recall: 51.67\n",
      "F1-Score: 67.31\n",
      "--------------------\n",
      "Name: kernel_linear_C_1_degree_3_gamma_scale\n",
      "Accuracy: 91.30\n",
      "Precision: 90.04\n",
      "Recall: 87.36\n",
      "F1-Score: 88.68\n",
      "--------------------\n",
      "Name: kernel_linear_C_10_degree_3_gamma_scale\n",
      "Accuracy: 89.42\n",
      "Precision: 86.84\n",
      "Recall: 85.87\n",
      "F1-Score: 86.36\n"
     ]
    }
   ],
   "source": [
    "print_result(lk_run_name, lk_preds)"
   ]
  },
  {
   "cell_type": "markdown",
   "id": "3a9036b3",
   "metadata": {},
   "source": [
    "### ② Polynomial Kernel\n",
    "\n",
    "> **`C=10`**일 때, Accuracy 기준 **75.51**로 가장 높은 성능을 냈습니다. degree를 변경한 실험 결과에서 degree가 커질수록 성능이 낮아지는 것을 확인할 수 있었는데 실험에서 사용한 default degree 값이 3이므로 전반적으로 낮은 성능을 보이는 점을 확인할 수 있으며, degree=3으로 인해 복잡한 decision boundary를 가지는 상황에선 penalty를 높게 줘서 아예 decision boundary가 더 데이터에 피팅되게 하는 것이 좋은 성능을 내는 방향이라고 해석했습니다.\n",
    "\n",
    "||Accuracy|Precision|Recall|F1-Score|\n",
    "|:---|:---:|:---:|:---:|:---:|\n",
    "|C=0.01|61.01|0.00|0.00|0.00|\n",
    "|C=0.1|61.01|0.00|0.00|0.00|\n",
    "|C=1|72.46|97.59|30.11|46.02|\n",
    "|C=10|**75.51**|98.08|37.92|54.69|\n",
    "\n",
    "> **`degree=1`**일 때, Accuracy 기준 **91.30**으로 가장 높은 성능을 냈습니다. Linear Kernel을 사용했을 때 91.30의 좋은 성능을 보였던 점을 생각해보면 해당 데이터는 데이터간 경계가 비교적 뚜렷한 데이터이므로, 복잡한 decision boundary보단 단순한 decision boundary가 생성되었을 때 더 좋은 성능을 낼 수 있었던 것으로 생각됩니다.\n",
    "\n",
    "||Accuracy|Precision|Recall|F1-Score|\n",
    "|:---|:---:|:---:|:---:|:---:|\n",
    "|degree=1|**91.30**|90.04|87.36|88.68|\n",
    "|degree=3|72.46|97.59|30.11|46.02|\n",
    "|degree=5|61.01|0.00|0.00|0.00|"
   ]
  },
  {
   "cell_type": "code",
   "execution_count": 33,
   "id": "728f9f26",
   "metadata": {
    "scrolled": true
   },
   "outputs": [
    {
     "data": {
      "text/html": [
       "Tracking run with wandb version 0.13.4"
      ],
      "text/plain": [
       "<IPython.core.display.HTML object>"
      ]
     },
     "metadata": {},
     "output_type": "display_data"
    },
    {
     "data": {
      "text/html": [
       "Run data is saved locally in <code>/workspace/111_BA/2022-2-Business-Analytics-Tutorials/wandb/run-20221103_114110-zsg1g4jr</code>"
      ],
      "text/plain": [
       "<IPython.core.display.HTML object>"
      ]
     },
     "metadata": {},
     "output_type": "display_data"
    },
    {
     "data": {
      "text/html": [
       "Syncing run <strong><a href=\"https://wandb.ai/ohsuz/2022-2-Business-Analytics-Tutorials/runs/zsg1g4jr\" target=\"_blank\">sparkling-fog-14</a></strong> to <a href=\"https://wandb.ai/ohsuz/2022-2-Business-Analytics-Tutorials\" target=\"_blank\">Weights & Biases</a> (<a href=\"https://wandb.me/run\" target=\"_blank\">docs</a>)<br/>"
      ],
      "text/plain": [
       "<IPython.core.display.HTML object>"
      ]
     },
     "metadata": {},
     "output_type": "display_data"
    },
    {
     "data": {
      "text/html": [
       "Waiting for W&B process to finish... <strong style=\"color:green\">(success).</strong>"
      ],
      "text/plain": [
       "<IPython.core.display.HTML object>"
      ]
     },
     "metadata": {},
     "output_type": "display_data"
    },
    {
     "data": {
      "text/html": [
       "Synced <strong style=\"color:#cdcd00\">sparkling-fog-14</strong>: <a href=\"https://wandb.ai/ohsuz/2022-2-Business-Analytics-Tutorials/runs/zsg1g4jr\" target=\"_blank\">https://wandb.ai/ohsuz/2022-2-Business-Analytics-Tutorials/runs/zsg1g4jr</a><br/>Synced 4 W&B file(s), 3 media file(s), 3 artifact file(s) and 0 other file(s)"
      ],
      "text/plain": [
       "<IPython.core.display.HTML object>"
      ]
     },
     "metadata": {},
     "output_type": "display_data"
    },
    {
     "data": {
      "text/html": [
       "Find logs at: <code>./wandb/run-20221103_114110-zsg1g4jr/logs</code>"
      ],
      "text/plain": [
       "<IPython.core.display.HTML object>"
      ]
     },
     "metadata": {},
     "output_type": "display_data"
    },
    {
     "data": {
      "text/html": [
       "Tracking run with wandb version 0.13.4"
      ],
      "text/plain": [
       "<IPython.core.display.HTML object>"
      ]
     },
     "metadata": {},
     "output_type": "display_data"
    },
    {
     "data": {
      "text/html": [
       "Run data is saved locally in <code>/workspace/111_BA/2022-2-Business-Analytics-Tutorials/wandb/run-20221103_114126-3g9ciofd</code>"
      ],
      "text/plain": [
       "<IPython.core.display.HTML object>"
      ]
     },
     "metadata": {},
     "output_type": "display_data"
    },
    {
     "data": {
      "text/html": [
       "Syncing run <strong><a href=\"https://wandb.ai/ohsuz/2022-2-Business-Analytics-Tutorials/runs/3g9ciofd\" target=\"_blank\">playful-field-15</a></strong> to <a href=\"https://wandb.ai/ohsuz/2022-2-Business-Analytics-Tutorials\" target=\"_blank\">Weights & Biases</a> (<a href=\"https://wandb.me/run\" target=\"_blank\">docs</a>)<br/>"
      ],
      "text/plain": [
       "<IPython.core.display.HTML object>"
      ]
     },
     "metadata": {},
     "output_type": "display_data"
    },
    {
     "data": {
      "text/html": [
       "Waiting for W&B process to finish... <strong style=\"color:green\">(success).</strong>"
      ],
      "text/plain": [
       "<IPython.core.display.HTML object>"
      ]
     },
     "metadata": {},
     "output_type": "display_data"
    },
    {
     "data": {
      "text/html": [
       "Synced <strong style=\"color:#cdcd00\">playful-field-15</strong>: <a href=\"https://wandb.ai/ohsuz/2022-2-Business-Analytics-Tutorials/runs/3g9ciofd\" target=\"_blank\">https://wandb.ai/ohsuz/2022-2-Business-Analytics-Tutorials/runs/3g9ciofd</a><br/>Synced 4 W&B file(s), 3 media file(s), 3 artifact file(s) and 0 other file(s)"
      ],
      "text/plain": [
       "<IPython.core.display.HTML object>"
      ]
     },
     "metadata": {},
     "output_type": "display_data"
    },
    {
     "data": {
      "text/html": [
       "Find logs at: <code>./wandb/run-20221103_114126-3g9ciofd/logs</code>"
      ],
      "text/plain": [
       "<IPython.core.display.HTML object>"
      ]
     },
     "metadata": {},
     "output_type": "display_data"
    },
    {
     "data": {
      "text/html": [
       "Tracking run with wandb version 0.13.4"
      ],
      "text/plain": [
       "<IPython.core.display.HTML object>"
      ]
     },
     "metadata": {},
     "output_type": "display_data"
    },
    {
     "data": {
      "text/html": [
       "Run data is saved locally in <code>/workspace/111_BA/2022-2-Business-Analytics-Tutorials/wandb/run-20221103_114142-2cnvsqzr</code>"
      ],
      "text/plain": [
       "<IPython.core.display.HTML object>"
      ]
     },
     "metadata": {},
     "output_type": "display_data"
    },
    {
     "data": {
      "text/html": [
       "Syncing run <strong><a href=\"https://wandb.ai/ohsuz/2022-2-Business-Analytics-Tutorials/runs/2cnvsqzr\" target=\"_blank\">classic-flower-16</a></strong> to <a href=\"https://wandb.ai/ohsuz/2022-2-Business-Analytics-Tutorials\" target=\"_blank\">Weights & Biases</a> (<a href=\"https://wandb.me/run\" target=\"_blank\">docs</a>)<br/>"
      ],
      "text/plain": [
       "<IPython.core.display.HTML object>"
      ]
     },
     "metadata": {},
     "output_type": "display_data"
    },
    {
     "data": {
      "text/html": [
       "Waiting for W&B process to finish... <strong style=\"color:green\">(success).</strong>"
      ],
      "text/plain": [
       "<IPython.core.display.HTML object>"
      ]
     },
     "metadata": {},
     "output_type": "display_data"
    },
    {
     "data": {
      "text/html": [
       "Synced <strong style=\"color:#cdcd00\">classic-flower-16</strong>: <a href=\"https://wandb.ai/ohsuz/2022-2-Business-Analytics-Tutorials/runs/2cnvsqzr\" target=\"_blank\">https://wandb.ai/ohsuz/2022-2-Business-Analytics-Tutorials/runs/2cnvsqzr</a><br/>Synced 4 W&B file(s), 3 media file(s), 3 artifact file(s) and 0 other file(s)"
      ],
      "text/plain": [
       "<IPython.core.display.HTML object>"
      ]
     },
     "metadata": {},
     "output_type": "display_data"
    },
    {
     "data": {
      "text/html": [
       "Find logs at: <code>./wandb/run-20221103_114142-2cnvsqzr/logs</code>"
      ],
      "text/plain": [
       "<IPython.core.display.HTML object>"
      ]
     },
     "metadata": {},
     "output_type": "display_data"
    },
    {
     "data": {
      "text/html": [
       "Tracking run with wandb version 0.13.4"
      ],
      "text/plain": [
       "<IPython.core.display.HTML object>"
      ]
     },
     "metadata": {},
     "output_type": "display_data"
    },
    {
     "data": {
      "text/html": [
       "Run data is saved locally in <code>/workspace/111_BA/2022-2-Business-Analytics-Tutorials/wandb/run-20221103_114159-127fl230</code>"
      ],
      "text/plain": [
       "<IPython.core.display.HTML object>"
      ]
     },
     "metadata": {},
     "output_type": "display_data"
    },
    {
     "data": {
      "text/html": [
       "Syncing run <strong><a href=\"https://wandb.ai/ohsuz/2022-2-Business-Analytics-Tutorials/runs/127fl230\" target=\"_blank\">happy-haze-17</a></strong> to <a href=\"https://wandb.ai/ohsuz/2022-2-Business-Analytics-Tutorials\" target=\"_blank\">Weights & Biases</a> (<a href=\"https://wandb.me/run\" target=\"_blank\">docs</a>)<br/>"
      ],
      "text/plain": [
       "<IPython.core.display.HTML object>"
      ]
     },
     "metadata": {},
     "output_type": "display_data"
    },
    {
     "data": {
      "text/html": [
       "Waiting for W&B process to finish... <strong style=\"color:green\">(success).</strong>"
      ],
      "text/plain": [
       "<IPython.core.display.HTML object>"
      ]
     },
     "metadata": {},
     "output_type": "display_data"
    },
    {
     "data": {
      "text/html": [
       "Synced <strong style=\"color:#cdcd00\">happy-haze-17</strong>: <a href=\"https://wandb.ai/ohsuz/2022-2-Business-Analytics-Tutorials/runs/127fl230\" target=\"_blank\">https://wandb.ai/ohsuz/2022-2-Business-Analytics-Tutorials/runs/127fl230</a><br/>Synced 4 W&B file(s), 3 media file(s), 3 artifact file(s) and 0 other file(s)"
      ],
      "text/plain": [
       "<IPython.core.display.HTML object>"
      ]
     },
     "metadata": {},
     "output_type": "display_data"
    },
    {
     "data": {
      "text/html": [
       "Find logs at: <code>./wandb/run-20221103_114159-127fl230/logs</code>"
      ],
      "text/plain": [
       "<IPython.core.display.HTML object>"
      ]
     },
     "metadata": {},
     "output_type": "display_data"
    }
   ],
   "source": [
    "pk_run_name_c, pk_preds_c = [], []\n",
    "\n",
    "for C in C_list:\n",
    "    poly_args.C = C\n",
    "    run_name, preds = train_SVM(poly_args, X_train_tfidf, X_test_tfidf, y_train, y_test)\n",
    "    pk_run_name_c.append(run_name)\n",
    "    pk_preds_c.append(preds)"
   ]
  },
  {
   "cell_type": "code",
   "execution_count": 34,
   "id": "170dc056",
   "metadata": {},
   "outputs": [
    {
     "name": "stdout",
     "output_type": "stream",
     "text": [
      "--------------------\n",
      "Name: kernel_poly_C_0.01_degree_3_gamma_scale\n",
      "Accuracy: 61.01\n",
      "Precision: 0.00\n",
      "Recall: 0.00\n",
      "F1-Score: 0.00\n",
      "--------------------\n",
      "Name: kernel_poly_C_0.1_degree_3_gamma_scale\n",
      "Accuracy: 61.01\n",
      "Precision: 0.00\n",
      "Recall: 0.00\n",
      "F1-Score: 0.00\n",
      "--------------------\n",
      "Name: kernel_poly_C_1_degree_3_gamma_scale\n",
      "Accuracy: 72.46\n",
      "Precision: 97.59\n",
      "Recall: 30.11\n",
      "F1-Score: 46.02\n",
      "--------------------\n",
      "Name: kernel_poly_C_10_degree_3_gamma_scale\n",
      "Accuracy: 75.51\n",
      "Precision: 98.08\n",
      "Recall: 37.92\n",
      "F1-Score: 54.69\n"
     ]
    }
   ],
   "source": [
    "print_result(pk_run_name_c, pk_preds_c)"
   ]
  },
  {
   "cell_type": "code",
   "execution_count": 35,
   "id": "0114984a",
   "metadata": {},
   "outputs": [
    {
     "data": {
      "text/html": [
       "Tracking run with wandb version 0.13.4"
      ],
      "text/plain": [
       "<IPython.core.display.HTML object>"
      ]
     },
     "metadata": {},
     "output_type": "display_data"
    },
    {
     "data": {
      "text/html": [
       "Run data is saved locally in <code>/workspace/111_BA/2022-2-Business-Analytics-Tutorials/wandb/run-20221103_114213-2jn9jg7w</code>"
      ],
      "text/plain": [
       "<IPython.core.display.HTML object>"
      ]
     },
     "metadata": {},
     "output_type": "display_data"
    },
    {
     "data": {
      "text/html": [
       "Syncing run <strong><a href=\"https://wandb.ai/ohsuz/2022-2-Business-Analytics-Tutorials/runs/2jn9jg7w\" target=\"_blank\">dutiful-morning-18</a></strong> to <a href=\"https://wandb.ai/ohsuz/2022-2-Business-Analytics-Tutorials\" target=\"_blank\">Weights & Biases</a> (<a href=\"https://wandb.me/run\" target=\"_blank\">docs</a>)<br/>"
      ],
      "text/plain": [
       "<IPython.core.display.HTML object>"
      ]
     },
     "metadata": {},
     "output_type": "display_data"
    },
    {
     "data": {
      "text/html": [
       "Waiting for W&B process to finish... <strong style=\"color:green\">(success).</strong>"
      ],
      "text/plain": [
       "<IPython.core.display.HTML object>"
      ]
     },
     "metadata": {},
     "output_type": "display_data"
    },
    {
     "data": {
      "text/html": [
       "Synced <strong style=\"color:#cdcd00\">dutiful-morning-18</strong>: <a href=\"https://wandb.ai/ohsuz/2022-2-Business-Analytics-Tutorials/runs/2jn9jg7w\" target=\"_blank\">https://wandb.ai/ohsuz/2022-2-Business-Analytics-Tutorials/runs/2jn9jg7w</a><br/>Synced 4 W&B file(s), 3 media file(s), 3 artifact file(s) and 0 other file(s)"
      ],
      "text/plain": [
       "<IPython.core.display.HTML object>"
      ]
     },
     "metadata": {},
     "output_type": "display_data"
    },
    {
     "data": {
      "text/html": [
       "Find logs at: <code>./wandb/run-20221103_114213-2jn9jg7w/logs</code>"
      ],
      "text/plain": [
       "<IPython.core.display.HTML object>"
      ]
     },
     "metadata": {},
     "output_type": "display_data"
    },
    {
     "data": {
      "text/html": [
       "Tracking run with wandb version 0.13.4"
      ],
      "text/plain": [
       "<IPython.core.display.HTML object>"
      ]
     },
     "metadata": {},
     "output_type": "display_data"
    },
    {
     "data": {
      "text/html": [
       "Run data is saved locally in <code>/workspace/111_BA/2022-2-Business-Analytics-Tutorials/wandb/run-20221103_114230-22g79f4c</code>"
      ],
      "text/plain": [
       "<IPython.core.display.HTML object>"
      ]
     },
     "metadata": {},
     "output_type": "display_data"
    },
    {
     "data": {
      "text/html": [
       "Syncing run <strong><a href=\"https://wandb.ai/ohsuz/2022-2-Business-Analytics-Tutorials/runs/22g79f4c\" target=\"_blank\">youthful-fire-19</a></strong> to <a href=\"https://wandb.ai/ohsuz/2022-2-Business-Analytics-Tutorials\" target=\"_blank\">Weights & Biases</a> (<a href=\"https://wandb.me/run\" target=\"_blank\">docs</a>)<br/>"
      ],
      "text/plain": [
       "<IPython.core.display.HTML object>"
      ]
     },
     "metadata": {},
     "output_type": "display_data"
    },
    {
     "data": {
      "text/html": [
       "Waiting for W&B process to finish... <strong style=\"color:green\">(success).</strong>"
      ],
      "text/plain": [
       "<IPython.core.display.HTML object>"
      ]
     },
     "metadata": {},
     "output_type": "display_data"
    },
    {
     "data": {
      "text/html": [
       "Synced <strong style=\"color:#cdcd00\">youthful-fire-19</strong>: <a href=\"https://wandb.ai/ohsuz/2022-2-Business-Analytics-Tutorials/runs/22g79f4c\" target=\"_blank\">https://wandb.ai/ohsuz/2022-2-Business-Analytics-Tutorials/runs/22g79f4c</a><br/>Synced 4 W&B file(s), 3 media file(s), 3 artifact file(s) and 0 other file(s)"
      ],
      "text/plain": [
       "<IPython.core.display.HTML object>"
      ]
     },
     "metadata": {},
     "output_type": "display_data"
    },
    {
     "data": {
      "text/html": [
       "Find logs at: <code>./wandb/run-20221103_114230-22g79f4c/logs</code>"
      ],
      "text/plain": [
       "<IPython.core.display.HTML object>"
      ]
     },
     "metadata": {},
     "output_type": "display_data"
    },
    {
     "data": {
      "text/html": [
       "Tracking run with wandb version 0.13.4"
      ],
      "text/plain": [
       "<IPython.core.display.HTML object>"
      ]
     },
     "metadata": {},
     "output_type": "display_data"
    },
    {
     "data": {
      "text/html": [
       "Run data is saved locally in <code>/workspace/111_BA/2022-2-Business-Analytics-Tutorials/wandb/run-20221103_114246-8kk6hgp6</code>"
      ],
      "text/plain": [
       "<IPython.core.display.HTML object>"
      ]
     },
     "metadata": {},
     "output_type": "display_data"
    },
    {
     "data": {
      "text/html": [
       "Syncing run <strong><a href=\"https://wandb.ai/ohsuz/2022-2-Business-Analytics-Tutorials/runs/8kk6hgp6\" target=\"_blank\">copper-durian-20</a></strong> to <a href=\"https://wandb.ai/ohsuz/2022-2-Business-Analytics-Tutorials\" target=\"_blank\">Weights & Biases</a> (<a href=\"https://wandb.me/run\" target=\"_blank\">docs</a>)<br/>"
      ],
      "text/plain": [
       "<IPython.core.display.HTML object>"
      ]
     },
     "metadata": {},
     "output_type": "display_data"
    },
    {
     "data": {
      "text/html": [
       "Waiting for W&B process to finish... <strong style=\"color:green\">(success).</strong>"
      ],
      "text/plain": [
       "<IPython.core.display.HTML object>"
      ]
     },
     "metadata": {},
     "output_type": "display_data"
    },
    {
     "data": {
      "text/html": [
       "Synced <strong style=\"color:#cdcd00\">copper-durian-20</strong>: <a href=\"https://wandb.ai/ohsuz/2022-2-Business-Analytics-Tutorials/runs/8kk6hgp6\" target=\"_blank\">https://wandb.ai/ohsuz/2022-2-Business-Analytics-Tutorials/runs/8kk6hgp6</a><br/>Synced 4 W&B file(s), 3 media file(s), 3 artifact file(s) and 0 other file(s)"
      ],
      "text/plain": [
       "<IPython.core.display.HTML object>"
      ]
     },
     "metadata": {},
     "output_type": "display_data"
    },
    {
     "data": {
      "text/html": [
       "Find logs at: <code>./wandb/run-20221103_114246-8kk6hgp6/logs</code>"
      ],
      "text/plain": [
       "<IPython.core.display.HTML object>"
      ]
     },
     "metadata": {},
     "output_type": "display_data"
    }
   ],
   "source": [
    "pk_run_name_degree, pk_preds_degree = [], []\n",
    "\n",
    "poly_args.C = 1  # reset C to default value before changing degree\n",
    "for degree in degree_list:\n",
    "    poly_args.degree = degree\n",
    "    run_name, preds = train_SVM(poly_args, X_train_tfidf, X_test_tfidf, y_train, y_test)\n",
    "    pk_run_name_degree.append(run_name)\n",
    "    pk_preds_degree.append(preds)"
   ]
  },
  {
   "cell_type": "code",
   "execution_count": 36,
   "id": "25424888",
   "metadata": {},
   "outputs": [
    {
     "name": "stdout",
     "output_type": "stream",
     "text": [
      "--------------------\n",
      "Name: kernel_poly_C_1_degree_1_gamma_scale\n",
      "Accuracy: 91.30\n",
      "Precision: 90.04\n",
      "Recall: 87.36\n",
      "F1-Score: 88.68\n",
      "--------------------\n",
      "Name: kernel_poly_C_1_degree_3_gamma_scale\n",
      "Accuracy: 72.46\n",
      "Precision: 97.59\n",
      "Recall: 30.11\n",
      "F1-Score: 46.02\n",
      "--------------------\n",
      "Name: kernel_poly_C_1_degree_5_gamma_scale\n",
      "Accuracy: 61.01\n",
      "Precision: 0.00\n",
      "Recall: 0.00\n",
      "F1-Score: 0.00\n"
     ]
    }
   ],
   "source": [
    "print_result(pk_run_name_degree, pk_preds_degree)"
   ]
  },
  {
   "cell_type": "markdown",
   "id": "dd29e39f",
   "metadata": {},
   "source": [
    "### ③ RBF Kernel\n",
    "> **`C=10`**일 때, Accuracy 기준 **91.45**로 가장 높은 성능을 냈습니다. Polynomial Kernel에서의 해석과 마찬가지로 decision boundary가 데이터에 적절히 피팅되었기 때문이라고 생각합니다.\n",
    "\n",
    "||Accuracy|Precision|Recall|F1-Score|\n",
    "|:---|:---:|:---:|:---:|:---:|\n",
    "|C=0.01|61.01|0.00|0.00|0.00|\n",
    "|C=0.1|61.16|100.00|0.37|0.74|\n",
    "|C=1|90.87|92.56|83.27|87.67|\n",
    "|C=10|**91.45**|91.34|86.25|88.72|\n",
    "\n",
    "> **`gamma=1`**일 때, Accuracy 기준 **90.87**로 가장 높은 성능을 냈습니다. gamma가 작을 땐 단순한 decision boundary가 형성되므로 예측을 제대로 하지 못해서 낮은 성능을 보이고 있고, 반대로 너무 큰 경우에는 학습 데이터에 심하게 오버피팅 되어 낮은 성능을 보이는 것으로 생각됩니다.\n",
    "\n",
    "||Accuracy|Precision|Recall|F1-Score|\n",
    "|:---|:---:|:---:|:---:|:---:|\n",
    "|gamma=0.01|61.01|0.00|0.00|0.00|\n",
    "|gamma=0.1|86.67|93.60|70.63|80.51|\n",
    "|gamma=1|**90.87**|92.56|83.27|87.67|\n",
    "|gamma=10|61.01|0.00|0.00|0.00|"
   ]
  },
  {
   "cell_type": "code",
   "execution_count": 37,
   "id": "17e84058",
   "metadata": {
    "scrolled": true
   },
   "outputs": [
    {
     "data": {
      "text/html": [
       "Tracking run with wandb version 0.13.4"
      ],
      "text/plain": [
       "<IPython.core.display.HTML object>"
      ]
     },
     "metadata": {},
     "output_type": "display_data"
    },
    {
     "data": {
      "text/html": [
       "Run data is saved locally in <code>/workspace/111_BA/2022-2-Business-Analytics-Tutorials/wandb/run-20221103_114420-3qhik10t</code>"
      ],
      "text/plain": [
       "<IPython.core.display.HTML object>"
      ]
     },
     "metadata": {},
     "output_type": "display_data"
    },
    {
     "data": {
      "text/html": [
       "Syncing run <strong><a href=\"https://wandb.ai/ohsuz/2022-2-Business-Analytics-Tutorials/runs/3qhik10t\" target=\"_blank\">avid-surf-21</a></strong> to <a href=\"https://wandb.ai/ohsuz/2022-2-Business-Analytics-Tutorials\" target=\"_blank\">Weights & Biases</a> (<a href=\"https://wandb.me/run\" target=\"_blank\">docs</a>)<br/>"
      ],
      "text/plain": [
       "<IPython.core.display.HTML object>"
      ]
     },
     "metadata": {},
     "output_type": "display_data"
    },
    {
     "data": {
      "text/html": [
       "Waiting for W&B process to finish... <strong style=\"color:green\">(success).</strong>"
      ],
      "text/plain": [
       "<IPython.core.display.HTML object>"
      ]
     },
     "metadata": {},
     "output_type": "display_data"
    },
    {
     "data": {
      "text/html": [
       "Synced <strong style=\"color:#cdcd00\">avid-surf-21</strong>: <a href=\"https://wandb.ai/ohsuz/2022-2-Business-Analytics-Tutorials/runs/3qhik10t\" target=\"_blank\">https://wandb.ai/ohsuz/2022-2-Business-Analytics-Tutorials/runs/3qhik10t</a><br/>Synced 4 W&B file(s), 3 media file(s), 3 artifact file(s) and 0 other file(s)"
      ],
      "text/plain": [
       "<IPython.core.display.HTML object>"
      ]
     },
     "metadata": {},
     "output_type": "display_data"
    },
    {
     "data": {
      "text/html": [
       "Find logs at: <code>./wandb/run-20221103_114420-3qhik10t/logs</code>"
      ],
      "text/plain": [
       "<IPython.core.display.HTML object>"
      ]
     },
     "metadata": {},
     "output_type": "display_data"
    },
    {
     "data": {
      "text/html": [
       "Tracking run with wandb version 0.13.4"
      ],
      "text/plain": [
       "<IPython.core.display.HTML object>"
      ]
     },
     "metadata": {},
     "output_type": "display_data"
    },
    {
     "data": {
      "text/html": [
       "Run data is saved locally in <code>/workspace/111_BA/2022-2-Business-Analytics-Tutorials/wandb/run-20221103_114437-2873qu20</code>"
      ],
      "text/plain": [
       "<IPython.core.display.HTML object>"
      ]
     },
     "metadata": {},
     "output_type": "display_data"
    },
    {
     "data": {
      "text/html": [
       "Syncing run <strong><a href=\"https://wandb.ai/ohsuz/2022-2-Business-Analytics-Tutorials/runs/2873qu20\" target=\"_blank\">wise-sun-22</a></strong> to <a href=\"https://wandb.ai/ohsuz/2022-2-Business-Analytics-Tutorials\" target=\"_blank\">Weights & Biases</a> (<a href=\"https://wandb.me/run\" target=\"_blank\">docs</a>)<br/>"
      ],
      "text/plain": [
       "<IPython.core.display.HTML object>"
      ]
     },
     "metadata": {},
     "output_type": "display_data"
    },
    {
     "data": {
      "text/html": [
       "Waiting for W&B process to finish... <strong style=\"color:green\">(success).</strong>"
      ],
      "text/plain": [
       "<IPython.core.display.HTML object>"
      ]
     },
     "metadata": {},
     "output_type": "display_data"
    },
    {
     "data": {
      "text/html": [
       "Synced <strong style=\"color:#cdcd00\">wise-sun-22</strong>: <a href=\"https://wandb.ai/ohsuz/2022-2-Business-Analytics-Tutorials/runs/2873qu20\" target=\"_blank\">https://wandb.ai/ohsuz/2022-2-Business-Analytics-Tutorials/runs/2873qu20</a><br/>Synced 4 W&B file(s), 3 media file(s), 3 artifact file(s) and 0 other file(s)"
      ],
      "text/plain": [
       "<IPython.core.display.HTML object>"
      ]
     },
     "metadata": {},
     "output_type": "display_data"
    },
    {
     "data": {
      "text/html": [
       "Find logs at: <code>./wandb/run-20221103_114437-2873qu20/logs</code>"
      ],
      "text/plain": [
       "<IPython.core.display.HTML object>"
      ]
     },
     "metadata": {},
     "output_type": "display_data"
    },
    {
     "data": {
      "text/html": [
       "Tracking run with wandb version 0.13.4"
      ],
      "text/plain": [
       "<IPython.core.display.HTML object>"
      ]
     },
     "metadata": {},
     "output_type": "display_data"
    },
    {
     "data": {
      "text/html": [
       "Run data is saved locally in <code>/workspace/111_BA/2022-2-Business-Analytics-Tutorials/wandb/run-20221103_114452-22qr2l0m</code>"
      ],
      "text/plain": [
       "<IPython.core.display.HTML object>"
      ]
     },
     "metadata": {},
     "output_type": "display_data"
    },
    {
     "data": {
      "text/html": [
       "Syncing run <strong><a href=\"https://wandb.ai/ohsuz/2022-2-Business-Analytics-Tutorials/runs/22qr2l0m\" target=\"_blank\">cosmic-silence-23</a></strong> to <a href=\"https://wandb.ai/ohsuz/2022-2-Business-Analytics-Tutorials\" target=\"_blank\">Weights & Biases</a> (<a href=\"https://wandb.me/run\" target=\"_blank\">docs</a>)<br/>"
      ],
      "text/plain": [
       "<IPython.core.display.HTML object>"
      ]
     },
     "metadata": {},
     "output_type": "display_data"
    },
    {
     "data": {
      "text/html": [
       "Waiting for W&B process to finish... <strong style=\"color:green\">(success).</strong>"
      ],
      "text/plain": [
       "<IPython.core.display.HTML object>"
      ]
     },
     "metadata": {},
     "output_type": "display_data"
    },
    {
     "data": {
      "text/html": [
       "Synced <strong style=\"color:#cdcd00\">cosmic-silence-23</strong>: <a href=\"https://wandb.ai/ohsuz/2022-2-Business-Analytics-Tutorials/runs/22qr2l0m\" target=\"_blank\">https://wandb.ai/ohsuz/2022-2-Business-Analytics-Tutorials/runs/22qr2l0m</a><br/>Synced 4 W&B file(s), 3 media file(s), 3 artifact file(s) and 0 other file(s)"
      ],
      "text/plain": [
       "<IPython.core.display.HTML object>"
      ]
     },
     "metadata": {},
     "output_type": "display_data"
    },
    {
     "data": {
      "text/html": [
       "Find logs at: <code>./wandb/run-20221103_114452-22qr2l0m/logs</code>"
      ],
      "text/plain": [
       "<IPython.core.display.HTML object>"
      ]
     },
     "metadata": {},
     "output_type": "display_data"
    },
    {
     "data": {
      "text/html": [
       "Tracking run with wandb version 0.13.4"
      ],
      "text/plain": [
       "<IPython.core.display.HTML object>"
      ]
     },
     "metadata": {},
     "output_type": "display_data"
    },
    {
     "data": {
      "text/html": [
       "Run data is saved locally in <code>/workspace/111_BA/2022-2-Business-Analytics-Tutorials/wandb/run-20221103_114509-32tdjz99</code>"
      ],
      "text/plain": [
       "<IPython.core.display.HTML object>"
      ]
     },
     "metadata": {},
     "output_type": "display_data"
    },
    {
     "data": {
      "text/html": [
       "Syncing run <strong><a href=\"https://wandb.ai/ohsuz/2022-2-Business-Analytics-Tutorials/runs/32tdjz99\" target=\"_blank\">proud-sunset-24</a></strong> to <a href=\"https://wandb.ai/ohsuz/2022-2-Business-Analytics-Tutorials\" target=\"_blank\">Weights & Biases</a> (<a href=\"https://wandb.me/run\" target=\"_blank\">docs</a>)<br/>"
      ],
      "text/plain": [
       "<IPython.core.display.HTML object>"
      ]
     },
     "metadata": {},
     "output_type": "display_data"
    },
    {
     "data": {
      "text/html": [
       "Waiting for W&B process to finish... <strong style=\"color:green\">(success).</strong>"
      ],
      "text/plain": [
       "<IPython.core.display.HTML object>"
      ]
     },
     "metadata": {},
     "output_type": "display_data"
    },
    {
     "data": {
      "text/html": [
       "Synced <strong style=\"color:#cdcd00\">proud-sunset-24</strong>: <a href=\"https://wandb.ai/ohsuz/2022-2-Business-Analytics-Tutorials/runs/32tdjz99\" target=\"_blank\">https://wandb.ai/ohsuz/2022-2-Business-Analytics-Tutorials/runs/32tdjz99</a><br/>Synced 4 W&B file(s), 3 media file(s), 3 artifact file(s) and 0 other file(s)"
      ],
      "text/plain": [
       "<IPython.core.display.HTML object>"
      ]
     },
     "metadata": {},
     "output_type": "display_data"
    },
    {
     "data": {
      "text/html": [
       "Find logs at: <code>./wandb/run-20221103_114509-32tdjz99/logs</code>"
      ],
      "text/plain": [
       "<IPython.core.display.HTML object>"
      ]
     },
     "metadata": {},
     "output_type": "display_data"
    }
   ],
   "source": [
    "rk_run_name_c, rk_preds_c = [], []\n",
    "\n",
    "for C in C_list:\n",
    "    rbf_args.C = C\n",
    "    run_name, preds = train_SVM(rbf_args, X_train_tfidf, X_test_tfidf, y_train, y_test)\n",
    "    rk_run_name_c.append(run_name)\n",
    "    rk_preds_c.append(preds)"
   ]
  },
  {
   "cell_type": "code",
   "execution_count": 38,
   "id": "f0bf147d",
   "metadata": {},
   "outputs": [
    {
     "name": "stdout",
     "output_type": "stream",
     "text": [
      "--------------------\n",
      "Name: kernel_rbf_C_0.01_degree_3_gamma_scale\n",
      "Accuracy: 61.01\n",
      "Precision: 0.00\n",
      "Recall: 0.00\n",
      "F1-Score: 0.00\n",
      "--------------------\n",
      "Name: kernel_rbf_C_0.1_degree_3_gamma_scale\n",
      "Accuracy: 61.16\n",
      "Precision: 100.00\n",
      "Recall: 0.37\n",
      "F1-Score: 0.74\n",
      "--------------------\n",
      "Name: kernel_rbf_C_1_degree_3_gamma_scale\n",
      "Accuracy: 90.87\n",
      "Precision: 92.56\n",
      "Recall: 83.27\n",
      "F1-Score: 87.67\n",
      "--------------------\n",
      "Name: kernel_rbf_C_10_degree_3_gamma_scale\n",
      "Accuracy: 91.45\n",
      "Precision: 91.34\n",
      "Recall: 86.25\n",
      "F1-Score: 88.72\n"
     ]
    }
   ],
   "source": [
    "print_result(rk_run_name_c, rk_preds_c)"
   ]
  },
  {
   "cell_type": "code",
   "execution_count": 39,
   "id": "ea9f07f6",
   "metadata": {
    "scrolled": true
   },
   "outputs": [
    {
     "data": {
      "text/html": [
       "Tracking run with wandb version 0.13.4"
      ],
      "text/plain": [
       "<IPython.core.display.HTML object>"
      ]
     },
     "metadata": {},
     "output_type": "display_data"
    },
    {
     "data": {
      "text/html": [
       "Run data is saved locally in <code>/workspace/111_BA/2022-2-Business-Analytics-Tutorials/wandb/run-20221103_114525-3qsii2wx</code>"
      ],
      "text/plain": [
       "<IPython.core.display.HTML object>"
      ]
     },
     "metadata": {},
     "output_type": "display_data"
    },
    {
     "data": {
      "text/html": [
       "Syncing run <strong><a href=\"https://wandb.ai/ohsuz/2022-2-Business-Analytics-Tutorials/runs/3qsii2wx\" target=\"_blank\">expert-totem-25</a></strong> to <a href=\"https://wandb.ai/ohsuz/2022-2-Business-Analytics-Tutorials\" target=\"_blank\">Weights & Biases</a> (<a href=\"https://wandb.me/run\" target=\"_blank\">docs</a>)<br/>"
      ],
      "text/plain": [
       "<IPython.core.display.HTML object>"
      ]
     },
     "metadata": {},
     "output_type": "display_data"
    },
    {
     "data": {
      "text/html": [
       "Waiting for W&B process to finish... <strong style=\"color:green\">(success).</strong>"
      ],
      "text/plain": [
       "<IPython.core.display.HTML object>"
      ]
     },
     "metadata": {},
     "output_type": "display_data"
    },
    {
     "data": {
      "text/html": [
       "Synced <strong style=\"color:#cdcd00\">expert-totem-25</strong>: <a href=\"https://wandb.ai/ohsuz/2022-2-Business-Analytics-Tutorials/runs/3qsii2wx\" target=\"_blank\">https://wandb.ai/ohsuz/2022-2-Business-Analytics-Tutorials/runs/3qsii2wx</a><br/>Synced 4 W&B file(s), 3 media file(s), 3 artifact file(s) and 0 other file(s)"
      ],
      "text/plain": [
       "<IPython.core.display.HTML object>"
      ]
     },
     "metadata": {},
     "output_type": "display_data"
    },
    {
     "data": {
      "text/html": [
       "Find logs at: <code>./wandb/run-20221103_114525-3qsii2wx/logs</code>"
      ],
      "text/plain": [
       "<IPython.core.display.HTML object>"
      ]
     },
     "metadata": {},
     "output_type": "display_data"
    },
    {
     "data": {
      "text/html": [
       "Tracking run with wandb version 0.13.4"
      ],
      "text/plain": [
       "<IPython.core.display.HTML object>"
      ]
     },
     "metadata": {},
     "output_type": "display_data"
    },
    {
     "data": {
      "text/html": [
       "Run data is saved locally in <code>/workspace/111_BA/2022-2-Business-Analytics-Tutorials/wandb/run-20221103_114540-s8uaxppm</code>"
      ],
      "text/plain": [
       "<IPython.core.display.HTML object>"
      ]
     },
     "metadata": {},
     "output_type": "display_data"
    },
    {
     "data": {
      "text/html": [
       "Syncing run <strong><a href=\"https://wandb.ai/ohsuz/2022-2-Business-Analytics-Tutorials/runs/s8uaxppm\" target=\"_blank\">fancy-bush-26</a></strong> to <a href=\"https://wandb.ai/ohsuz/2022-2-Business-Analytics-Tutorials\" target=\"_blank\">Weights & Biases</a> (<a href=\"https://wandb.me/run\" target=\"_blank\">docs</a>)<br/>"
      ],
      "text/plain": [
       "<IPython.core.display.HTML object>"
      ]
     },
     "metadata": {},
     "output_type": "display_data"
    },
    {
     "data": {
      "text/html": [
       "Waiting for W&B process to finish... <strong style=\"color:green\">(success).</strong>"
      ],
      "text/plain": [
       "<IPython.core.display.HTML object>"
      ]
     },
     "metadata": {},
     "output_type": "display_data"
    },
    {
     "data": {
      "text/html": [
       "Synced <strong style=\"color:#cdcd00\">fancy-bush-26</strong>: <a href=\"https://wandb.ai/ohsuz/2022-2-Business-Analytics-Tutorials/runs/s8uaxppm\" target=\"_blank\">https://wandb.ai/ohsuz/2022-2-Business-Analytics-Tutorials/runs/s8uaxppm</a><br/>Synced 4 W&B file(s), 3 media file(s), 3 artifact file(s) and 0 other file(s)"
      ],
      "text/plain": [
       "<IPython.core.display.HTML object>"
      ]
     },
     "metadata": {},
     "output_type": "display_data"
    },
    {
     "data": {
      "text/html": [
       "Find logs at: <code>./wandb/run-20221103_114540-s8uaxppm/logs</code>"
      ],
      "text/plain": [
       "<IPython.core.display.HTML object>"
      ]
     },
     "metadata": {},
     "output_type": "display_data"
    },
    {
     "data": {
      "text/html": [
       "Tracking run with wandb version 0.13.4"
      ],
      "text/plain": [
       "<IPython.core.display.HTML object>"
      ]
     },
     "metadata": {},
     "output_type": "display_data"
    },
    {
     "data": {
      "text/html": [
       "Run data is saved locally in <code>/workspace/111_BA/2022-2-Business-Analytics-Tutorials/wandb/run-20221103_114557-3gy8kq7q</code>"
      ],
      "text/plain": [
       "<IPython.core.display.HTML object>"
      ]
     },
     "metadata": {},
     "output_type": "display_data"
    },
    {
     "data": {
      "text/html": [
       "Syncing run <strong><a href=\"https://wandb.ai/ohsuz/2022-2-Business-Analytics-Tutorials/runs/3gy8kq7q\" target=\"_blank\">leafy-wave-27</a></strong> to <a href=\"https://wandb.ai/ohsuz/2022-2-Business-Analytics-Tutorials\" target=\"_blank\">Weights & Biases</a> (<a href=\"https://wandb.me/run\" target=\"_blank\">docs</a>)<br/>"
      ],
      "text/plain": [
       "<IPython.core.display.HTML object>"
      ]
     },
     "metadata": {},
     "output_type": "display_data"
    },
    {
     "data": {
      "text/html": [
       "Waiting for W&B process to finish... <strong style=\"color:green\">(success).</strong>"
      ],
      "text/plain": [
       "<IPython.core.display.HTML object>"
      ]
     },
     "metadata": {},
     "output_type": "display_data"
    },
    {
     "data": {
      "text/html": [
       "Synced <strong style=\"color:#cdcd00\">leafy-wave-27</strong>: <a href=\"https://wandb.ai/ohsuz/2022-2-Business-Analytics-Tutorials/runs/3gy8kq7q\" target=\"_blank\">https://wandb.ai/ohsuz/2022-2-Business-Analytics-Tutorials/runs/3gy8kq7q</a><br/>Synced 4 W&B file(s), 3 media file(s), 3 artifact file(s) and 0 other file(s)"
      ],
      "text/plain": [
       "<IPython.core.display.HTML object>"
      ]
     },
     "metadata": {},
     "output_type": "display_data"
    },
    {
     "data": {
      "text/html": [
       "Find logs at: <code>./wandb/run-20221103_114557-3gy8kq7q/logs</code>"
      ],
      "text/plain": [
       "<IPython.core.display.HTML object>"
      ]
     },
     "metadata": {},
     "output_type": "display_data"
    },
    {
     "data": {
      "text/html": [
       "Tracking run with wandb version 0.13.4"
      ],
      "text/plain": [
       "<IPython.core.display.HTML object>"
      ]
     },
     "metadata": {},
     "output_type": "display_data"
    },
    {
     "data": {
      "text/html": [
       "Run data is saved locally in <code>/workspace/111_BA/2022-2-Business-Analytics-Tutorials/wandb/run-20221103_114614-299xugtt</code>"
      ],
      "text/plain": [
       "<IPython.core.display.HTML object>"
      ]
     },
     "metadata": {},
     "output_type": "display_data"
    },
    {
     "data": {
      "text/html": [
       "Syncing run <strong><a href=\"https://wandb.ai/ohsuz/2022-2-Business-Analytics-Tutorials/runs/299xugtt\" target=\"_blank\">youthful-frost-28</a></strong> to <a href=\"https://wandb.ai/ohsuz/2022-2-Business-Analytics-Tutorials\" target=\"_blank\">Weights & Biases</a> (<a href=\"https://wandb.me/run\" target=\"_blank\">docs</a>)<br/>"
      ],
      "text/plain": [
       "<IPython.core.display.HTML object>"
      ]
     },
     "metadata": {},
     "output_type": "display_data"
    },
    {
     "data": {
      "text/html": [
       "Waiting for W&B process to finish... <strong style=\"color:green\">(success).</strong>"
      ],
      "text/plain": [
       "<IPython.core.display.HTML object>"
      ]
     },
     "metadata": {},
     "output_type": "display_data"
    },
    {
     "data": {
      "text/html": [
       "Synced <strong style=\"color:#cdcd00\">youthful-frost-28</strong>: <a href=\"https://wandb.ai/ohsuz/2022-2-Business-Analytics-Tutorials/runs/299xugtt\" target=\"_blank\">https://wandb.ai/ohsuz/2022-2-Business-Analytics-Tutorials/runs/299xugtt</a><br/>Synced 4 W&B file(s), 3 media file(s), 3 artifact file(s) and 0 other file(s)"
      ],
      "text/plain": [
       "<IPython.core.display.HTML object>"
      ]
     },
     "metadata": {},
     "output_type": "display_data"
    },
    {
     "data": {
      "text/html": [
       "Find logs at: <code>./wandb/run-20221103_114614-299xugtt/logs</code>"
      ],
      "text/plain": [
       "<IPython.core.display.HTML object>"
      ]
     },
     "metadata": {},
     "output_type": "display_data"
    }
   ],
   "source": [
    "rk_run_name_gamma, rk_preds_gamma = [], []\n",
    "\n",
    "rbf_args.C = 1  # reset C to default value before changing gamma\n",
    "for gamma in gamma_list:\n",
    "    rbf_args.gamma = gamma\n",
    "    run_name, preds = train_SVM(rbf_args, X_train_tfidf, X_test_tfidf, y_train, y_test)\n",
    "    rk_run_name_gamma.append(run_name)\n",
    "    rk_preds_gamma.append(preds)"
   ]
  },
  {
   "cell_type": "code",
   "execution_count": 40,
   "id": "18a0d41d",
   "metadata": {
    "scrolled": true
   },
   "outputs": [
    {
     "name": "stdout",
     "output_type": "stream",
     "text": [
      "--------------------\n",
      "Name: kernel_rbf_C_1_degree_3_gamma_0.01\n",
      "Accuracy: 61.01\n",
      "Precision: 0.00\n",
      "Recall: 0.00\n",
      "F1-Score: 0.00\n",
      "--------------------\n",
      "Name: kernel_rbf_C_1_degree_3_gamma_0.1\n",
      "Accuracy: 86.67\n",
      "Precision: 93.60\n",
      "Recall: 70.63\n",
      "F1-Score: 80.51\n",
      "--------------------\n",
      "Name: kernel_rbf_C_1_degree_3_gamma_1\n",
      "Accuracy: 90.87\n",
      "Precision: 92.56\n",
      "Recall: 83.27\n",
      "F1-Score: 87.67\n",
      "--------------------\n",
      "Name: kernel_rbf_C_1_degree_3_gamma_10\n",
      "Accuracy: 61.01\n",
      "Precision: 0.00\n",
      "Recall: 0.00\n",
      "F1-Score: 0.00\n"
     ]
    }
   ],
   "source": [
    "print_result(rk_run_name_gamma, rk_preds_gamma)"
   ]
  },
  {
   "cell_type": "markdown",
   "id": "279e6596",
   "metadata": {},
   "source": [
    "## 4️⃣ Text Embedding 방식에 따른 성능 변화 분석\n",
    "> TF-IDF embedding을 이용했을 때 Accuracy 기준 **91.45**로 가장 좋은 성능을 냈던 **`RBF kernel(C=10)`** 설정에 대해 BERT Embedding의 성능을 확인해본 결과, BERT의 Avg Embedding이 TF-IDF보다 Accuracy 기준 약 0.3 낮은 성능을 보였습니다. BERT embedding을 활용했을 때보다 TF-IDF embedding을 활용했을 때 더 높은 성능을 보인 결과에 대한 개인적인 해석은 다음과 같습니다.  \n",
    ">1. 실험에서 사용한 bert-base-uncased 모델이 다른 PLM들에 비해 모델 크기도 작고, 학습한 데이터도 작은 모델입니다. 만약 더 큰 corpus로 학습한 RoBERTa와 같은 모델을 활용했다면 더 높은 성능을 낼 수 있었을 거라고 생각합니다.\n",
    ">2. 여러 layer의 token representation을 활용한 다른 논문과 달리 전 마지막 layer의 token representation만 사용했습니다. 다른 논문들처럼 여러 layer의 output들을 평균내는 추가적인 방식을 취했다면 각 token별 더 다양한 representation을 반영할 수 있으므로 더 높은 성능을 낼 수 있었을 거라고 생각합니다.\n",
    ">3. TF-IDF를 위해 구축된 DTM, 즉 Vocab의 개수가 4,981개로 크지 않습니다. 또한 각 학회별 자주 등장한 단어를 시각화했을 때 자주 등장한 단어간 차이가 뚜렷했으므로 TF-IDF embedding이 좋은 성능을 낼 수 있었다고 생각합니다.\n",
    "\n",
    "\n",
    "||Accuracy|Precision|Recall|F1-Score|\n",
    "|:---|:---:|:---:|:---:|:---:|\n",
    "|TF-IDF|**91.45**|91.34|86.25|88.72|\n",
    "|BERT(cls)|85.07|83.74|76.58|80.00|\n",
    "|BERT(avg)|88.99|87.55|83.64|85.55|"
   ]
  },
  {
   "cell_type": "code",
   "execution_count": 50,
   "id": "a66eb633",
   "metadata": {},
   "outputs": [],
   "source": [
    "best_args = easydict.EasyDict({\n",
    "    \"kernel\" : \"rbf\",\n",
    "    \"C\" : 10,\n",
    "    \"degree\" : 3,\n",
    "    \"gamma\" : \"scale\"\n",
    "})"
   ]
  },
  {
   "cell_type": "markdown",
   "id": "4f4c69f8",
   "metadata": {},
   "source": [
    "### ① BERT embeddings : [CLS]"
   ]
  },
  {
   "cell_type": "code",
   "execution_count": 51,
   "id": "f52fa217",
   "metadata": {},
   "outputs": [
    {
     "data": {
      "text/html": [
       "Tracking run with wandb version 0.13.4"
      ],
      "text/plain": [
       "<IPython.core.display.HTML object>"
      ]
     },
     "metadata": {},
     "output_type": "display_data"
    },
    {
     "data": {
      "text/html": [
       "Run data is saved locally in <code>/workspace/111_BA/2022-2-Business-Analytics-Tutorials/wandb/run-20221103_120508-6ulz7s0e</code>"
      ],
      "text/plain": [
       "<IPython.core.display.HTML object>"
      ]
     },
     "metadata": {},
     "output_type": "display_data"
    },
    {
     "data": {
      "text/html": [
       "Syncing run <strong><a href=\"https://wandb.ai/ohsuz/2022-2-Business-Analytics-Tutorials/runs/6ulz7s0e\" target=\"_blank\">misty-flower-30</a></strong> to <a href=\"https://wandb.ai/ohsuz/2022-2-Business-Analytics-Tutorials\" target=\"_blank\">Weights & Biases</a> (<a href=\"https://wandb.me/run\" target=\"_blank\">docs</a>)<br/>"
      ],
      "text/plain": [
       "<IPython.core.display.HTML object>"
      ]
     },
     "metadata": {},
     "output_type": "display_data"
    },
    {
     "data": {
      "text/html": [
       "Waiting for W&B process to finish... <strong style=\"color:green\">(success).</strong>"
      ],
      "text/plain": [
       "<IPython.core.display.HTML object>"
      ]
     },
     "metadata": {},
     "output_type": "display_data"
    },
    {
     "data": {
      "text/html": [
       "Synced <strong style=\"color:#cdcd00\">misty-flower-30</strong>: <a href=\"https://wandb.ai/ohsuz/2022-2-Business-Analytics-Tutorials/runs/6ulz7s0e\" target=\"_blank\">https://wandb.ai/ohsuz/2022-2-Business-Analytics-Tutorials/runs/6ulz7s0e</a><br/>Synced 4 W&B file(s), 3 media file(s), 3 artifact file(s) and 0 other file(s)"
      ],
      "text/plain": [
       "<IPython.core.display.HTML object>"
      ]
     },
     "metadata": {},
     "output_type": "display_data"
    },
    {
     "data": {
      "text/html": [
       "Find logs at: <code>./wandb/run-20221103_120508-6ulz7s0e/logs</code>"
      ],
      "text/plain": [
       "<IPython.core.display.HTML object>"
      ]
     },
     "metadata": {},
     "output_type": "display_data"
    }
   ],
   "source": [
    "cls_run_name, cls_preds = train_SVM(best_args, X_train_cls, X_test_cls, y_train, y_test)"
   ]
  },
  {
   "cell_type": "code",
   "execution_count": 53,
   "id": "5f57b1e4",
   "metadata": {},
   "outputs": [
    {
     "name": "stdout",
     "output_type": "stream",
     "text": [
      "--------------------\n",
      "Name: kernel_rbf_C_10_degree_3_gamma_scale\n",
      "Accuracy: 85.07\n",
      "Precision: 83.74\n",
      "Recall: 76.58\n",
      "F1-Score: 80.00\n"
     ]
    }
   ],
   "source": [
    "print_result([cls_run_name], [cls_preds])"
   ]
  },
  {
   "cell_type": "markdown",
   "id": "f1facb8d",
   "metadata": {},
   "source": [
    "### ② BERT embeddings : Avg"
   ]
  },
  {
   "cell_type": "code",
   "execution_count": 54,
   "id": "fdba562e",
   "metadata": {},
   "outputs": [
    {
     "data": {
      "text/html": [
       "Tracking run with wandb version 0.13.4"
      ],
      "text/plain": [
       "<IPython.core.display.HTML object>"
      ]
     },
     "metadata": {},
     "output_type": "display_data"
    },
    {
     "data": {
      "text/html": [
       "Run data is saved locally in <code>/workspace/111_BA/2022-2-Business-Analytics-Tutorials/wandb/run-20221103_120602-3pkp7pfa</code>"
      ],
      "text/plain": [
       "<IPython.core.display.HTML object>"
      ]
     },
     "metadata": {},
     "output_type": "display_data"
    },
    {
     "data": {
      "text/html": [
       "Syncing run <strong><a href=\"https://wandb.ai/ohsuz/2022-2-Business-Analytics-Tutorials/runs/3pkp7pfa\" target=\"_blank\">valiant-gorge-31</a></strong> to <a href=\"https://wandb.ai/ohsuz/2022-2-Business-Analytics-Tutorials\" target=\"_blank\">Weights & Biases</a> (<a href=\"https://wandb.me/run\" target=\"_blank\">docs</a>)<br/>"
      ],
      "text/plain": [
       "<IPython.core.display.HTML object>"
      ]
     },
     "metadata": {},
     "output_type": "display_data"
    },
    {
     "data": {
      "text/html": [
       "Waiting for W&B process to finish... <strong style=\"color:green\">(success).</strong>"
      ],
      "text/plain": [
       "<IPython.core.display.HTML object>"
      ]
     },
     "metadata": {},
     "output_type": "display_data"
    },
    {
     "data": {
      "text/html": [
       "Synced <strong style=\"color:#cdcd00\">valiant-gorge-31</strong>: <a href=\"https://wandb.ai/ohsuz/2022-2-Business-Analytics-Tutorials/runs/3pkp7pfa\" target=\"_blank\">https://wandb.ai/ohsuz/2022-2-Business-Analytics-Tutorials/runs/3pkp7pfa</a><br/>Synced 4 W&B file(s), 3 media file(s), 3 artifact file(s) and 0 other file(s)"
      ],
      "text/plain": [
       "<IPython.core.display.HTML object>"
      ]
     },
     "metadata": {},
     "output_type": "display_data"
    },
    {
     "data": {
      "text/html": [
       "Find logs at: <code>./wandb/run-20221103_120602-3pkp7pfa/logs</code>"
      ],
      "text/plain": [
       "<IPython.core.display.HTML object>"
      ]
     },
     "metadata": {},
     "output_type": "display_data"
    }
   ],
   "source": [
    "avg_run_name, avg_preds = train_SVM(best_args, X_train_avg, X_test_avg, y_train, y_test)"
   ]
  },
  {
   "cell_type": "code",
   "execution_count": 56,
   "id": "605ae605",
   "metadata": {
    "scrolled": true
   },
   "outputs": [
    {
     "name": "stdout",
     "output_type": "stream",
     "text": [
      "--------------------\n",
      "Name: kernel_rbf_C_10_degree_3_gamma_scale\n",
      "Accuracy: 88.99\n",
      "Precision: 87.55\n",
      "Recall: 83.64\n",
      "F1-Score: 85.55\n"
     ]
    }
   ],
   "source": [
    "print_result([avg_run_name], [avg_preds])"
   ]
  },
  {
   "cell_type": "markdown",
   "id": "ade5e1b4",
   "metadata": {},
   "source": [
    "> 최신 데이터를 가지고 관심 분야의 SVM 성능을 확인할 수 있었던 재밌는 시간이었습니다. 그럼 다음 튜토리얼에 **`Anomaly Detection`**으로 다시 찾아뵙겠습니다.\n",
    "\n",
    "<img src=\"images/9_turtle.png\" width=\"300\">"
   ]
  },
  {
   "cell_type": "markdown",
   "id": "0d964955",
   "metadata": {},
   "source": [
    "> 🔐 https://wandb.ai/ohsuz/2022-2-Business-Analytics-Tutorials 를 방문하면 노트북에서 진행한 모든 실험에 대한 ROC Curve, Confusion Matrix를 시각적으로 확인할 수 있습니다.\n",
    "\n",
    "\n",
    "<img src=\"images/wandb_kernel.png\" width=\"500\">"
   ]
  },
  {
   "cell_type": "code",
   "execution_count": null,
   "id": "a81cb8bb",
   "metadata": {},
   "outputs": [],
   "source": []
  }
 ],
 "metadata": {
  "kernelspec": {
   "display_name": "Python 3 (ipykernel)",
   "language": "python",
   "name": "python3"
  },
  "language_info": {
   "codemirror_mode": {
    "name": "ipython",
    "version": 3
   },
   "file_extension": ".py",
   "mimetype": "text/x-python",
   "name": "python",
   "nbconvert_exporter": "python",
   "pygments_lexer": "ipython3",
   "version": "3.8.10"
  }
 },
 "nbformat": 4,
 "nbformat_minor": 5
}
